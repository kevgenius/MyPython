{
 "cells": [
  {
   "cell_type": "code",
   "execution_count": 1,
   "id": "af0dcb1e",
   "metadata": {},
   "outputs": [],
   "source": [
    "#NUMBERS "
   ]
  },
  {
   "cell_type": "code",
   "execution_count": 2,
   "id": "0c4b50bd",
   "metadata": {},
   "outputs": [
    {
     "data": {
      "text/plain": [
       "3"
      ]
     },
     "execution_count": 2,
     "metadata": {},
     "output_type": "execute_result"
    }
   ],
   "source": [
    "1 + 2"
   ]
  },
  {
   "cell_type": "code",
   "execution_count": 3,
   "id": "0efe45c3",
   "metadata": {},
   "outputs": [
    {
     "data": {
      "text/plain": [
       "3.0"
      ]
     },
     "execution_count": 3,
     "metadata": {},
     "output_type": "execute_result"
    }
   ],
   "source": [
    "1.0 + 2"
   ]
  },
  {
   "cell_type": "code",
   "execution_count": 4,
   "id": "f67ec5ec",
   "metadata": {},
   "outputs": [
    {
     "data": {
      "text/plain": [
       "6"
      ]
     },
     "execution_count": 4,
     "metadata": {},
     "output_type": "execute_result"
    }
   ],
   "source": [
    "10 - 4"
   ]
  },
  {
   "cell_type": "code",
   "execution_count": 5,
   "id": "60fad798",
   "metadata": {},
   "outputs": [
    {
     "data": {
      "text/plain": [
       "8"
      ]
     },
     "execution_count": 5,
     "metadata": {},
     "output_type": "execute_result"
    }
   ],
   "source": [
    "2 ** 3"
   ]
  },
  {
   "cell_type": "code",
   "execution_count": 6,
   "id": "09c3a44f",
   "metadata": {},
   "outputs": [
    {
     "data": {
      "text/plain": [
       "3.3333333333333335"
      ]
     },
     "execution_count": 6,
     "metadata": {},
     "output_type": "execute_result"
    }
   ],
   "source": [
    "10 / 3"
   ]
  },
  {
   "cell_type": "code",
   "execution_count": 7,
   "id": "da3a62a5",
   "metadata": {},
   "outputs": [
    {
     "data": {
      "text/plain": [
       "3.3333333333333335"
      ]
     },
     "execution_count": 7,
     "metadata": {},
     "output_type": "execute_result"
    }
   ],
   "source": [
    "10/3.0"
   ]
  },
  {
   "cell_type": "code",
   "execution_count": 8,
   "id": "abc9b7a8",
   "metadata": {},
   "outputs": [
    {
     "data": {
      "text/plain": [
       "3.33"
      ]
     },
     "execution_count": 8,
     "metadata": {},
     "output_type": "execute_result"
    }
   ],
   "source": [
    "round(10/3.0, 2)"
   ]
  },
  {
   "cell_type": "code",
   "execution_count": 9,
   "id": "88624b2b",
   "metadata": {},
   "outputs": [
    {
     "data": {
      "text/plain": [
       "3.3333"
      ]
     },
     "execution_count": 9,
     "metadata": {},
     "output_type": "execute_result"
    }
   ],
   "source": [
    "round(10/3, 4)"
   ]
  },
  {
   "cell_type": "code",
   "execution_count": 10,
   "id": "03b3673f",
   "metadata": {},
   "outputs": [
    {
     "data": {
      "text/plain": [
       "1"
      ]
     },
     "execution_count": 10,
     "metadata": {},
     "output_type": "execute_result"
    }
   ],
   "source": [
    "10 % 3"
   ]
  },
  {
   "cell_type": "code",
   "execution_count": 11,
   "id": "7abe4a7a",
   "metadata": {},
   "outputs": [
    {
     "data": {
      "text/plain": [
       "2"
      ]
     },
     "execution_count": 11,
     "metadata": {},
     "output_type": "execute_result"
    }
   ],
   "source": [
    "10 % 4"
   ]
  },
  {
   "cell_type": "code",
   "execution_count": 12,
   "id": "517c9884",
   "metadata": {},
   "outputs": [
    {
     "data": {
      "text/plain": [
       "True"
      ]
     },
     "execution_count": 12,
     "metadata": {},
     "output_type": "execute_result"
    }
   ],
   "source": [
    "10 > 3"
   ]
  },
  {
   "cell_type": "code",
   "execution_count": 13,
   "id": "ef276553",
   "metadata": {},
   "outputs": [
    {
     "data": {
      "text/plain": [
       "False"
      ]
     },
     "execution_count": 13,
     "metadata": {},
     "output_type": "execute_result"
    }
   ],
   "source": [
    "10 < 3"
   ]
  },
  {
   "cell_type": "code",
   "execution_count": null,
   "id": "cc95463e",
   "metadata": {},
   "outputs": [],
   "source": []
  },
  {
   "cell_type": "code",
   "execution_count": 14,
   "id": "3c5196a8",
   "metadata": {},
   "outputs": [
    {
     "data": {
      "text/plain": [
       "True"
      ]
     },
     "execution_count": 14,
     "metadata": {},
     "output_type": "execute_result"
    }
   ],
   "source": [
    "10 == 10.0"
   ]
  },
  {
   "cell_type": "code",
   "execution_count": 15,
   "id": "25f329c9",
   "metadata": {},
   "outputs": [],
   "source": [
    "a = \"11\""
   ]
  },
  {
   "cell_type": "code",
   "execution_count": 16,
   "id": "98a4fa71",
   "metadata": {},
   "outputs": [
    {
     "data": {
      "text/plain": [
       "11"
      ]
     },
     "execution_count": 16,
     "metadata": {},
     "output_type": "execute_result"
    }
   ],
   "source": [
    "int(a)"
   ]
  },
  {
   "cell_type": "code",
   "execution_count": 17,
   "id": "4adaee0d",
   "metadata": {},
   "outputs": [
    {
     "data": {
      "text/plain": [
       "3"
      ]
     },
     "execution_count": 17,
     "metadata": {},
     "output_type": "execute_result"
    }
   ],
   "source": [
    "int(a, 2)"
   ]
  },
  {
   "cell_type": "code",
   "execution_count": 18,
   "id": "35366666",
   "metadata": {},
   "outputs": [
    {
     "data": {
      "text/plain": [
       "3"
      ]
     },
     "execution_count": 18,
     "metadata": {},
     "output_type": "execute_result"
    }
   ],
   "source": [
    "int(3.333)"
   ]
  },
  {
   "cell_type": "code",
   "execution_count": 19,
   "id": "9f29fd39",
   "metadata": {},
   "outputs": [
    {
     "data": {
      "text/plain": [
       "3"
      ]
     },
     "execution_count": 19,
     "metadata": {},
     "output_type": "execute_result"
    }
   ],
   "source": [
    "int(3.9)"
   ]
  },
  {
   "cell_type": "code",
   "execution_count": 20,
   "id": "779e3ac3",
   "metadata": {},
   "outputs": [
    {
     "data": {
      "text/plain": [
       "'0b1000'"
      ]
     },
     "execution_count": 20,
     "metadata": {},
     "output_type": "execute_result"
    }
   ],
   "source": [
    "bin(8)"
   ]
  },
  {
   "cell_type": "code",
   "execution_count": 21,
   "id": "d83a3393",
   "metadata": {},
   "outputs": [
    {
     "data": {
      "text/plain": [
       "'0xa'"
      ]
     },
     "execution_count": 21,
     "metadata": {},
     "output_type": "execute_result"
    }
   ],
   "source": [
    "hex(10)"
   ]
  },
  {
   "cell_type": "code",
   "execution_count": 22,
   "id": "654d9bed",
   "metadata": {},
   "outputs": [
    {
     "data": {
      "text/plain": [
       "255"
      ]
     },
     "execution_count": 22,
     "metadata": {},
     "output_type": "execute_result"
    }
   ],
   "source": [
    "int(\"ff\", 16)"
   ]
  },
  {
   "cell_type": "code",
   "execution_count": 23,
   "id": "c2c6802c",
   "metadata": {},
   "outputs": [
    {
     "data": {
      "text/plain": [
       "'0b11111111'"
      ]
     },
     "execution_count": 23,
     "metadata": {},
     "output_type": "execute_result"
    }
   ],
   "source": [
    "bin(int(\"ff\", 16))   #bin(255)"
   ]
  },
  {
   "cell_type": "code",
   "execution_count": 24,
   "id": "63f384b9",
   "metadata": {},
   "outputs": [],
   "source": [
    "import math"
   ]
  },
  {
   "cell_type": "code",
   "execution_count": 25,
   "id": "3ff2563c",
   "metadata": {},
   "outputs": [
    {
     "data": {
      "text/plain": [
       "<function math.sqrt(x, /)>"
      ]
     },
     "execution_count": 25,
     "metadata": {},
     "output_type": "execute_result"
    }
   ],
   "source": [
    "math.sqrt"
   ]
  },
  {
   "cell_type": "code",
   "execution_count": 26,
   "id": "2d9dc66d",
   "metadata": {},
   "outputs": [
    {
     "data": {
      "text/plain": [
       "3.0"
      ]
     },
     "execution_count": 26,
     "metadata": {},
     "output_type": "execute_result"
    }
   ],
   "source": [
    "math.sqrt(9)"
   ]
  },
  {
   "cell_type": "code",
   "execution_count": 27,
   "id": "70bc82d9",
   "metadata": {},
   "outputs": [
    {
     "data": {
      "text/plain": [
       "3.1622776601683795"
      ]
     },
     "execution_count": 27,
     "metadata": {},
     "output_type": "execute_result"
    }
   ],
   "source": [
    "math.sqrt(10)"
   ]
  },
  {
   "cell_type": "code",
   "execution_count": 28,
   "id": "ad78c389",
   "metadata": {},
   "outputs": [
    {
     "data": {
      "text/plain": [
       "6"
      ]
     },
     "execution_count": 28,
     "metadata": {},
     "output_type": "execute_result"
    }
   ],
   "source": [
    "math.factorial(3)"
   ]
  },
  {
   "cell_type": "code",
   "execution_count": 29,
   "id": "cc538ab9",
   "metadata": {},
   "outputs": [
    {
     "data": {
      "text/plain": [
       "720"
      ]
     },
     "execution_count": 29,
     "metadata": {},
     "output_type": "execute_result"
    }
   ],
   "source": [
    "math.factorial(6)"
   ]
  },
  {
   "cell_type": "code",
   "execution_count": 30,
   "id": "c0155ac9",
   "metadata": {},
   "outputs": [],
   "source": [
    "#STRINGS - order, don't change"
   ]
  },
  {
   "cell_type": "code",
   "execution_count": 31,
   "id": "daaa390f",
   "metadata": {},
   "outputs": [
    {
     "data": {
      "text/plain": [
       "'Hello'"
      ]
     },
     "execution_count": 31,
     "metadata": {},
     "output_type": "execute_result"
    }
   ],
   "source": [
    "\"Hello\""
   ]
  },
  {
   "cell_type": "code",
   "execution_count": 32,
   "id": "f84f97c2",
   "metadata": {},
   "outputs": [
    {
     "data": {
      "text/plain": [
       "'World'"
      ]
     },
     "execution_count": 32,
     "metadata": {},
     "output_type": "execute_result"
    }
   ],
   "source": [
    "'World'"
   ]
  },
  {
   "cell_type": "code",
   "execution_count": 33,
   "id": "6e04c2cc",
   "metadata": {},
   "outputs": [],
   "source": [
    "tunnel = '''\n",
    "int Tu0\n",
    "ip address 172.16.1.99 255.255.255.0\n",
    "ip mtu 1416\n",
    "tunnel source gi0/0\n",
    "tunnel dest 192.168.1.2 255.255.255.252\n",
    "no shut\n",
    "'''"
   ]
  },
  {
   "cell_type": "code",
   "execution_count": 34,
   "id": "66bbaca5",
   "metadata": {},
   "outputs": [
    {
     "data": {
      "text/plain": [
       "'\\nint Tu0\\nip address 172.16.1.99 255.255.255.0\\nip mtu 1416\\ntunnel source gi0/0\\ntunnel dest 192.168.1.2 255.255.255.252\\nno shut\\n'"
      ]
     },
     "execution_count": 34,
     "metadata": {},
     "output_type": "execute_result"
    }
   ],
   "source": [
    "tunnel"
   ]
  },
  {
   "cell_type": "code",
   "execution_count": 35,
   "id": "5b30b456",
   "metadata": {},
   "outputs": [
    {
     "name": "stdout",
     "output_type": "stream",
     "text": [
      "\n",
      "int Tu0\n",
      "ip address 172.16.1.99 255.255.255.0\n",
      "ip mtu 1416\n",
      "tunnel source gi0/0\n",
      "tunnel dest 192.168.1.2 255.255.255.252\n",
      "no shut\n",
      "\n"
     ]
    }
   ],
   "source": [
    "print(tunnel)"
   ]
  },
  {
   "cell_type": "code",
   "execution_count": 36,
   "id": "93c0ef0b",
   "metadata": {},
   "outputs": [],
   "source": [
    "intf = \"interface\"\n",
    "tun = \"Tunnel0\""
   ]
  },
  {
   "cell_type": "code",
   "execution_count": 37,
   "id": "70d97373",
   "metadata": {},
   "outputs": [
    {
     "data": {
      "text/plain": [
       "'interfaceTunnel0'"
      ]
     },
     "execution_count": 37,
     "metadata": {},
     "output_type": "execute_result"
    }
   ],
   "source": [
    "intf + tun"
   ]
  },
  {
   "cell_type": "code",
   "execution_count": 38,
   "id": "2ceebb4a",
   "metadata": {},
   "outputs": [
    {
     "data": {
      "text/plain": [
       "'interface Tunnel0'"
      ]
     },
     "execution_count": 38,
     "metadata": {},
     "output_type": "execute_result"
    }
   ],
   "source": [
    "intf + \" \" + tun"
   ]
  },
  {
   "cell_type": "code",
   "execution_count": 39,
   "id": "2b97a504",
   "metadata": {},
   "outputs": [
    {
     "data": {
      "text/plain": [
       "'interfaceinterfaceinterfaceinterfaceinterface'"
      ]
     },
     "execution_count": 39,
     "metadata": {},
     "output_type": "execute_result"
    }
   ],
   "source": [
    "intf * 5"
   ]
  },
  {
   "cell_type": "code",
   "execution_count": 40,
   "id": "b98c61c2",
   "metadata": {},
   "outputs": [
    {
     "data": {
      "text/plain": [
       "'########################################'"
      ]
     },
     "execution_count": 40,
     "metadata": {},
     "output_type": "execute_result"
    }
   ],
   "source": [
    "\"#\" * 40"
   ]
  },
  {
   "cell_type": "code",
   "execution_count": 41,
   "id": "4984ab31",
   "metadata": {},
   "outputs": [
    {
     "data": {
      "text/plain": [
       "'interface Tunnel0'"
      ]
     },
     "execution_count": 41,
     "metadata": {},
     "output_type": "execute_result"
    }
   ],
   "source": [
    "string1 = intf + \" \" + tun\n",
    "string1"
   ]
  },
  {
   "cell_type": "code",
   "execution_count": 42,
   "id": "1a4e835e",
   "metadata": {},
   "outputs": [
    {
     "data": {
      "text/plain": [
       "'i'"
      ]
     },
     "execution_count": 42,
     "metadata": {},
     "output_type": "execute_result"
    }
   ],
   "source": [
    "string1[0]"
   ]
  },
  {
   "cell_type": "code",
   "execution_count": 43,
   "id": "f65b1801",
   "metadata": {},
   "outputs": [
    {
     "data": {
      "text/plain": [
       "'n'"
      ]
     },
     "execution_count": 43,
     "metadata": {},
     "output_type": "execute_result"
    }
   ],
   "source": [
    "string1[1]"
   ]
  },
  {
   "cell_type": "code",
   "execution_count": 44,
   "id": "8ef4f4a6",
   "metadata": {},
   "outputs": [
    {
     "data": {
      "text/plain": [
       "'0'"
      ]
     },
     "execution_count": 44,
     "metadata": {},
     "output_type": "execute_result"
    }
   ],
   "source": [
    "string1[-1]"
   ]
  },
  {
   "cell_type": "code",
   "execution_count": 45,
   "id": "b6c56620",
   "metadata": {},
   "outputs": [
    {
     "data": {
      "text/plain": [
       "'interface Tunnel0'"
      ]
     },
     "execution_count": 45,
     "metadata": {},
     "output_type": "execute_result"
    }
   ],
   "source": [
    "string1"
   ]
  },
  {
   "cell_type": "code",
   "execution_count": 46,
   "id": "56ce404f",
   "metadata": {},
   "outputs": [
    {
     "data": {
      "text/plain": [
       "'interface'"
      ]
     },
     "execution_count": 46,
     "metadata": {},
     "output_type": "execute_result"
    }
   ],
   "source": [
    "string1[0:9]"
   ]
  },
  {
   "cell_type": "code",
   "execution_count": 47,
   "id": "74053878",
   "metadata": {},
   "outputs": [
    {
     "data": {
      "text/plain": [
       "'int'"
      ]
     },
     "execution_count": 47,
     "metadata": {},
     "output_type": "execute_result"
    }
   ],
   "source": [
    "string1[0:3]"
   ]
  },
  {
   "cell_type": "code",
   "execution_count": 48,
   "id": "dbc0c904",
   "metadata": {},
   "outputs": [],
   "source": [
    "string2 = \"0123456789\""
   ]
  },
  {
   "cell_type": "code",
   "execution_count": 49,
   "id": "dc8e65f0",
   "metadata": {},
   "outputs": [
    {
     "data": {
      "text/plain": [
       "'02468'"
      ]
     },
     "execution_count": 49,
     "metadata": {},
     "output_type": "execute_result"
    }
   ],
   "source": [
    "string2[::2]"
   ]
  },
  {
   "cell_type": "code",
   "execution_count": 50,
   "id": "444bbb52",
   "metadata": {},
   "outputs": [
    {
     "data": {
      "text/plain": [
       "'13579'"
      ]
     },
     "execution_count": 50,
     "metadata": {},
     "output_type": "execute_result"
    }
   ],
   "source": [
    "string2[1::2]"
   ]
  },
  {
   "cell_type": "code",
   "execution_count": 51,
   "id": "93506665",
   "metadata": {},
   "outputs": [
    {
     "data": {
      "text/plain": [
       "'Tunnel0'"
      ]
     },
     "execution_count": 51,
     "metadata": {},
     "output_type": "execute_result"
    }
   ],
   "source": [
    "string1[-7:]"
   ]
  },
  {
   "cell_type": "code",
   "execution_count": 52,
   "id": "52aa678b",
   "metadata": {},
   "outputs": [
    {
     "data": {
      "text/plain": [
       "'0123456789'"
      ]
     },
     "execution_count": 52,
     "metadata": {},
     "output_type": "execute_result"
    }
   ],
   "source": [
    "string2"
   ]
  },
  {
   "cell_type": "code",
   "execution_count": 53,
   "id": "1a5f59ff",
   "metadata": {},
   "outputs": [
    {
     "data": {
      "text/plain": [
       "'0123456789'"
      ]
     },
     "execution_count": 53,
     "metadata": {},
     "output_type": "execute_result"
    }
   ],
   "source": [
    "string2[::]"
   ]
  },
  {
   "cell_type": "code",
   "execution_count": 54,
   "id": "fb695fa2",
   "metadata": {},
   "outputs": [
    {
     "data": {
      "text/plain": [
       "'0123456789'"
      ]
     },
     "execution_count": 54,
     "metadata": {},
     "output_type": "execute_result"
    }
   ],
   "source": [
    "string2[:]"
   ]
  },
  {
   "cell_type": "code",
   "execution_count": 55,
   "id": "a1091fe0",
   "metadata": {},
   "outputs": [
    {
     "data": {
      "text/plain": [
       "'02468'"
      ]
     },
     "execution_count": 55,
     "metadata": {},
     "output_type": "execute_result"
    }
   ],
   "source": [
    "string2[::2]"
   ]
  },
  {
   "cell_type": "code",
   "execution_count": 56,
   "id": "28954b46",
   "metadata": {},
   "outputs": [
    {
     "data": {
      "text/plain": [
       "'01'"
      ]
     },
     "execution_count": 56,
     "metadata": {},
     "output_type": "execute_result"
    }
   ],
   "source": [
    "string2[:2]"
   ]
  },
  {
   "cell_type": "code",
   "execution_count": 57,
   "id": "19350fb5",
   "metadata": {},
   "outputs": [
    {
     "data": {
      "text/plain": [
       "10"
      ]
     },
     "execution_count": 57,
     "metadata": {},
     "output_type": "execute_result"
    }
   ],
   "source": [
    "len(string2)"
   ]
  },
  {
   "cell_type": "code",
   "execution_count": 58,
   "id": "ec2b23b8",
   "metadata": {},
   "outputs": [],
   "source": [
    "vlans = [\"10,20,30,40\"]"
   ]
  },
  {
   "cell_type": "code",
   "execution_count": 59,
   "id": "3f2ea218",
   "metadata": {},
   "outputs": [
    {
     "data": {
      "text/plain": [
       "'10,20,30,40'"
      ]
     },
     "execution_count": 59,
     "metadata": {},
     "output_type": "execute_result"
    }
   ],
   "source": [
    "vlans = \",\".join(vlans)\n",
    "vlans"
   ]
  },
  {
   "cell_type": "code",
   "execution_count": 60,
   "id": "ac1683fa",
   "metadata": {},
   "outputs": [],
   "source": [
    "string3 = \"GigabitEthernet\""
   ]
  },
  {
   "cell_type": "code",
   "execution_count": 61,
   "id": "1170decd",
   "metadata": {},
   "outputs": [
    {
     "data": {
      "text/plain": [
       "'GIGABITETHERNET'"
      ]
     },
     "execution_count": 61,
     "metadata": {},
     "output_type": "execute_result"
    }
   ],
   "source": [
    "string3.upper()"
   ]
  },
  {
   "cell_type": "code",
   "execution_count": 62,
   "id": "76372c18",
   "metadata": {},
   "outputs": [
    {
     "data": {
      "text/plain": [
       "'gigabitethernet'"
      ]
     },
     "execution_count": 62,
     "metadata": {},
     "output_type": "execute_result"
    }
   ],
   "source": [
    "string3.lower()"
   ]
  },
  {
   "cell_type": "code",
   "execution_count": 63,
   "id": "d98164b1",
   "metadata": {},
   "outputs": [
    {
     "data": {
      "text/plain": [
       "'gIGABITeTHERNET'"
      ]
     },
     "execution_count": 63,
     "metadata": {},
     "output_type": "execute_result"
    }
   ],
   "source": [
    "string3.swapcase()"
   ]
  },
  {
   "cell_type": "code",
   "execution_count": 64,
   "id": "cdc09640",
   "metadata": {},
   "outputs": [
    {
     "data": {
      "text/plain": [
       "'Gigabitethernet'"
      ]
     },
     "execution_count": 64,
     "metadata": {},
     "output_type": "execute_result"
    }
   ],
   "source": [
    "string3.capitalize()"
   ]
  },
  {
   "cell_type": "code",
   "execution_count": 65,
   "id": "26f72a0a",
   "metadata": {},
   "outputs": [],
   "source": [
    "string4 = \"Hello, Hello, hello, hello\""
   ]
  },
  {
   "cell_type": "code",
   "execution_count": 66,
   "id": "059fbae1",
   "metadata": {},
   "outputs": [
    {
     "data": {
      "text/plain": [
       "4"
      ]
     },
     "execution_count": 66,
     "metadata": {},
     "output_type": "execute_result"
    }
   ],
   "source": [
    "string4.count(\"ello\")"
   ]
  },
  {
   "cell_type": "code",
   "execution_count": 67,
   "id": "dd3e77d0",
   "metadata": {},
   "outputs": [
    {
     "data": {
      "text/plain": [
       "2"
      ]
     },
     "execution_count": 67,
     "metadata": {},
     "output_type": "execute_result"
    }
   ],
   "source": [
    "string4.count(\"hello\")"
   ]
  },
  {
   "cell_type": "code",
   "execution_count": 68,
   "id": "5951c3ac",
   "metadata": {},
   "outputs": [
    {
     "data": {
      "text/plain": [
       "14"
      ]
     },
     "execution_count": 68,
     "metadata": {},
     "output_type": "execute_result"
    }
   ],
   "source": [
    "string4.find(\"he\")"
   ]
  },
  {
   "cell_type": "code",
   "execution_count": 69,
   "id": "1893fef4",
   "metadata": {},
   "outputs": [
    {
     "data": {
      "text/plain": [
       "True"
      ]
     },
     "execution_count": 69,
     "metadata": {},
     "output_type": "execute_result"
    }
   ],
   "source": [
    "string4.startswith(\"He\")"
   ]
  },
  {
   "cell_type": "code",
   "execution_count": 70,
   "id": "d0e9d541",
   "metadata": {},
   "outputs": [
    {
     "data": {
      "text/plain": [
       "False"
      ]
     },
     "execution_count": 70,
     "metadata": {},
     "output_type": "execute_result"
    }
   ],
   "source": [
    "string4.startswith(\"he\")"
   ]
  },
  {
   "cell_type": "code",
   "execution_count": 71,
   "id": "ddac196e",
   "metadata": {},
   "outputs": [
    {
     "data": {
      "text/plain": [
       "'GigabitEthernet'"
      ]
     },
     "execution_count": 71,
     "metadata": {},
     "output_type": "execute_result"
    }
   ],
   "source": [
    "string3"
   ]
  },
  {
   "cell_type": "code",
   "execution_count": 72,
   "id": "f52ddd58",
   "metadata": {},
   "outputs": [
    {
     "data": {
      "text/plain": [
       "'FastEthernet'"
      ]
     },
     "execution_count": 72,
     "metadata": {},
     "output_type": "execute_result"
    }
   ],
   "source": [
    "string3.replace(\"Gigabit\", \"Fast\")"
   ]
  },
  {
   "cell_type": "code",
   "execution_count": 73,
   "id": "7d659f45",
   "metadata": {},
   "outputs": [
    {
     "data": {
      "text/plain": [
       "'GigabitEthernet'"
      ]
     },
     "execution_count": 73,
     "metadata": {},
     "output_type": "execute_result"
    }
   ],
   "source": [
    "string3"
   ]
  },
  {
   "cell_type": "code",
   "execution_count": 74,
   "id": "a824773f",
   "metadata": {},
   "outputs": [
    {
     "data": {
      "text/plain": [
       "'\\n\\tinterface FastEthernet0/1'"
      ]
     },
     "execution_count": 74,
     "metadata": {},
     "output_type": "execute_result"
    }
   ],
   "source": [
    "string5 = \"\\n\\tinterface FastEthernet0/1\"\n",
    "string5"
   ]
  },
  {
   "cell_type": "code",
   "execution_count": 75,
   "id": "f5ce2480",
   "metadata": {},
   "outputs": [
    {
     "data": {
      "text/plain": [
       "'interface FastEthernet0/1'"
      ]
     },
     "execution_count": 75,
     "metadata": {},
     "output_type": "execute_result"
    }
   ],
   "source": [
    "string5.strip()"
   ]
  },
  {
   "cell_type": "code",
   "execution_count": 76,
   "id": "35fb7853",
   "metadata": {},
   "outputs": [
    {
     "data": {
      "text/plain": [
       "'\\tinterface FastEthernet0/1'"
      ]
     },
     "execution_count": 76,
     "metadata": {},
     "output_type": "execute_result"
    }
   ],
   "source": [
    "string5.strip(\"\\n\")"
   ]
  },
  {
   "cell_type": "code",
   "execution_count": 77,
   "id": "22e65945",
   "metadata": {},
   "outputs": [],
   "source": [
    "ad = \"[110/1045]\""
   ]
  },
  {
   "cell_type": "code",
   "execution_count": 78,
   "id": "f6a20986",
   "metadata": {},
   "outputs": [
    {
     "data": {
      "text/plain": [
       "'110/1045'"
      ]
     },
     "execution_count": 78,
     "metadata": {},
     "output_type": "execute_result"
    }
   ],
   "source": [
    "ad.strip(\"[]\")\n"
   ]
  },
  {
   "cell_type": "code",
   "execution_count": 79,
   "id": "ca7c4895",
   "metadata": {},
   "outputs": [
    {
     "data": {
      "text/plain": [
       "'[110/1045]'"
      ]
     },
     "execution_count": 79,
     "metadata": {},
     "output_type": "execute_result"
    }
   ],
   "source": [
    "ad"
   ]
  },
  {
   "cell_type": "code",
   "execution_count": 80,
   "id": "e3a4aa05",
   "metadata": {},
   "outputs": [
    {
     "data": {
      "text/plain": [
       "'110/1045]'"
      ]
     },
     "execution_count": 80,
     "metadata": {},
     "output_type": "execute_result"
    }
   ],
   "source": [
    "ad.strip(\"[\")"
   ]
  },
  {
   "cell_type": "code",
   "execution_count": 81,
   "id": "935aea2b",
   "metadata": {},
   "outputs": [],
   "source": [
    "string6 = \"switchport trunk allowed vlan 10,20,30,40,50\""
   ]
  },
  {
   "cell_type": "code",
   "execution_count": 82,
   "id": "38d04211",
   "metadata": {},
   "outputs": [
    {
     "data": {
      "text/plain": [
       "['switchport', 'trunk', 'allowed', 'vlan', '10,20,30,40,50']"
      ]
     },
     "execution_count": 82,
     "metadata": {},
     "output_type": "execute_result"
    }
   ],
   "source": [
    "commands = string6.split()\n",
    "commands"
   ]
  },
  {
   "cell_type": "code",
   "execution_count": 83,
   "id": "d52a7fcd",
   "metadata": {},
   "outputs": [
    {
     "data": {
      "text/plain": [
       "'10,20,30,40,50'"
      ]
     },
     "execution_count": 83,
     "metadata": {},
     "output_type": "execute_result"
    }
   ],
   "source": [
    "vlans = commands[-1]\n",
    "vlans"
   ]
  },
  {
   "cell_type": "code",
   "execution_count": 84,
   "id": "ccc3065f",
   "metadata": {},
   "outputs": [
    {
     "data": {
      "text/plain": [
       "['10', '20', '30', '40', '50']"
      ]
     },
     "execution_count": 84,
     "metadata": {},
     "output_type": "execute_result"
    }
   ],
   "source": [
    "vlans = vlans.split(\",\")\n",
    "vlans"
   ]
  },
  {
   "cell_type": "code",
   "execution_count": 85,
   "id": "3473693c",
   "metadata": {},
   "outputs": [
    {
     "data": {
      "text/plain": [
       "['192', '168', '20', '1']"
      ]
     },
     "execution_count": 85,
     "metadata": {},
     "output_type": "execute_result"
    }
   ],
   "source": [
    "ip = \"192.168.20.1\"\n",
    "ip.split(\".\")"
   ]
  },
  {
   "cell_type": "code",
   "execution_count": 86,
   "id": "7e5c3fd2",
   "metadata": {},
   "outputs": [
    {
     "data": {
      "text/plain": [
       "'\\n\\tswitchport trunk allowed vlan 10,20,30,40,50\\n\\n\\n\\n'"
      ]
     },
     "execution_count": 86,
     "metadata": {},
     "output_type": "execute_result"
    }
   ],
   "source": [
    "string7 = \"\\n\\tswitchport trunk allowed vlan 10,20,30,40,50\\n\\n\\n\\n\"\n",
    "string7"
   ]
  },
  {
   "cell_type": "code",
   "execution_count": 87,
   "id": "c4d3288b",
   "metadata": {},
   "outputs": [
    {
     "data": {
      "text/plain": [
       "['switchport', 'trunk', 'allowed', 'vlan', '10,20,30,40,50']"
      ]
     },
     "execution_count": 87,
     "metadata": {},
     "output_type": "execute_result"
    }
   ],
   "source": [
    "string7 = string7.split()\n",
    "string7"
   ]
  },
  {
   "cell_type": "code",
   "execution_count": 88,
   "id": "31e652c5",
   "metadata": {},
   "outputs": [
    {
     "data": {
      "text/plain": [
       "'interface Fa0/1'"
      ]
     },
     "execution_count": 88,
     "metadata": {},
     "output_type": "execute_result"
    }
   ],
   "source": [
    "interface = \"interface Fa{}\".format(\"0/1\")\n",
    "interface"
   ]
  },
  {
   "cell_type": "code",
   "execution_count": 89,
   "id": "d3476b22",
   "metadata": {},
   "outputs": [
    {
     "data": {
      "text/plain": [
       "'192.168.20.1'"
      ]
     },
     "execution_count": 89,
     "metadata": {},
     "output_type": "execute_result"
    }
   ],
   "source": [
    "ip"
   ]
  },
  {
   "cell_type": "code",
   "execution_count": 90,
   "id": "335ca891",
   "metadata": {},
   "outputs": [
    {
     "data": {
      "text/plain": [
       "'192.168.20.1'"
      ]
     },
     "execution_count": 90,
     "metadata": {},
     "output_type": "execute_result"
    }
   ],
   "source": [
    "newip = \"{}\".format(ip)\n",
    "newip"
   ]
  },
  {
   "cell_type": "code",
   "execution_count": 91,
   "id": "7e2b1f66",
   "metadata": {},
   "outputs": [
    {
     "data": {
      "text/plain": [
       "['100', 'aaaa.bbbb.cccc', 'gi1/1']"
      ]
     },
     "execution_count": 91,
     "metadata": {},
     "output_type": "execute_result"
    }
   ],
   "source": [
    "[\"100\", \"aaaa.bbbb.cccc\", \"gi1/1\"]"
   ]
  },
  {
   "cell_type": "code",
   "execution_count": 92,
   "id": "b9c0f144",
   "metadata": {},
   "outputs": [],
   "source": [
    "vlan, mac, intf = [\"100\", \"aaaa.bbbb.cccc\", \"gi1/1\"]"
   ]
  },
  {
   "cell_type": "code",
   "execution_count": 93,
   "id": "a593c145",
   "metadata": {},
   "outputs": [
    {
     "data": {
      "text/plain": [
       "'100'"
      ]
     },
     "execution_count": 93,
     "metadata": {},
     "output_type": "execute_result"
    }
   ],
   "source": [
    "vlan"
   ]
  },
  {
   "cell_type": "code",
   "execution_count": 94,
   "id": "7546efb0",
   "metadata": {},
   "outputs": [
    {
     "data": {
      "text/plain": [
       "'aaaa.bbbb.cccc'"
      ]
     },
     "execution_count": 94,
     "metadata": {},
     "output_type": "execute_result"
    }
   ],
   "source": [
    "mac"
   ]
  },
  {
   "cell_type": "code",
   "execution_count": 95,
   "id": "ce06358c",
   "metadata": {},
   "outputs": [
    {
     "data": {
      "text/plain": [
       "'gi1/1'"
      ]
     },
     "execution_count": 95,
     "metadata": {},
     "output_type": "execute_result"
    }
   ],
   "source": [
    "intf"
   ]
  },
  {
   "cell_type": "code",
   "execution_count": 96,
   "id": "3f6cb5d0",
   "metadata": {},
   "outputs": [
    {
     "name": "stdout",
     "output_type": "stream",
     "text": [
      "100 aaaa.bbbb.cccc gi1/1\n"
     ]
    }
   ],
   "source": [
    "print(\"{} {} {}\".format(vlan, mac, intf))"
   ]
  },
  {
   "cell_type": "code",
   "execution_count": 97,
   "id": "656edbc8",
   "metadata": {},
   "outputs": [
    {
     "name": "stdout",
     "output_type": "stream",
     "text": [
      "100              aaaa.bbbb.cccc           gi1/1\n"
     ]
    }
   ],
   "source": [
    "print(\"{:<15} {:>15} {:>15}\".format(vlan, mac, intf))"
   ]
  },
  {
   "cell_type": "code",
   "execution_count": 98,
   "id": "d742df4f",
   "metadata": {},
   "outputs": [
    {
     "name": "stdout",
     "output_type": "stream",
     "text": [
      "\n",
      "\n",
      "IP address:\n",
      "10.1.1.1\n",
      "\n"
     ]
    }
   ],
   "source": [
    "ip_template = \"\"\"\n",
    "\n",
    "IP address:\n",
    "{}\n",
    "\"\"\".format(\"10.1.1.1\")\n",
    "print(ip_template)"
   ]
  },
  {
   "cell_type": "code",
   "execution_count": 99,
   "id": "fd15876b",
   "metadata": {},
   "outputs": [
    {
     "data": {
      "text/plain": [
       "'3.3333333333333335'"
      ]
     },
     "execution_count": 99,
     "metadata": {},
     "output_type": "execute_result"
    }
   ],
   "source": [
    "\"{}\".format(10/3)"
   ]
  },
  {
   "cell_type": "code",
   "execution_count": 100,
   "id": "d0ea49e3",
   "metadata": {},
   "outputs": [
    {
     "data": {
      "text/plain": [
       "'3.3333333333333335'"
      ]
     },
     "execution_count": 100,
     "metadata": {},
     "output_type": "execute_result"
    }
   ],
   "source": [
    "\"{:}\".format(10/3)"
   ]
  },
  {
   "cell_type": "code",
   "execution_count": 101,
   "id": "c24fe506",
   "metadata": {},
   "outputs": [
    {
     "data": {
      "text/plain": [
       "'3.333'"
      ]
     },
     "execution_count": 101,
     "metadata": {},
     "output_type": "execute_result"
    }
   ],
   "source": [
    "\"{:.3f}\".format(10/3)"
   ]
  },
  {
   "cell_type": "code",
   "execution_count": 102,
   "id": "a2d81336",
   "metadata": {},
   "outputs": [
    {
     "data": {
      "text/plain": [
       "'172 16 1 1'"
      ]
     },
     "execution_count": 102,
     "metadata": {},
     "output_type": "execute_result"
    }
   ],
   "source": [
    "\"{} {} {} {}\".format(172, 16, 1, 1)"
   ]
  },
  {
   "cell_type": "code",
   "execution_count": 103,
   "id": "443ee397",
   "metadata": {},
   "outputs": [
    {
     "data": {
      "text/plain": [
       "'10101100    10000        1        1'"
      ]
     },
     "execution_count": 103,
     "metadata": {},
     "output_type": "execute_result"
    }
   ],
   "source": [
    "\"{:>8b} {:>8b} {:>8b} {:>8b}\".format(172, 16, 1, 1)"
   ]
  },
  {
   "cell_type": "code",
   "execution_count": 104,
   "id": "3f6dc8e4",
   "metadata": {},
   "outputs": [
    {
     "data": {
      "text/plain": [
       "'10101100 00010000 00000001 00000001'"
      ]
     },
     "execution_count": 104,
     "metadata": {},
     "output_type": "execute_result"
    }
   ],
   "source": [
    "\"{:>08b} {:>08b} {:>08b} {:>08b}\".format(172, 16, 1, 1)"
   ]
  },
  {
   "cell_type": "code",
   "execution_count": 105,
   "id": "c463acfd",
   "metadata": {},
   "outputs": [
    {
     "data": {
      "text/plain": [
       "'192.168.100.1/24'"
      ]
     },
     "execution_count": 105,
     "metadata": {},
     "output_type": "execute_result"
    }
   ],
   "source": [
    "\"{ip}/{mask}\".format(ip=\"192.168.100.1\", mask=\"24\")"
   ]
  },
  {
   "cell_type": "code",
   "execution_count": 106,
   "id": "a6d4f727",
   "metadata": {},
   "outputs": [
    {
     "data": {
      "text/plain": [
       "'192.168.100.1/24'"
      ]
     },
     "execution_count": 106,
     "metadata": {},
     "output_type": "execute_result"
    }
   ],
   "source": [
    "\"{ip}/{mask}\".format(mask=\"24\", ip=\"192.168.100.1\")"
   ]
  },
  {
   "cell_type": "code",
   "execution_count": 107,
   "id": "9bf29504",
   "metadata": {},
   "outputs": [
    {
     "data": {
      "text/plain": [
       "'24/192.168.100.1'"
      ]
     },
     "execution_count": 107,
     "metadata": {},
     "output_type": "execute_result"
    }
   ],
   "source": [
    "\"{0}/{1}\".format(\"24\", \"192.168.100.1\")"
   ]
  },
  {
   "cell_type": "code",
   "execution_count": 108,
   "id": "80433a7a",
   "metadata": {},
   "outputs": [
    {
     "data": {
      "text/plain": [
       "'192.168.100.1/24'"
      ]
     },
     "execution_count": 108,
     "metadata": {},
     "output_type": "execute_result"
    }
   ],
   "source": [
    "\"{1}/{0}\".format(\"24\", \"192.168.100.1\")"
   ]
  },
  {
   "cell_type": "code",
   "execution_count": 109,
   "id": "9d483f32",
   "metadata": {},
   "outputs": [
    {
     "data": {
      "text/plain": [
       "'TestString'"
      ]
     },
     "execution_count": 109,
     "metadata": {},
     "output_type": "execute_result"
    }
   ],
   "source": [
    "s = (\"Test\" \"String\")\n",
    "s"
   ]
  },
  {
   "cell_type": "code",
   "execution_count": 110,
   "id": "222b35fe",
   "metadata": {},
   "outputs": [
    {
     "data": {
      "text/plain": [
       "'TestString'"
      ]
     },
     "execution_count": 110,
     "metadata": {},
     "output_type": "execute_result"
    }
   ],
   "source": [
    "s = \"Test\" \"String\"\n",
    "s"
   ]
  },
  {
   "cell_type": "code",
   "execution_count": 111,
   "id": "5503b335",
   "metadata": {},
   "outputs": [
    {
     "data": {
      "text/plain": [
       "'TestString'"
      ]
     },
     "execution_count": 111,
     "metadata": {},
     "output_type": "execute_result"
    }
   ],
   "source": [
    "s = (\"Test\"\n",
    "     \"String\")\n",
    "s"
   ]
  },
  {
   "cell_type": "code",
   "execution_count": 112,
   "id": "2c305214",
   "metadata": {},
   "outputs": [
    {
     "ename": "IndentationError",
     "evalue": "unexpected indent (3261463612.py, line 2)",
     "output_type": "error",
     "traceback": [
      "\u001b[1;36m  Cell \u001b[1;32mIn[112], line 2\u001b[1;36m\u001b[0m\n\u001b[1;33m    \"String\"\u001b[0m\n\u001b[1;37m    ^\u001b[0m\n\u001b[1;31mIndentationError\u001b[0m\u001b[1;31m:\u001b[0m unexpected indent\n"
     ]
    }
   ],
   "source": [
    "s = \"Test\" \n",
    "     \"String\"\n",
    "s"
   ]
  },
  {
   "cell_type": "code",
   "execution_count": null,
   "id": "50e24dfe",
   "metadata": {},
   "outputs": [],
   "source": [
    "#LIST - ordered, changing."
   ]
  },
  {
   "cell_type": "code",
   "execution_count": null,
   "id": "fc680055",
   "metadata": {},
   "outputs": [],
   "source": [
    "list1 = [10, 20, 30, 77]\n",
    "list1"
   ]
  },
  {
   "cell_type": "code",
   "execution_count": null,
   "id": "d1939c42",
   "metadata": {},
   "outputs": [],
   "source": [
    "list2 = [\"dog\", \"cat\", \"bird\"]\n",
    "list2"
   ]
  },
  {
   "cell_type": "code",
   "execution_count": null,
   "id": "1f548bd3",
   "metadata": {},
   "outputs": [],
   "source": [
    "list3 = [1, 20, 4.0, \"word\"]\n",
    "list3"
   ]
  },
  {
   "cell_type": "code",
   "execution_count": null,
   "id": "1a75704e",
   "metadata": {},
   "outputs": [],
   "source": [
    "list3.reverse()\n",
    "list3"
   ]
  },
  {
   "cell_type": "code",
   "execution_count": null,
   "id": "f39f0b8a",
   "metadata": {},
   "outputs": [],
   "source": [
    "list4 = \"router R1\"\n",
    "list4 = list(list4)\n",
    "list4"
   ]
  },
  {
   "cell_type": "code",
   "execution_count": null,
   "id": "fd6d4310",
   "metadata": {},
   "outputs": [],
   "source": [
    "list3"
   ]
  },
  {
   "cell_type": "code",
   "execution_count": null,
   "id": "c524735b",
   "metadata": {},
   "outputs": [],
   "source": [
    "vlans.reverse()\n",
    "vlans"
   ]
  },
  {
   "cell_type": "code",
   "execution_count": null,
   "id": "26ce9113",
   "metadata": {},
   "outputs": [],
   "source": [
    "vlans[0]"
   ]
  },
  {
   "cell_type": "code",
   "execution_count": null,
   "id": "1c32ca64",
   "metadata": {},
   "outputs": [],
   "source": [
    "vlans[-1]"
   ]
  },
  {
   "cell_type": "code",
   "execution_count": null,
   "id": "97eef170",
   "metadata": {},
   "outputs": [],
   "source": [
    "list6 = [[\"a\", \"b\", \"c\"], []]\n",
    "list6[0]"
   ]
  },
  {
   "cell_type": "code",
   "execution_count": null,
   "id": "5534cb45",
   "metadata": {},
   "outputs": [],
   "source": [
    "list6[0][-1]"
   ]
  },
  {
   "cell_type": "code",
   "execution_count": null,
   "id": "0a75a4f5",
   "metadata": {},
   "outputs": [],
   "source": [
    "list7 = [1, 2, 3]\n",
    "len(list7)"
   ]
  },
  {
   "cell_type": "code",
   "execution_count": null,
   "id": "1d39617b",
   "metadata": {},
   "outputs": [],
   "source": [
    "names = [\"Antony\", \"Sandra\", \"Michael\", \"Kelly\"]"
   ]
  },
  {
   "cell_type": "code",
   "execution_count": null,
   "id": "5b369a83",
   "metadata": {},
   "outputs": [],
   "source": [
    "names.sort()\n",
    "names"
   ]
  },
  {
   "cell_type": "code",
   "execution_count": null,
   "id": "459ba768",
   "metadata": {},
   "outputs": [],
   "source": [
    "names = [\"Antony\", \"Sandra\", \"Michael\", \"Kelly\"]\n",
    "sorted(names)"
   ]
  },
  {
   "cell_type": "code",
   "execution_count": null,
   "id": "943ddbc2",
   "metadata": {},
   "outputs": [],
   "source": [
    "vlans"
   ]
  },
  {
   "cell_type": "code",
   "execution_count": null,
   "id": "723971e1",
   "metadata": {},
   "outputs": [],
   "source": [
    "vlans.sort()\n",
    "vlans"
   ]
  },
  {
   "cell_type": "code",
   "execution_count": null,
   "id": "e9d4442b",
   "metadata": {},
   "outputs": [],
   "source": [
    "vlans.append(\"100-200\")\n",
    "vlans1 = vlans\n",
    "vlans1"
   ]
  },
  {
   "cell_type": "code",
   "execution_count": null,
   "id": "77cc7f41",
   "metadata": {},
   "outputs": [],
   "source": [
    "vlans.pop(1)\n",
    "vlans"
   ]
  },
  {
   "cell_type": "code",
   "execution_count": null,
   "id": "bc506abc",
   "metadata": {},
   "outputs": [],
   "source": [
    "vlans.pop(1)\n",
    "vlans"
   ]
  },
  {
   "cell_type": "code",
   "execution_count": null,
   "id": "6e44621d",
   "metadata": {},
   "outputs": [],
   "source": [
    "vlans.append(\"20\")"
   ]
  },
  {
   "cell_type": "code",
   "execution_count": null,
   "id": "0c289fc9",
   "metadata": {},
   "outputs": [],
   "source": [
    "vlans.append(\"200-300\")\n",
    "vlans"
   ]
  },
  {
   "cell_type": "code",
   "execution_count": null,
   "id": "2149ebae",
   "metadata": {},
   "outputs": [],
   "source": [
    "vlans.sort()\n",
    "vlans"
   ]
  },
  {
   "cell_type": "code",
   "execution_count": null,
   "id": "4417904d",
   "metadata": {},
   "outputs": [],
   "source": [
    "vlans.pop(-1)"
   ]
  },
  {
   "cell_type": "code",
   "execution_count": null,
   "id": "64f4c2ff",
   "metadata": {},
   "outputs": [],
   "source": [
    "vlans"
   ]
  },
  {
   "cell_type": "code",
   "execution_count": null,
   "id": "7fc0d06a",
   "metadata": {},
   "outputs": [],
   "source": [
    "vlans.pop(-1)"
   ]
  },
  {
   "cell_type": "code",
   "execution_count": null,
   "id": "8515c35e",
   "metadata": {},
   "outputs": [],
   "source": [
    "vlans"
   ]
  },
  {
   "cell_type": "code",
   "execution_count": null,
   "id": "83288637",
   "metadata": {},
   "outputs": [],
   "source": [
    "vlans.remove(\"200-300\")"
   ]
  },
  {
   "cell_type": "code",
   "execution_count": null,
   "id": "2066590c",
   "metadata": {},
   "outputs": [],
   "source": [
    "vlans"
   ]
  },
  {
   "cell_type": "code",
   "execution_count": null,
   "id": "e41a0a78",
   "metadata": {},
   "outputs": [],
   "source": [
    "vlans.remove(\"200-300\")"
   ]
  },
  {
   "cell_type": "code",
   "execution_count": null,
   "id": "769258d0",
   "metadata": {},
   "outputs": [],
   "source": [
    "vlans"
   ]
  },
  {
   "cell_type": "code",
   "execution_count": null,
   "id": "2e394a25",
   "metadata": {},
   "outputs": [],
   "source": [
    "vlans.append(\"30\")\n",
    "vlans"
   ]
  },
  {
   "cell_type": "code",
   "execution_count": null,
   "id": "15317467",
   "metadata": {},
   "outputs": [],
   "source": [
    "vlans1 = [\"10\", \"20\", \"30\"]\n",
    "vlans1"
   ]
  },
  {
   "cell_type": "code",
   "execution_count": null,
   "id": "1aa94c27",
   "metadata": {},
   "outputs": [],
   "source": [
    "vlans2 = [\"1000\", \"2000\", \"3000\"]"
   ]
  },
  {
   "cell_type": "code",
   "execution_count": null,
   "id": "e2cc3eda",
   "metadata": {},
   "outputs": [],
   "source": [
    "vlans1.extend(vlans2)\n",
    "vlans1"
   ]
  },
  {
   "cell_type": "code",
   "execution_count": null,
   "id": "09a8aa20",
   "metadata": {},
   "outputs": [],
   "source": [
    "vlans"
   ]
  },
  {
   "cell_type": "code",
   "execution_count": null,
   "id": "cca0fd79",
   "metadata": {},
   "outputs": [],
   "source": [
    "vlans2"
   ]
  },
  {
   "cell_type": "code",
   "execution_count": null,
   "id": "7a63dd4e",
   "metadata": {},
   "outputs": [],
   "source": [
    "vlans1\n"
   ]
  },
  {
   "cell_type": "code",
   "execution_count": null,
   "id": "b6c450d6",
   "metadata": {},
   "outputs": [],
   "source": [
    "vlans1 + vlans2"
   ]
  },
  {
   "cell_type": "code",
   "execution_count": null,
   "id": "ddfc1fe7",
   "metadata": {},
   "outputs": [],
   "source": [
    "vlans = vlans1 + vlans2\n",
    "vlans"
   ]
  },
  {
   "cell_type": "code",
   "execution_count": null,
   "id": "32c502eb",
   "metadata": {},
   "outputs": [],
   "source": [
    "vlans.pop(-1)\n",
    "vlans"
   ]
  },
  {
   "cell_type": "code",
   "execution_count": null,
   "id": "206fbcb7",
   "metadata": {},
   "outputs": [],
   "source": [
    "vlans.remove(\"2000\")"
   ]
  },
  {
   "cell_type": "code",
   "execution_count": null,
   "id": "a6e040f3",
   "metadata": {},
   "outputs": [],
   "source": [
    "vlans"
   ]
  },
  {
   "cell_type": "code",
   "execution_count": null,
   "id": "41e60c75",
   "metadata": {},
   "outputs": [],
   "source": [
    "vlans.index(\"30\")"
   ]
  },
  {
   "cell_type": "code",
   "execution_count": null,
   "id": "000d1e40",
   "metadata": {},
   "outputs": [],
   "source": [
    "vlans"
   ]
  },
  {
   "cell_type": "code",
   "execution_count": null,
   "id": "35bf92f8",
   "metadata": {},
   "outputs": [],
   "source": [
    "vlans.insert(0, \"5\")\n",
    "vlans"
   ]
  },
  {
   "cell_type": "code",
   "execution_count": null,
   "id": "54e8d38c",
   "metadata": {},
   "outputs": [],
   "source": [
    "vlans = [1, 50, 10, 20]\n",
    "vlans.sort()\n",
    "vlans"
   ]
  },
  {
   "cell_type": "code",
   "execution_count": null,
   "id": "edeb2ae4",
   "metadata": {},
   "outputs": [],
   "source": [
    "vlans = [\"Economist\", \"Energetic\", \"Buhgalter\"]\n",
    "vlans.sort()\n",
    "vlans"
   ]
  },
  {
   "cell_type": "code",
   "execution_count": null,
   "id": "bf54e410",
   "metadata": {},
   "outputs": [],
   "source": [
    "#DICTIONARY - ordered, changing; Key(Num,Str,Cortezh):Value(Any)"
   ]
  },
  {
   "cell_type": "code",
   "execution_count": null,
   "id": "f4ba18f6",
   "metadata": {},
   "outputs": [],
   "source": [
    "router1 = {\"name\":\"Minsk\", \"location\":\"Nemiga Str\", \"vendor\":\"Cisco\"}"
   ]
  },
  {
   "cell_type": "code",
   "execution_count": null,
   "id": "3082ceff",
   "metadata": {},
   "outputs": [],
   "source": [
    "router1[\"name\"]"
   ]
  },
  {
   "cell_type": "code",
   "execution_count": null,
   "id": "091e54ef",
   "metadata": {},
   "outputs": [],
   "source": [
    "router1['location']"
   ]
  },
  {
   "cell_type": "code",
   "execution_count": null,
   "id": "0a453350",
   "metadata": {},
   "outputs": [],
   "source": [
    "router1[\"ios\"] = \"15.04\""
   ]
  },
  {
   "cell_type": "code",
   "execution_count": null,
   "id": "cb033acb",
   "metadata": {},
   "outputs": [],
   "source": [
    "router1"
   ]
  },
  {
   "cell_type": "code",
   "execution_count": null,
   "id": "0587b4d3",
   "metadata": {},
   "outputs": [],
   "source": [
    "london_co = {\n",
    "    'r1': {\n",
    "        'hostname': 'london_r1',\n",
    "        'location': '21 New Globe Walk',\n",
    "        'vendor': 'Cisco',\n",
    "        'model': '4451',\n",
    "        'ios': '15.4',\n",
    "        'ip': '10.255.0.1'\n",
    "    },\n",
    "    'r2': {\n",
    "        'hostname': 'london_r2',\n",
    "        'location': '21 New Globe Walk',\n",
    "        'vendor': 'Cisco',\n",
    "        'model': '4451',\n",
    "        'ios': '15.4',\n",
    "        'ip': '10.255.0.2'\n",
    "    },\n",
    "    'sw1': {\n",
    "        'hostname': 'london_sw1',\n",
    "        'location': '21 New Globe Walk',\n",
    "        'vendor': 'Cisco',\n",
    "        'model': '3850',\n",
    "        'ios': '3.6.XE',\n",
    "        'ip': '10.255.0.101'\n",
    "    }\n",
    "}"
   ]
  },
  {
   "cell_type": "code",
   "execution_count": null,
   "id": "ba08f6d4",
   "metadata": {},
   "outputs": [],
   "source": [
    "london_co[\"r1\"]"
   ]
  },
  {
   "cell_type": "code",
   "execution_count": null,
   "id": "169b4485",
   "metadata": {},
   "outputs": [],
   "source": [
    "london_co[\"r1\"][\"ios\"]"
   ]
  },
  {
   "cell_type": "code",
   "execution_count": null,
   "id": "4178fe72",
   "metadata": {},
   "outputs": [],
   "source": [
    "router1"
   ]
  },
  {
   "cell_type": "code",
   "execution_count": null,
   "id": "ca879d3a",
   "metadata": {},
   "outputs": [],
   "source": [
    "sorted(router1)"
   ]
  },
  {
   "cell_type": "code",
   "execution_count": null,
   "id": "8663e8e8",
   "metadata": {},
   "outputs": [],
   "source": [
    "router1.clear()\n",
    "router1"
   ]
  },
  {
   "cell_type": "code",
   "execution_count": null,
   "id": "ef29e6bc",
   "metadata": {},
   "outputs": [],
   "source": [
    "router1 = {'name': 'Minsk', 'location': 'Nemiga Str', 'vendor': 'Cisco', 'ios': '15.04'}\n",
    "router2 = router1\n",
    "router2"
   ]
  },
  {
   "cell_type": "code",
   "execution_count": null,
   "id": "af0faf5a",
   "metadata": {},
   "outputs": [],
   "source": [
    "id(router1)"
   ]
  },
  {
   "cell_type": "code",
   "execution_count": null,
   "id": "fedceef5",
   "metadata": {},
   "outputs": [],
   "source": [
    "id(router2)"
   ]
  },
  {
   "cell_type": "code",
   "execution_count": null,
   "id": "8f6a568f",
   "metadata": {},
   "outputs": [],
   "source": [
    "router2[\"vendor\"] = \"Extreme\"\n",
    "router2"
   ]
  },
  {
   "cell_type": "code",
   "execution_count": null,
   "id": "bde03856",
   "metadata": {},
   "outputs": [],
   "source": [
    "router1"
   ]
  },
  {
   "cell_type": "code",
   "execution_count": null,
   "id": "f6561f6f",
   "metadata": {},
   "outputs": [],
   "source": [
    "#COPY()"
   ]
  },
  {
   "cell_type": "code",
   "execution_count": null,
   "id": "547f8060",
   "metadata": {},
   "outputs": [],
   "source": [
    "router3 = router2.copy()\n",
    "router3"
   ]
  },
  {
   "cell_type": "code",
   "execution_count": null,
   "id": "3e5ee989",
   "metadata": {},
   "outputs": [],
   "source": [
    "id(router2)"
   ]
  },
  {
   "cell_type": "code",
   "execution_count": null,
   "id": "868abe53",
   "metadata": {},
   "outputs": [],
   "source": [
    "id(router3)"
   ]
  },
  {
   "cell_type": "code",
   "execution_count": null,
   "id": "26bae82c",
   "metadata": {},
   "outputs": [],
   "source": [
    "#GET"
   ]
  },
  {
   "cell_type": "code",
   "execution_count": null,
   "id": "e01dac36",
   "metadata": {},
   "outputs": [],
   "source": [
    "router1"
   ]
  },
  {
   "cell_type": "code",
   "execution_count": null,
   "id": "94367681",
   "metadata": {},
   "outputs": [],
   "source": [
    "router1.get(\"name\")"
   ]
  },
  {
   "cell_type": "code",
   "execution_count": null,
   "id": "9ac95804",
   "metadata": {},
   "outputs": [],
   "source": [
    "router1[\"version\"]"
   ]
  },
  {
   "cell_type": "code",
   "execution_count": null,
   "id": "53735b8c",
   "metadata": {},
   "outputs": [],
   "source": [
    "print(router1.get(\"version\"))"
   ]
  },
  {
   "cell_type": "code",
   "execution_count": null,
   "id": "6fe5ac2e",
   "metadata": {},
   "outputs": [],
   "source": [
    "print(router1.get(\"version\", \"Ooops\"))"
   ]
  },
  {
   "cell_type": "code",
   "execution_count": null,
   "id": "f42113fd",
   "metadata": {},
   "outputs": [],
   "source": [
    "print(router1.get(\"ios\", \"Ooops\"))"
   ]
  },
  {
   "cell_type": "code",
   "execution_count": null,
   "id": "53a6de08",
   "metadata": {},
   "outputs": [],
   "source": [
    "#SETDEFAULT"
   ]
  },
  {
   "cell_type": "code",
   "execution_count": null,
   "id": "29f021fb",
   "metadata": {},
   "outputs": [],
   "source": [
    "router2"
   ]
  },
  {
   "cell_type": "code",
   "execution_count": null,
   "id": "1c4c3435",
   "metadata": {},
   "outputs": [],
   "source": [
    "print(router2.setdefault(\"version\"))"
   ]
  },
  {
   "cell_type": "code",
   "execution_count": null,
   "id": "27a69381",
   "metadata": {},
   "outputs": [],
   "source": [
    "router2"
   ]
  },
  {
   "cell_type": "code",
   "execution_count": null,
   "id": "f2ae28c9",
   "metadata": {},
   "outputs": [],
   "source": [
    "print(router2.setdefault(\"name\"))"
   ]
  },
  {
   "cell_type": "code",
   "execution_count": null,
   "id": "c78b7b74",
   "metadata": {},
   "outputs": [],
   "source": [
    "model = router2.setdefault(\"vendor\", \"Extreme\")"
   ]
  },
  {
   "cell_type": "code",
   "execution_count": null,
   "id": "6794b702",
   "metadata": {},
   "outputs": [],
   "source": [
    "model"
   ]
  },
  {
   "cell_type": "code",
   "execution_count": null,
   "id": "2c193f8a",
   "metadata": {},
   "outputs": [],
   "source": [
    "#KEYS, VALUES, ITEMS"
   ]
  },
  {
   "cell_type": "code",
   "execution_count": null,
   "id": "ddac3e71",
   "metadata": {},
   "outputs": [],
   "source": [
    "router2.keys()"
   ]
  },
  {
   "cell_type": "code",
   "execution_count": null,
   "id": "8e24bb5e",
   "metadata": {},
   "outputs": [],
   "source": [
    "router2.values()"
   ]
  },
  {
   "cell_type": "code",
   "execution_count": null,
   "id": "ef47973e",
   "metadata": {},
   "outputs": [],
   "source": [
    "router2.items()"
   ]
  },
  {
   "cell_type": "code",
   "execution_count": null,
   "id": "235a036a",
   "metadata": {},
   "outputs": [],
   "source": [
    "router2[\"ip\"] = \"10.1.1.1\""
   ]
  },
  {
   "cell_type": "code",
   "execution_count": null,
   "id": "8f060353",
   "metadata": {},
   "outputs": [],
   "source": [
    "router2.keys()"
   ]
  },
  {
   "cell_type": "code",
   "execution_count": null,
   "id": "26b1a48e",
   "metadata": {},
   "outputs": [],
   "source": [
    "router2.values()"
   ]
  },
  {
   "cell_type": "code",
   "execution_count": null,
   "id": "cb0afdfc",
   "metadata": {},
   "outputs": [],
   "source": [
    "#DEL"
   ]
  },
  {
   "cell_type": "code",
   "execution_count": null,
   "id": "2087b4a6",
   "metadata": {},
   "outputs": [],
   "source": [
    "router3"
   ]
  },
  {
   "cell_type": "code",
   "execution_count": null,
   "id": "873e6483",
   "metadata": {},
   "outputs": [],
   "source": [
    "del router3[\"ios\"]"
   ]
  },
  {
   "cell_type": "code",
   "execution_count": null,
   "id": "1d1b2f4c",
   "metadata": {},
   "outputs": [],
   "source": [
    "router3"
   ]
  },
  {
   "cell_type": "code",
   "execution_count": null,
   "id": "3db1f843",
   "metadata": {},
   "outputs": [],
   "source": [
    "router2"
   ]
  },
  {
   "cell_type": "code",
   "execution_count": null,
   "id": "713c4953",
   "metadata": {},
   "outputs": [],
   "source": [
    "router3"
   ]
  },
  {
   "cell_type": "code",
   "execution_count": null,
   "id": "21603e89",
   "metadata": {},
   "outputs": [],
   "source": [
    "london_co"
   ]
  },
  {
   "cell_type": "code",
   "execution_count": null,
   "id": "ce34be0a",
   "metadata": {},
   "outputs": [],
   "source": [
    "london_co[\"r1\"]"
   ]
  },
  {
   "cell_type": "code",
   "execution_count": null,
   "id": "f084e58a",
   "metadata": {},
   "outputs": [],
   "source": [
    "del london_co[\"r1\"]"
   ]
  },
  {
   "cell_type": "code",
   "execution_count": null,
   "id": "9ba927f7",
   "metadata": {},
   "outputs": [],
   "source": [
    "london_co"
   ]
  },
  {
   "cell_type": "code",
   "execution_count": null,
   "id": "870901d9",
   "metadata": {},
   "outputs": [],
   "source": [
    "r1 = {'hostname': 'london_r1',\n",
    " 'location': '21 New Globe Walk',\n",
    " 'vendor': 'Cisco',\n",
    " 'model': '4451',\n",
    " 'ios': '15.4',\n",
    " 'ip': '10.255.0.1'}"
   ]
  },
  {
   "cell_type": "code",
   "execution_count": null,
   "id": "9a4ffbf9",
   "metadata": {},
   "outputs": [],
   "source": [
    "london_co.update(r1)"
   ]
  },
  {
   "cell_type": "code",
   "execution_count": null,
   "id": "66eda8d9",
   "metadata": {},
   "outputs": [],
   "source": [
    "london_co"
   ]
  },
  {
   "cell_type": "code",
   "execution_count": null,
   "id": "1b900829",
   "metadata": {},
   "outputs": [],
   "source": [
    "r1"
   ]
  },
  {
   "cell_type": "code",
   "execution_count": null,
   "id": "b527733e",
   "metadata": {},
   "outputs": [],
   "source": [
    "del r1[\"vendor\"]"
   ]
  },
  {
   "cell_type": "code",
   "execution_count": null,
   "id": "e4254574",
   "metadata": {},
   "outputs": [],
   "source": [
    "r1"
   ]
  },
  {
   "cell_type": "code",
   "execution_count": null,
   "id": "44ef4a7c",
   "metadata": {},
   "outputs": [],
   "source": [
    "r1.update({\"vendor\": \"Extreme\"})"
   ]
  },
  {
   "cell_type": "code",
   "execution_count": null,
   "id": "16aa651f",
   "metadata": {},
   "outputs": [],
   "source": [
    "r1"
   ]
  },
  {
   "cell_type": "code",
   "execution_count": null,
   "id": "fa715695",
   "metadata": {},
   "outputs": [],
   "source": [
    "del r1[\"ios\"]"
   ]
  },
  {
   "cell_type": "code",
   "execution_count": null,
   "id": "b5c4ae8b",
   "metadata": {},
   "outputs": [],
   "source": [
    "r1"
   ]
  },
  {
   "cell_type": "code",
   "execution_count": null,
   "id": "c9205d7b",
   "metadata": {},
   "outputs": [],
   "source": [
    "r1.update({\"OS\": \"Exreme OS\"})"
   ]
  },
  {
   "cell_type": "code",
   "execution_count": null,
   "id": "287453e7",
   "metadata": {},
   "outputs": [],
   "source": [
    "r1"
   ]
  },
  {
   "cell_type": "code",
   "execution_count": null,
   "id": "ed5a3105",
   "metadata": {},
   "outputs": [],
   "source": [
    "r1.update({\"OS\": \"Exreme OS 15.04\"})\n",
    "r1"
   ]
  },
  {
   "cell_type": "code",
   "execution_count": null,
   "id": "0c23e894",
   "metadata": {},
   "outputs": [],
   "source": [
    "#variants of create Dictionary"
   ]
  },
  {
   "cell_type": "code",
   "execution_count": null,
   "id": "ae89bc80",
   "metadata": {},
   "outputs": [],
   "source": [
    "r1 = {\"model\": \"bdcom s5828\", \"ios\": \"15.04\"}\n",
    "r1"
   ]
  },
  {
   "cell_type": "code",
   "execution_count": null,
   "id": "a17f65c4",
   "metadata": {},
   "outputs": [],
   "source": [
    "r2 = dict([(\"model\", \"extreme\"), (\"OS\", \"ExtremeOS\")])\n",
    "r2"
   ]
  },
  {
   "cell_type": "code",
   "execution_count": null,
   "id": "eaa39013",
   "metadata": {},
   "outputs": [],
   "source": [
    "d_keys = [\"hostname\", \"location\", \"vendor\", \"model\", \"OS\", \"ip\"]"
   ]
  },
  {
   "cell_type": "code",
   "execution_count": null,
   "id": "2313346f",
   "metadata": {},
   "outputs": [],
   "source": [
    "r3 = dict.fromkeys(d_keys)\n",
    "r3"
   ]
  },
  {
   "cell_type": "code",
   "execution_count": null,
   "id": "d50cfe77",
   "metadata": {},
   "outputs": [],
   "source": [
    "router_models = ['ISR2811', 'ISR2911', 'ISR2921', 'ASR9002']"
   ]
  },
  {
   "cell_type": "code",
   "execution_count": null,
   "id": "582b3e1c",
   "metadata": {},
   "outputs": [],
   "source": [
    "router_models_count = dict.fromkeys(router_models)\n",
    "router_models_count"
   ]
  },
  {
   "cell_type": "code",
   "execution_count": null,
   "id": "0ca576a4",
   "metadata": {},
   "outputs": [],
   "source": [
    "router_models_count = dict.fromkeys(router_models, \"Empty\")\n",
    "router_models_count"
   ]
  },
  {
   "cell_type": "code",
   "execution_count": null,
   "id": "bb7b34c2",
   "metadata": {},
   "outputs": [],
   "source": [
    "#Но!"
   ]
  },
  {
   "cell_type": "code",
   "execution_count": null,
   "id": "ee7d07f5",
   "metadata": {},
   "outputs": [],
   "source": [
    "router_models = ['ISR2811', 'ISR2911', 'ISR2921', 'ASR9002']"
   ]
  },
  {
   "cell_type": "code",
   "execution_count": null,
   "id": "2109c159",
   "metadata": {},
   "outputs": [],
   "source": [
    "routers = dict.fromkeys(router_models, [])\n",
    "routers"
   ]
  },
  {
   "cell_type": "code",
   "execution_count": null,
   "id": "b73b52a9",
   "metadata": {},
   "outputs": [],
   "source": [
    "routers[\"ASR9002\"].append(\"minsk_r5\")\n",
    "routers\n",
    "            "
   ]
  },
  {
   "cell_type": "code",
   "execution_count": null,
   "id": "1b46aec3",
   "metadata": {},
   "outputs": [],
   "source": [
    "routers[\"ISR2811\"] = \"vitebsk\"\n",
    "routers"
   ]
  },
  {
   "cell_type": "code",
   "execution_count": null,
   "id": "b5e0d91f",
   "metadata": {},
   "outputs": [],
   "source": [
    "#Tuples (Кортежи) - don't change, ordered"
   ]
  },
  {
   "cell_type": "code",
   "execution_count": null,
   "id": "cf52ab83",
   "metadata": {},
   "outputs": [],
   "source": [
    "exampletuple = tuple()\n",
    "print(exampletuple)"
   ]
  },
  {
   "cell_type": "code",
   "execution_count": null,
   "id": "7113e7cd",
   "metadata": {},
   "outputs": [],
   "source": [
    "exampletuple2 = (\"password\", )\n",
    "print(exampletuple2)"
   ]
  },
  {
   "cell_type": "code",
   "execution_count": null,
   "id": "e4e4d3d2",
   "metadata": {},
   "outputs": [],
   "source": [
    "#Tuple from list:"
   ]
  },
  {
   "cell_type": "code",
   "execution_count": null,
   "id": "1809a4bb",
   "metadata": {},
   "outputs": [],
   "source": [
    "list_keys = [\"hostname\", \"location\", \"vendor\", \"model\", \"ios\", \"ip\"]\n",
    "tuple_keys = tuple(list_keys)\n",
    "tuple_keys"
   ]
  },
  {
   "cell_type": "code",
   "execution_count": null,
   "id": "be616b8b",
   "metadata": {},
   "outputs": [],
   "source": [
    "#tuple ordered!"
   ]
  },
  {
   "cell_type": "code",
   "execution_count": null,
   "id": "3c528549",
   "metadata": {},
   "outputs": [],
   "source": [
    "tuple_keys[0]"
   ]
  },
  {
   "cell_type": "code",
   "execution_count": null,
   "id": "6929d08c",
   "metadata": {},
   "outputs": [],
   "source": [
    "tuple_keys[-1]"
   ]
  },
  {
   "cell_type": "code",
   "execution_count": null,
   "id": "2c1f8ca4",
   "metadata": {},
   "outputs": [],
   "source": [
    "#tuple don't changed!"
   ]
  },
  {
   "cell_type": "code",
   "execution_count": null,
   "id": "33d5d747",
   "metadata": {},
   "outputs": [],
   "source": [
    "tuple_keys[0] = \"new_hostname\""
   ]
  },
  {
   "cell_type": "code",
   "execution_count": null,
   "id": "6716193d",
   "metadata": {},
   "outputs": [],
   "source": [
    "#Sorted"
   ]
  },
  {
   "cell_type": "code",
   "execution_count": null,
   "id": "c0dc9ad4",
   "metadata": {},
   "outputs": [],
   "source": [
    "tuple_keys"
   ]
  },
  {
   "cell_type": "code",
   "execution_count": null,
   "id": "417422a5",
   "metadata": {},
   "outputs": [],
   "source": [
    "sorted(tuple_keys)"
   ]
  },
  {
   "cell_type": "code",
   "execution_count": null,
   "id": "1f7bff11",
   "metadata": {},
   "outputs": [],
   "source": [
    "#SET - changed, don't ordered"
   ]
  },
  {
   "cell_type": "code",
   "execution_count": null,
   "id": "156d23fe",
   "metadata": {},
   "outputs": [],
   "source": [
    "vlans = [10, 20, 30, 40, 50, 100, 200, 300]"
   ]
  },
  {
   "cell_type": "code",
   "execution_count": null,
   "id": "785365a6",
   "metadata": {},
   "outputs": [],
   "source": [
    "set(vlans)"
   ]
  },
  {
   "cell_type": "code",
   "execution_count": null,
   "id": "02a7536f",
   "metadata": {},
   "outputs": [],
   "source": [
    "vlans2  = set(vlans)\n",
    "print(vlans2)"
   ]
  },
  {
   "cell_type": "code",
   "execution_count": null,
   "id": "572ca0ef",
   "metadata": {},
   "outputs": [],
   "source": [
    "#Metod of work with Sets"
   ]
  },
  {
   "cell_type": "code",
   "execution_count": null,
   "id": "d3076b29",
   "metadata": {},
   "outputs": [],
   "source": [
    "#add()"
   ]
  },
  {
   "cell_type": "code",
   "execution_count": null,
   "id": "c89a7f45",
   "metadata": {},
   "outputs": [],
   "source": [
    "vlans2"
   ]
  },
  {
   "cell_type": "code",
   "execution_count": null,
   "id": "ecc3bf70",
   "metadata": {},
   "outputs": [],
   "source": [
    "vlans2.add(1000)\n",
    "vlans2"
   ]
  },
  {
   "cell_type": "code",
   "execution_count": null,
   "id": "a9c5e111",
   "metadata": {},
   "outputs": [],
   "source": [
    "#discard() - delete element without error"
   ]
  },
  {
   "cell_type": "code",
   "execution_count": null,
   "id": "ab3d40cf",
   "metadata": {},
   "outputs": [],
   "source": [
    "vlans2.discard(20)\n",
    "vlans2"
   ]
  },
  {
   "cell_type": "code",
   "execution_count": null,
   "id": "529d5de0",
   "metadata": {},
   "outputs": [],
   "source": [
    "vlans2.discard(2000)\n",
    "vlans2"
   ]
  },
  {
   "cell_type": "code",
   "execution_count": null,
   "id": "b89a1ba5",
   "metadata": {},
   "outputs": [],
   "source": [
    "#clear()"
   ]
  },
  {
   "cell_type": "code",
   "execution_count": null,
   "id": "eef1d189",
   "metadata": {},
   "outputs": [],
   "source": [
    "vlans2"
   ]
  },
  {
   "cell_type": "code",
   "execution_count": null,
   "id": "860ba756",
   "metadata": {},
   "outputs": [],
   "source": [
    "vlans2.clear()\n",
    "vlans2"
   ]
  },
  {
   "cell_type": "code",
   "execution_count": null,
   "id": "ddff63ac",
   "metadata": {},
   "outputs": [],
   "source": [
    "#Operations with Sets()"
   ]
  },
  {
   "cell_type": "code",
   "execution_count": null,
   "id": "3121b8dd",
   "metadata": {},
   "outputs": [],
   "source": [
    "#Слияние"
   ]
  },
  {
   "cell_type": "code",
   "execution_count": null,
   "id": "0cec7353",
   "metadata": {},
   "outputs": [],
   "source": [
    "vlans1 = {10, 20, 30, 50, 100}\n",
    "vlans2 = {100, 101, 102, 200}\n"
   ]
  },
  {
   "cell_type": "code",
   "execution_count": null,
   "id": "ca76acae",
   "metadata": {},
   "outputs": [],
   "source": [
    "vlans1.union(vlans2)"
   ]
  },
  {
   "cell_type": "code",
   "execution_count": null,
   "id": "361bf447",
   "metadata": {},
   "outputs": [],
   "source": [
    "vlans1 | vlans2"
   ]
  },
  {
   "cell_type": "code",
   "execution_count": null,
   "id": "74623b68",
   "metadata": {},
   "outputs": [],
   "source": [
    "#Пересечение"
   ]
  },
  {
   "cell_type": "code",
   "execution_count": null,
   "id": "52b02846",
   "metadata": {},
   "outputs": [],
   "source": [
    "vlans1.intersection(vlans2)"
   ]
  },
  {
   "cell_type": "code",
   "execution_count": null,
   "id": "0bc99992",
   "metadata": {},
   "outputs": [],
   "source": [
    "vlans1 & vlans2"
   ]
  },
  {
   "cell_type": "code",
   "execution_count": null,
   "id": "af3675d9",
   "metadata": {},
   "outputs": [],
   "source": [
    "#Create of Sets()"
   ]
  },
  {
   "cell_type": "code",
   "execution_count": null,
   "id": "e452585d",
   "metadata": {},
   "outputs": [],
   "source": [
    "exampleset = set()\n",
    "exampleset"
   ]
  },
  {
   "cell_type": "code",
   "execution_count": null,
   "id": "4ed237ca",
   "metadata": {},
   "outputs": [],
   "source": [
    "examplenonset = {}\n",
    "type(examplenonset)"
   ]
  },
  {
   "cell_type": "code",
   "execution_count": null,
   "id": "e0a27a95",
   "metadata": {},
   "outputs": [],
   "source": [
    "exampleset = set(\"long long string\")\n",
    "exampleset"
   ]
  },
  {
   "cell_type": "code",
   "execution_count": null,
   "id": "56c130ff",
   "metadata": {},
   "outputs": [],
   "source": [
    "exampleset = set([\"long\", \"long\", \"list\"])\n",
    "exampleset"
   ]
  },
  {
   "cell_type": "code",
   "execution_count": null,
   "id": "fa04f539",
   "metadata": {},
   "outputs": [],
   "source": [
    "#BOOL VALUES"
   ]
  },
  {
   "cell_type": "code",
   "execution_count": null,
   "id": "55599c73",
   "metadata": {},
   "outputs": [],
   "source": [
    "#True = ненулевое число, непустой объект, непустая строка"
   ]
  },
  {
   "cell_type": "code",
   "execution_count": null,
   "id": "aec60d91",
   "metadata": {},
   "outputs": [],
   "source": [
    "#False = нуд=левое число, пустой объект, пустая строка, None"
   ]
  },
  {
   "cell_type": "code",
   "execution_count": null,
   "id": "e56a6cd9",
   "metadata": {},
   "outputs": [],
   "source": [
    "items = [1, 2, 3]\n",
    "empty_list = []"
   ]
  },
  {
   "cell_type": "code",
   "execution_count": null,
   "id": "05877da5",
   "metadata": {},
   "outputs": [],
   "source": [
    "bool(items)"
   ]
  },
  {
   "cell_type": "code",
   "execution_count": null,
   "id": "d4a29a2e",
   "metadata": {},
   "outputs": [],
   "source": [
    "bool(empty_list)"
   ]
  },
  {
   "cell_type": "code",
   "execution_count": null,
   "id": "1b2d17ae",
   "metadata": {},
   "outputs": [],
   "source": [
    "bool(1)"
   ]
  },
  {
   "cell_type": "code",
   "execution_count": null,
   "id": "98f3baba",
   "metadata": {},
   "outputs": [],
   "source": [
    "bool(0)"
   ]
  },
  {
   "cell_type": "code",
   "execution_count": null,
   "id": "5b9fa716",
   "metadata": {},
   "outputs": [],
   "source": [
    "bool(\"word\")"
   ]
  },
  {
   "cell_type": "code",
   "execution_count": null,
   "id": "13780762",
   "metadata": {},
   "outputs": [],
   "source": [
    "bool(\"\")"
   ]
  },
  {
   "cell_type": "code",
   "execution_count": null,
   "id": "cd169247",
   "metadata": {},
   "outputs": [],
   "source": [
    "bool(\" \")"
   ]
  },
  {
   "cell_type": "code",
   "execution_count": null,
   "id": "3b6a00e2",
   "metadata": {},
   "outputs": [],
   "source": [
    "#Changing of types"
   ]
  },
  {
   "cell_type": "code",
   "execution_count": null,
   "id": "e7aaa4e3",
   "metadata": {},
   "outputs": [],
   "source": [
    "#int()"
   ]
  },
  {
   "cell_type": "code",
   "execution_count": null,
   "id": "75b60e2a",
   "metadata": {},
   "outputs": [],
   "source": [
    "a = int(\"10\")"
   ]
  },
  {
   "cell_type": "code",
   "execution_count": null,
   "id": "8b1b2c4a",
   "metadata": {},
   "outputs": [],
   "source": [
    "type(a)"
   ]
  },
  {
   "cell_type": "code",
   "execution_count": null,
   "id": "924fb83d",
   "metadata": {},
   "outputs": [],
   "source": [
    "b = int(\"10000000\")\n",
    "b"
   ]
  },
  {
   "cell_type": "code",
   "execution_count": null,
   "id": "fa6d815d",
   "metadata": {},
   "outputs": [],
   "source": [
    "#\"2----->10\""
   ]
  },
  {
   "cell_type": "code",
   "execution_count": null,
   "id": "eea52843",
   "metadata": {},
   "outputs": [],
   "source": [
    "b = int(\"10000000\", 2)\n",
    "b"
   ]
  },
  {
   "cell_type": "code",
   "execution_count": null,
   "id": "c5ff8d0e",
   "metadata": {},
   "outputs": [],
   "source": [
    "#bin()"
   ]
  },
  {
   "cell_type": "code",
   "execution_count": null,
   "id": "be2c72e9",
   "metadata": {},
   "outputs": [],
   "source": [
    "# 10---->2"
   ]
  },
  {
   "cell_type": "code",
   "execution_count": null,
   "id": "d9d78aa9",
   "metadata": {},
   "outputs": [],
   "source": [
    "bin(255)"
   ]
  },
  {
   "cell_type": "code",
   "execution_count": null,
   "id": "ce820713",
   "metadata": {},
   "outputs": [],
   "source": [
    "#hex()"
   ]
  },
  {
   "cell_type": "code",
   "execution_count": null,
   "id": "b1f7f9e8",
   "metadata": {},
   "outputs": [],
   "source": [
    "hex(10)"
   ]
  },
  {
   "cell_type": "code",
   "execution_count": null,
   "id": "46f19e8d",
   "metadata": {},
   "outputs": [],
   "source": [
    "hex(15)"
   ]
  },
  {
   "cell_type": "code",
   "execution_count": null,
   "id": "4a4cf1d7",
   "metadata": {},
   "outputs": [],
   "source": [
    "hex(255)"
   ]
  },
  {
   "cell_type": "code",
   "execution_count": null,
   "id": "da9aca20",
   "metadata": {},
   "outputs": [],
   "source": [
    "hex(9)"
   ]
  },
  {
   "cell_type": "code",
   "execution_count": null,
   "id": "9593e5f4",
   "metadata": {},
   "outputs": [],
   "source": [
    "#list()"
   ]
  },
  {
   "cell_type": "code",
   "execution_count": null,
   "id": "5ef774b3",
   "metadata": {},
   "outputs": [],
   "source": [
    "list(\"word\")"
   ]
  },
  {
   "cell_type": "code",
   "execution_count": null,
   "id": "2cadbc35",
   "metadata": {},
   "outputs": [],
   "source": [
    "list({1, 2, 3})"
   ]
  },
  {
   "cell_type": "code",
   "execution_count": null,
   "id": "af3ad1cf",
   "metadata": {},
   "outputs": [],
   "source": [
    "list((1, 2, 3))"
   ]
  },
  {
   "cell_type": "code",
   "execution_count": null,
   "id": "21f11c93",
   "metadata": {},
   "outputs": [],
   "source": [
    "#set()"
   ]
  },
  {
   "cell_type": "code",
   "execution_count": null,
   "id": "365a26ab",
   "metadata": {},
   "outputs": [],
   "source": [
    "set([1, 2, 3, 4, 5])"
   ]
  },
  {
   "cell_type": "code",
   "execution_count": null,
   "id": "3cdd57bb",
   "metadata": {},
   "outputs": [],
   "source": [
    "set((1, 2, 3, 4, 5))"
   ]
  },
  {
   "cell_type": "code",
   "execution_count": null,
   "id": "fd7196d1",
   "metadata": {},
   "outputs": [],
   "source": [
    "set(\"string string string\")"
   ]
  },
  {
   "cell_type": "code",
   "execution_count": null,
   "id": "0a290c8c",
   "metadata": {},
   "outputs": [],
   "source": [
    "#tuple()"
   ]
  },
  {
   "cell_type": "code",
   "execution_count": null,
   "id": "2f296827",
   "metadata": {},
   "outputs": [],
   "source": [
    "tuple([1, 2, 3, 4, 5, 6, 7])"
   ]
  },
  {
   "cell_type": "code",
   "execution_count": null,
   "id": "1af9f345",
   "metadata": {},
   "outputs": [],
   "source": [
    "tuple({1, 2, 4, 5, 6, 7, 8})"
   ]
  },
  {
   "cell_type": "code",
   "execution_count": null,
   "id": "cb77acde",
   "metadata": {},
   "outputs": [],
   "source": [
    "tuple(\"string\")"
   ]
  },
  {
   "cell_type": "code",
   "execution_count": null,
   "id": "b532a6f2",
   "metadata": {},
   "outputs": [],
   "source": [
    "#str()"
   ]
  },
  {
   "cell_type": "code",
   "execution_count": null,
   "id": "b3d99e91",
   "metadata": {},
   "outputs": [],
   "source": [
    "str(\"10\")"
   ]
  },
  {
   "cell_type": "code",
   "execution_count": null,
   "id": "275cd2fc",
   "metadata": {},
   "outputs": [],
   "source": [
    "#Check of types"
   ]
  },
  {
   "cell_type": "code",
   "execution_count": null,
   "id": "fa328364",
   "metadata": {},
   "outputs": [],
   "source": [
    "int(\"c\")"
   ]
  },
  {
   "cell_type": "code",
   "execution_count": null,
   "id": "88b90e7a",
   "metadata": {},
   "outputs": [],
   "source": [
    "\"a\".isdigit()"
   ]
  },
  {
   "cell_type": "code",
   "execution_count": null,
   "id": "855221ac",
   "metadata": {},
   "outputs": [],
   "source": [
    "\"a555\".isdigit()"
   ]
  },
  {
   "cell_type": "code",
   "execution_count": null,
   "id": "81df42af",
   "metadata": {},
   "outputs": [],
   "source": [
    "\"555\".isdigit()"
   ]
  },
  {
   "cell_type": "code",
   "execution_count": null,
   "id": "09a52d66",
   "metadata": {},
   "outputs": [],
   "source": [
    "\"a\".isalpha()"
   ]
  },
  {
   "cell_type": "code",
   "execution_count": null,
   "id": "9e8b7ec4",
   "metadata": {},
   "outputs": [],
   "source": [
    "\"a555\".isalpha()"
   ]
  },
  {
   "cell_type": "code",
   "execution_count": null,
   "id": "502462c6",
   "metadata": {},
   "outputs": [],
   "source": [
    "\"a555\".isalnum()"
   ]
  },
  {
   "cell_type": "code",
   "execution_count": null,
   "id": "eeab4b5d",
   "metadata": {},
   "outputs": [],
   "source": [
    "\"a\".isalnum()"
   ]
  },
  {
   "cell_type": "code",
   "execution_count": null,
   "id": "46529178",
   "metadata": {},
   "outputs": [],
   "source": [
    "type(\"string\")"
   ]
  },
  {
   "cell_type": "code",
   "execution_count": null,
   "id": "7e57d526",
   "metadata": {},
   "outputs": [],
   "source": [
    "type(\"string\") == str"
   ]
  },
  {
   "cell_type": "code",
   "execution_count": null,
   "id": "81aa263b",
   "metadata": {},
   "outputs": [],
   "source": [
    "type([\"a\", \"b\", \"c\"])"
   ]
  },
  {
   "cell_type": "code",
   "execution_count": null,
   "id": "8bbb5aff",
   "metadata": {},
   "outputs": [],
   "source": [
    "type([\"a\", \"b\", \"c\"]) == list"
   ]
  },
  {
   "cell_type": "code",
   "execution_count": null,
   "id": "4bec434b",
   "metadata": {},
   "outputs": [],
   "source": [
    "type([\"a\", \"b\", \"c\"]) == tuple"
   ]
  },
  {
   "cell_type": "code",
   "execution_count": null,
   "id": "d039b9bf",
   "metadata": {},
   "outputs": [],
   "source": [
    "#Вызов метода цепочкой"
   ]
  },
  {
   "cell_type": "code",
   "execution_count": null,
   "id": "49026840",
   "metadata": {},
   "outputs": [],
   "source": [
    "line = \"switchport trunk allowed vlan 10,20,30\""
   ]
  },
  {
   "cell_type": "code",
   "execution_count": null,
   "id": "e95ca10b",
   "metadata": {},
   "outputs": [],
   "source": [
    "words = line.split()\n",
    "words"
   ]
  },
  {
   "cell_type": "code",
   "execution_count": null,
   "id": "fa7af218",
   "metadata": {},
   "outputs": [],
   "source": [
    "numbers_vlans = words[-1]\n",
    "numbers_vlans"
   ]
  },
  {
   "cell_type": "code",
   "execution_count": null,
   "id": "06de0966",
   "metadata": {},
   "outputs": [],
   "source": [
    "list_numbers_vlans = numbers_vlans.split(\",\")\n",
    "list_numbers_vlans"
   ]
  },
  {
   "cell_type": "code",
   "execution_count": null,
   "id": "279e84ff",
   "metadata": {},
   "outputs": [],
   "source": [
    "#Sort of data"
   ]
  },
  {
   "cell_type": "code",
   "execution_count": null,
   "id": "1c609e27",
   "metadata": {},
   "outputs": [],
   "source": [
    "data = [[1, 100, 1000], [2, 2, 2], [1, 2, 3], [4, 100, 3]]\n",
    "sorted(data)"
   ]
  },
  {
   "cell_type": "code",
   "execution_count": null,
   "id": "e19a270f",
   "metadata": {},
   "outputs": [],
   "source": [
    "\"11\" > \"100\""
   ]
  },
  {
   "cell_type": "code",
   "execution_count": null,
   "id": "e4b25de5",
   "metadata": {},
   "outputs": [],
   "source": [
    "vlans = ['1', '30', '11', '3', '10', '20', '30', '100']\n",
    "sorted(vlans)"
   ]
  },
  {
   "cell_type": "code",
   "execution_count": null,
   "id": "a546ea33",
   "metadata": {},
   "outputs": [],
   "source": [
    "ip_list = [\"10.1.1.1\", \"10.1.10.1\", \"10.1.2.1\", \"10.1.11.1\"]\n",
    "sorted(ip_list)"
   ]
  },
  {
   "cell_type": "code",
   "execution_count": null,
   "id": "4ece0f50",
   "metadata": {},
   "outputs": [],
   "source": [
    "#task4.1"
   ]
  },
  {
   "cell_type": "code",
   "execution_count": null,
   "id": "b63b3e20",
   "metadata": {},
   "outputs": [],
   "source": [
    "nat = \"ip nat inside source list ACL interface FastEthernet0/1 overload\"\n",
    "nat = nat.replace(\"Fast\", \"Gigabit\")\n",
    "nat"
   ]
  },
  {
   "cell_type": "code",
   "execution_count": null,
   "id": "b2585701",
   "metadata": {},
   "outputs": [],
   "source": [
    "#task2"
   ]
  },
  {
   "cell_type": "code",
   "execution_count": null,
   "id": "fa989309",
   "metadata": {},
   "outputs": [],
   "source": [
    "mac = \"AAAA:BBBB:CCCC\"\n",
    "mac  = mac.replace(\":\", \".\")\n",
    "mac"
   ]
  },
  {
   "cell_type": "code",
   "execution_count": null,
   "id": "b97a491c",
   "metadata": {},
   "outputs": [],
   "source": [
    "#task4.3"
   ]
  },
  {
   "cell_type": "code",
   "execution_count": null,
   "id": "633775f4",
   "metadata": {},
   "outputs": [],
   "source": [
    "config = \"switchport trunk allowed vlan 1,3,10,20,30,100\"\n",
    "numbers_vlans = config.split()[-1]\n",
    "numbers_vlans"
   ]
  },
  {
   "cell_type": "code",
   "execution_count": null,
   "id": "3bf043ed",
   "metadata": {},
   "outputs": [],
   "source": [
    "result = numbers_vlans.split(\",\")\n",
    "result\n"
   ]
  },
  {
   "cell_type": "code",
   "execution_count": null,
   "id": "fddfc69d",
   "metadata": {},
   "outputs": [],
   "source": [
    "#task4"
   ]
  },
  {
   "cell_type": "code",
   "execution_count": null,
   "id": "22f27116",
   "metadata": {},
   "outputs": [],
   "source": [
    "vlans = [10, 20, 30, 1, 2, 100, 10, 30, 3, 4, 10]\n",
    "vlans = set(vlans)\n",
    "result = sorted(list(vlans))\n",
    "result"
   ]
  },
  {
   "cell_type": "code",
   "execution_count": null,
   "id": "d3f80849",
   "metadata": {},
   "outputs": [],
   "source": [
    "#task5"
   ]
  },
  {
   "cell_type": "code",
   "execution_count": null,
   "id": "44078b34",
   "metadata": {},
   "outputs": [],
   "source": [
    "command1 = \"switchport trunk allowed vlan 1,2,3,5,8\"\n",
    "command2 = \"switchport trunk allowed vlan 1,3,8,9\""
   ]
  },
  {
   "cell_type": "code",
   "execution_count": null,
   "id": "fe48ae2a",
   "metadata": {},
   "outputs": [],
   "source": [
    "command1 = command1.split()\n",
    "num1 = command1[-1]\n",
    "num1 = num1.split(\",\")\n"
   ]
  },
  {
   "cell_type": "code",
   "execution_count": null,
   "id": "3e28be66",
   "metadata": {},
   "outputs": [],
   "source": [
    "command2 = command2.split()\n",
    "num2 = command2[-1]\n",
    "num2 = num2.split(\",\")\n"
   ]
  },
  {
   "cell_type": "code",
   "execution_count": null,
   "id": "1082b780",
   "metadata": {},
   "outputs": [],
   "source": [
    "result = set(num1).intersection(set(num2))"
   ]
  },
  {
   "cell_type": "code",
   "execution_count": null,
   "id": "ccf417d0",
   "metadata": {},
   "outputs": [],
   "source": [
    "result = sorted(list(result))"
   ]
  },
  {
   "cell_type": "code",
   "execution_count": null,
   "id": "8ff8aaec",
   "metadata": {},
   "outputs": [],
   "source": [
    "result"
   ]
  },
  {
   "cell_type": "code",
   "execution_count": null,
   "id": "374387bf",
   "metadata": {},
   "outputs": [],
   "source": [
    "#task6"
   ]
  },
  {
   "cell_type": "code",
   "execution_count": null,
   "id": "8a8511ec",
   "metadata": {},
   "outputs": [],
   "source": [
    "ospf_route = \"       10.0.24.0/24 [110/41] via 10.0.13.3, 3d18h, FastEthernet0/0\""
   ]
  },
  {
   "cell_type": "code",
   "execution_count": null,
   "id": "f8e26f89",
   "metadata": {},
   "outputs": [],
   "source": [
    "ospf_route = ospf_route.split()"
   ]
  },
  {
   "cell_type": "code",
   "execution_count": null,
   "id": "fbf215b7",
   "metadata": {},
   "outputs": [],
   "source": [
    "prefix = ospf_route[0]\n",
    "ad_metric = ospf_route[1]\n",
    "next_hop = (ospf_route[3])[0:9]\n",
    "last_update = (ospf_route[4])[0:4]\n",
    "outbound_intf = ospf_route[-1]"
   ]
  },
  {
   "cell_type": "code",
   "execution_count": null,
   "id": "d661918f",
   "metadata": {},
   "outputs": [],
   "source": [
    "result = f\"\"\"\n",
    "Prefix                {prefix}\n",
    "AD/Metric             {ad_metric}\n",
    "Next-Hop              {next_hop}\n",
    "Last update           {last_update}\n",
    "Outbound Interface    {outbound_intf}\"\"\"\n",
    "print(result)"
   ]
  },
  {
   "cell_type": "code",
   "execution_count": null,
   "id": "8b5edaea",
   "metadata": {},
   "outputs": [],
   "source": [
    "#task7"
   ]
  },
  {
   "cell_type": "code",
   "execution_count": null,
   "id": "70e98edf",
   "metadata": {},
   "outputs": [],
   "source": [
    "mac = \"AAAA:BBBB:CCCC\"\n",
    "mac = mac.split(\":\")"
   ]
  },
  {
   "cell_type": "code",
   "execution_count": null,
   "id": "e0afef84",
   "metadata": {},
   "outputs": [],
   "source": [
    "oct11 = mac[0][0:2]\n",
    "oct11"
   ]
  },
  {
   "cell_type": "code",
   "execution_count": null,
   "id": "b033bd5c",
   "metadata": {},
   "outputs": [],
   "source": [
    "oct12 = mac[0][2:]\n",
    "oct12"
   ]
  },
  {
   "cell_type": "code",
   "execution_count": null,
   "id": "6ce1cf55",
   "metadata": {},
   "outputs": [],
   "source": [
    "oct21 = mac[1][0:2]\n",
    "oct21"
   ]
  },
  {
   "cell_type": "code",
   "execution_count": null,
   "id": "050c2aa1",
   "metadata": {},
   "outputs": [],
   "source": [
    "oct22 = mac[1][2:]\n",
    "oct22"
   ]
  },
  {
   "cell_type": "code",
   "execution_count": null,
   "id": "7a0e3037",
   "metadata": {},
   "outputs": [],
   "source": [
    "oct31 = mac[2][0:2]\n",
    "oct31"
   ]
  },
  {
   "cell_type": "code",
   "execution_count": null,
   "id": "60e67bcd",
   "metadata": {},
   "outputs": [],
   "source": [
    "oct32 = mac[2][2:]\n",
    "oct32"
   ]
  },
  {
   "cell_type": "code",
   "execution_count": null,
   "id": "795fbdfb",
   "metadata": {},
   "outputs": [],
   "source": [
    "oct11"
   ]
  },
  {
   "cell_type": "code",
   "execution_count": null,
   "id": "27bbfb74",
   "metadata": {},
   "outputs": [],
   "source": [
    "bin(int(oct11, 16))"
   ]
  },
  {
   "cell_type": "code",
   "execution_count": null,
   "id": "42aac89d",
   "metadata": {},
   "outputs": [],
   "source": [
    "#Ввод инфы пользователем"
   ]
  },
  {
   "cell_type": "code",
   "execution_count": null,
   "id": "85b68a15",
   "metadata": {},
   "outputs": [],
   "source": [
    "input(\"Ваш любимый протокол маршрутизации: \")"
   ]
  },
  {
   "cell_type": "code",
   "execution_count": 1,
   "id": "64b01208",
   "metadata": {},
   "outputs": [
    {
     "name": "stdout",
     "output_type": "stream",
     "text": [
      "Enter interface type and number: Gi0/1\n",
      "Enter VLAN number: 50\n",
      "\n",
      "------------------------------\n",
      "interface Gi0/1\n",
      "switchport mode access\n",
      "switchport access vlan 50\n",
      "switchport nonegotiate\n",
      "spanning-tree portfast\n",
      "spanning-tree bpduguard enable\n"
     ]
    }
   ],
   "source": [
    "interface = input('Enter interface type and number: ')\n",
    "vlan = input('Enter VLAN number: ')\n",
    "\n",
    "access_template = ['switchport mode access',\n",
    "                   'switchport access vlan {}',\n",
    "                   'switchport nonegotiate',\n",
    "                   'spanning-tree portfast',\n",
    "                   'spanning-tree bpduguard enable']\n",
    "print('\\n' + '-' * 30)\n",
    "print('interface {}'.format(interface))\n",
    "print('\\n'.join(access_template).format(vlan))"
   ]
  },
  {
   "cell_type": "code",
   "execution_count": null,
   "id": "4fa72611",
   "metadata": {},
   "outputs": [],
   "source": [
    "#True/False"
   ]
  },
  {
   "cell_type": "code",
   "execution_count": null,
   "id": "fcf29a9a",
   "metadata": {},
   "outputs": [],
   "source": [
    "#Когда пустой объект.\n",
    "list_for_test = 0"
   ]
  },
  {
   "cell_type": "code",
   "execution_count": null,
   "id": "8dedeabc",
   "metadata": {},
   "outputs": [],
   "source": [
    "if list_for_test:\n",
    "    print(\"в этом списке есть объекты!\")\n",
    "else:\n",
    "    print(\"в этом списке нет объектов!\")"
   ]
  },
  {
   "cell_type": "code",
   "execution_count": null,
   "id": "bf834aa8",
   "metadata": {},
   "outputs": [],
   "source": [
    "#Когда непустой объект.\n",
    "list_for_test = [1, 2, 3]"
   ]
  },
  {
   "cell_type": "code",
   "execution_count": null,
   "id": "5d7aa70b",
   "metadata": {},
   "outputs": [],
   "source": [
    "if list_for_test:\n",
    "    print(\"в этом списке есть объекты!\")\n",
    "else:\n",
    "    print(\"в этом списке нет объектов!\")"
   ]
  },
  {
   "cell_type": "code",
   "execution_count": null,
   "id": "0417ce3c",
   "metadata": {},
   "outputs": [],
   "source": [
    "if len(list_for_test) != 0:\n",
    "    print(\"тестовый список непустой!\")"
   ]
  },
  {
   "cell_type": "code",
   "execution_count": null,
   "id": "2c30b66c",
   "metadata": {},
   "outputs": [],
   "source": [
    "#Операторы сравнения"
   ]
  },
  {
   "cell_type": "code",
   "execution_count": null,
   "id": "1c0e1dc7",
   "metadata": {},
   "outputs": [],
   "source": [
    "5 > 6"
   ]
  },
  {
   "cell_type": "code",
   "execution_count": null,
   "id": "829f95da",
   "metadata": {},
   "outputs": [],
   "source": [
    "5 == 6"
   ]
  },
  {
   "cell_type": "code",
   "execution_count": null,
   "id": "1f90bbec",
   "metadata": {},
   "outputs": [],
   "source": [
    "5 == 5"
   ]
  },
  {
   "cell_type": "code",
   "execution_count": null,
   "id": "f8c7d077",
   "metadata": {},
   "outputs": [],
   "source": [
    "8 != 10"
   ]
  },
  {
   "cell_type": "code",
   "execution_count": null,
   "id": "39858dc4",
   "metadata": {},
   "outputs": [],
   "source": [
    "#IN"
   ]
  },
  {
   "cell_type": "code",
   "execution_count": null,
   "id": "1e3193de",
   "metadata": {},
   "outputs": [],
   "source": [
    "\"fast\" in \"fastethernet\""
   ]
  },
  {
   "cell_type": "code",
   "execution_count": null,
   "id": "e7436cc4",
   "metadata": {},
   "outputs": [],
   "source": [
    "\"gigabit\" in \"fastethernet\""
   ]
  },
  {
   "cell_type": "code",
   "execution_count": 3,
   "id": "c0dabf1a",
   "metadata": {},
   "outputs": [],
   "source": [
    "vlan = [10, 20, 30, 40]"
   ]
  },
  {
   "cell_type": "code",
   "execution_count": 4,
   "id": "ed6bed25",
   "metadata": {},
   "outputs": [
    {
     "data": {
      "text/plain": [
       "True"
      ]
     },
     "execution_count": 4,
     "metadata": {},
     "output_type": "execute_result"
    }
   ],
   "source": [
    "10 in vlan"
   ]
  },
  {
   "cell_type": "code",
   "execution_count": 5,
   "id": "81008da3",
   "metadata": {},
   "outputs": [
    {
     "data": {
      "text/plain": [
       "False"
      ]
     },
     "execution_count": 5,
     "metadata": {},
     "output_type": "execute_result"
    }
   ],
   "source": [
    "50 in vlan"
   ]
  },
  {
   "cell_type": "code",
   "execution_count": 7,
   "id": "c92c403a",
   "metadata": {},
   "outputs": [],
   "source": [
    " r1 = {\n",
    "   'IOS': '15.4',\n",
    "    'IP': '10.255.0.1',\n",
    "    'hostname': 'london_r1',\n",
    "    'location': '21 New Globe Walk',\n",
    "   'model': '4451',\n",
    "    'vendor': 'Cisco'}\n",
    "\n"
   ]
  },
  {
   "cell_type": "code",
   "execution_count": 8,
   "id": "b56184f0",
   "metadata": {},
   "outputs": [
    {
     "data": {
      "text/plain": [
       "{'IOS': '15.4',\n",
       " 'IP': '10.255.0.1',\n",
       " 'hostname': 'london_r1',\n",
       " 'location': '21 New Globe Walk',\n",
       " 'model': '4451',\n",
       " 'vendor': 'Cisco'}"
      ]
     },
     "execution_count": 8,
     "metadata": {},
     "output_type": "execute_result"
    }
   ],
   "source": [
    "r1"
   ]
  },
  {
   "cell_type": "code",
   "execution_count": 9,
   "id": "433f3fb0",
   "metadata": {},
   "outputs": [
    {
     "data": {
      "text/plain": [
       "True"
      ]
     },
     "execution_count": 9,
     "metadata": {},
     "output_type": "execute_result"
    }
   ],
   "source": [
    "\"IOS\" in r1"
   ]
  },
  {
   "cell_type": "code",
   "execution_count": 11,
   "id": "b115d3da",
   "metadata": {},
   "outputs": [
    {
     "data": {
      "text/plain": [
       "False"
      ]
     },
     "execution_count": 11,
     "metadata": {},
     "output_type": "execute_result"
    }
   ],
   "source": [
    "\"IOs\" in r1"
   ]
  },
  {
   "cell_type": "code",
   "execution_count": 12,
   "id": "eae23baa",
   "metadata": {},
   "outputs": [
    {
     "data": {
      "text/plain": [
       "False"
      ]
     },
     "execution_count": 12,
     "metadata": {},
     "output_type": "execute_result"
    }
   ],
   "source": [
    "\"london_r1\" in r1"
   ]
  },
  {
   "cell_type": "code",
   "execution_count": 21,
   "id": "4fb9e465",
   "metadata": {},
   "outputs": [],
   "source": [
    "#AND - последнее истинное или первое ложное"
   ]
  },
  {
   "cell_type": "code",
   "execution_count": 13,
   "id": "196993d9",
   "metadata": {},
   "outputs": [
    {
     "data": {
      "text/plain": [
       "'2'"
      ]
     },
     "execution_count": 13,
     "metadata": {},
     "output_type": "execute_result"
    }
   ],
   "source": [
    "\"1\" and \"2\""
   ]
  },
  {
   "cell_type": "code",
   "execution_count": 14,
   "id": "7cba234f",
   "metadata": {},
   "outputs": [
    {
     "data": {
      "text/plain": [
       "''"
      ]
     },
     "execution_count": 14,
     "metadata": {},
     "output_type": "execute_result"
    }
   ],
   "source": [
    "\"\" and \"2\""
   ]
  },
  {
   "cell_type": "code",
   "execution_count": null,
   "id": "928c5e3b",
   "metadata": {},
   "outputs": [],
   "source": [
    "#первое истинное или последнее ложное"
   ]
  },
  {
   "cell_type": "code",
   "execution_count": 15,
   "id": "d523885b",
   "metadata": {},
   "outputs": [
    {
     "data": {
      "text/plain": [
       "'1'"
      ]
     },
     "execution_count": 15,
     "metadata": {},
     "output_type": "execute_result"
    }
   ],
   "source": [
    "\"1\" or \"2\""
   ]
  },
  {
   "cell_type": "code",
   "execution_count": 16,
   "id": "a79a456c",
   "metadata": {},
   "outputs": [
    {
     "data": {
      "text/plain": [
       "'0'"
      ]
     },
     "execution_count": 16,
     "metadata": {},
     "output_type": "execute_result"
    }
   ],
   "source": [
    "\"0\" or \"2\""
   ]
  },
  {
   "cell_type": "code",
   "execution_count": 17,
   "id": "e4ab2775",
   "metadata": {},
   "outputs": [
    {
     "data": {
      "text/plain": [
       "''"
      ]
     },
     "execution_count": 17,
     "metadata": {},
     "output_type": "execute_result"
    }
   ],
   "source": [
    "\"\" and [] and \"3\""
   ]
  },
  {
   "cell_type": "code",
   "execution_count": 18,
   "id": "0ddb1354",
   "metadata": {},
   "outputs": [
    {
     "data": {
      "text/plain": [
       "'3'"
      ]
     },
     "execution_count": 18,
     "metadata": {},
     "output_type": "execute_result"
    }
   ],
   "source": [
    "\"\" or [] or \"3\""
   ]
  },
  {
   "cell_type": "code",
   "execution_count": 19,
   "id": "4f757fde",
   "metadata": {},
   "outputs": [
    {
     "data": {
      "text/plain": [
       "'string1'"
      ]
     },
     "execution_count": 19,
     "metadata": {},
     "output_type": "execute_result"
    }
   ],
   "source": [
    "\"string1\" or \"string2\""
   ]
  },
  {
   "cell_type": "code",
   "execution_count": 20,
   "id": "378b8ca2",
   "metadata": {},
   "outputs": [
    {
     "data": {
      "text/plain": [
       "'string2'"
      ]
     },
     "execution_count": 20,
     "metadata": {},
     "output_type": "execute_result"
    }
   ],
   "source": [
    "\"string1\" and \"string2\""
   ]
  },
  {
   "cell_type": "code",
   "execution_count": 29,
   "id": "8d684a37",
   "metadata": {},
   "outputs": [],
   "source": [
    "#Тернарное выражение"
   ]
  },
  {
   "cell_type": "code",
   "execution_count": 25,
   "id": "b1a68b8c",
   "metadata": {},
   "outputs": [],
   "source": [
    "s = [1, 2, 3, 4]"
   ]
  },
  {
   "cell_type": "code",
   "execution_count": 26,
   "id": "6939156c",
   "metadata": {},
   "outputs": [],
   "source": [
    "result = True if len(s) > 5 else False"
   ]
  },
  {
   "cell_type": "code",
   "execution_count": 27,
   "id": "9e913744",
   "metadata": {},
   "outputs": [
    {
     "data": {
      "text/plain": [
       "False"
      ]
     },
     "execution_count": 27,
     "metadata": {},
     "output_type": "execute_result"
    }
   ],
   "source": [
    "result"
   ]
  },
  {
   "cell_type": "code",
   "execution_count": null,
   "id": "cac34af8",
   "metadata": {},
   "outputs": [],
   "source": [
    "#FOR для последовательностей: строка, список, словарь, т.е. любой итерируемый объект."
   ]
  },
  {
   "cell_type": "code",
   "execution_count": null,
   "id": "75fdc124",
   "metadata": {},
   "outputs": [],
   "source": [
    "#FOR with lists"
   ]
  },
  {
   "cell_type": "code",
   "execution_count": 28,
   "id": "ae0933a5",
   "metadata": {},
   "outputs": [],
   "source": [
    "words = [\"list\", \"dict\", \"tuple\"]"
   ]
  },
  {
   "cell_type": "code",
   "execution_count": null,
   "id": "7879e7da",
   "metadata": {},
   "outputs": [],
   "source": [
    "upper_words = []\n",
    "for element in words:\n",
    "    upper_words.append(element.upper())\n",
    "print(upper_words)"
   ]
  },
  {
   "cell_type": "code",
   "execution_count": null,
   "id": "f2daa881",
   "metadata": {},
   "outputs": [],
   "source": [
    "#FOR with strings"
   ]
  },
  {
   "cell_type": "code",
   "execution_count": 30,
   "id": "92866294",
   "metadata": {},
   "outputs": [
    {
     "name": "stdout",
     "output_type": "stream",
     "text": [
      "t\n",
      "e\n",
      "s\n",
      "t\n",
      " \n",
      "s\n",
      "t\n",
      "r\n",
      "i\n",
      "n\n",
      "g\n"
     ]
    }
   ],
   "source": [
    "for letter in \"test string\":\n",
    "    print(letter)"
   ]
  },
  {
   "cell_type": "code",
   "execution_count": null,
   "id": "f6651a19",
   "metadata": {},
   "outputs": [],
   "source": [
    " #FOR, RANGE"
   ]
  },
  {
   "cell_type": "code",
   "execution_count": 33,
   "id": "2ed5c468",
   "metadata": {},
   "outputs": [
    {
     "name": "stdout",
     "output_type": "stream",
     "text": [
      "interface Fa0/0\n",
      "interface Fa0/1\n",
      "interface Fa0/2\n",
      "interface Fa0/3\n",
      "interface Fa0/4\n",
      "interface Fa0/5\n",
      "interface Fa0/6\n",
      "interface Fa0/7\n",
      "interface Fa0/8\n",
      "interface Fa0/9\n",
      "interface Fa0/10\n",
      "interface Fa0/11\n",
      "interface Fa0/12\n",
      "interface Fa0/13\n",
      "interface Fa0/14\n",
      "interface Fa0/15\n",
      "interface Fa0/16\n",
      "interface Fa0/17\n",
      "interface Fa0/18\n",
      "interface Fa0/19\n",
      "interface Fa0/20\n",
      "interface Fa0/21\n",
      "interface Fa0/22\n",
      "interface Fa0/23\n",
      "interface Fa0/24\n",
      "interface Fa0/25\n",
      "interface Fa0/26\n",
      "interface Fa0/27\n",
      "interface Fa0/28\n",
      "interface Fa0/29\n",
      "interface Fa0/30\n",
      "interface Fa0/31\n",
      "interface Fa0/32\n",
      "interface Fa0/33\n",
      "interface Fa0/34\n",
      "interface Fa0/35\n",
      "interface Fa0/36\n",
      "interface Fa0/37\n",
      "interface Fa0/38\n",
      "interface Fa0/39\n",
      "interface Fa0/40\n",
      "interface Fa0/41\n",
      "interface Fa0/42\n",
      "interface Fa0/43\n",
      "interface Fa0/44\n",
      "interface Fa0/45\n",
      "interface Fa0/46\n",
      "interface Fa0/47\n",
      "interface Fa0/48\n"
     ]
    }
   ],
   "source": [
    "for num in range(49):      #до 10ти не включая!\n",
    "    print(f\"interface Fa0/{num}\")"
   ]
  },
  {
   "cell_type": "code",
   "execution_count": null,
   "id": "f058b8de",
   "metadata": {},
   "outputs": [],
   "source": [
    "vlans = [10, 20, 30, 40, 50, 1000, 2000]\n",
    "for num_vlan in vlans:\n",
    "    print(f\"vlan {num_vlan}\")\n",
    "    print(f\"name VLAN_{num_vlan}\")"
   ]
  },
  {
   "cell_type": "code",
   "execution_count": 35,
   "id": "3321762c",
   "metadata": {},
   "outputs": [
    {
     "data": {
      "text/plain": [
       "{'IOS': '15.4',\n",
       " 'IP': '10.255.0.1',\n",
       " 'hostname': 'london_r1',\n",
       " 'location': '21 New Globe Walk',\n",
       " 'model': '4451',\n",
       " 'vendor': 'Cisco'}"
      ]
     },
     "execution_count": 35,
     "metadata": {},
     "output_type": "execute_result"
    }
   ],
   "source": [
    "r1"
   ]
  },
  {
   "cell_type": "code",
   "execution_count": 36,
   "id": "2aa6536a",
   "metadata": {},
   "outputs": [
    {
     "name": "stdout",
     "output_type": "stream",
     "text": [
      "IOS\n",
      "IP\n",
      "hostname\n",
      "location\n",
      "model\n",
      "vendor\n"
     ]
    }
   ],
   "source": [
    "for key in r1:\n",
    "    print(key)"
   ]
  },
  {
   "cell_type": "code",
   "execution_count": 37,
   "id": "b86a3fb2",
   "metadata": {},
   "outputs": [
    {
     "name": "stdout",
     "output_type": "stream",
     "text": [
      "IOS---->15.4\n",
      "IP---->10.255.0.1\n",
      "hostname---->london_r1\n",
      "location---->21 New Globe Walk\n",
      "model---->4451\n",
      "vendor---->Cisco\n"
     ]
    }
   ],
   "source": [
    "for key in r1:\n",
    "    print(key + \"---->\" + r1[key])"
   ]
  },
  {
   "cell_type": "code",
   "execution_count": null,
   "id": "efd9a68b",
   "metadata": {},
   "outputs": [],
   "source": [
    "#Вывести пары ключ:значение"
   ]
  },
  {
   "cell_type": "code",
   "execution_count": 38,
   "id": "d2c4fbab",
   "metadata": {},
   "outputs": [
    {
     "data": {
      "text/plain": [
       "{'IOS': '15.4',\n",
       " 'IP': '10.255.0.1',\n",
       " 'hostname': 'london_r1',\n",
       " 'location': '21 New Globe Walk',\n",
       " 'model': '4451',\n",
       " 'vendor': 'Cisco'}"
      ]
     },
     "execution_count": 38,
     "metadata": {},
     "output_type": "execute_result"
    }
   ],
   "source": [
    "r1"
   ]
  },
  {
   "cell_type": "code",
   "execution_count": 39,
   "id": "a1793477",
   "metadata": {},
   "outputs": [
    {
     "data": {
      "text/plain": [
       "dict_items([('IOS', '15.4'), ('IP', '10.255.0.1'), ('hostname', 'london_r1'), ('location', '21 New Globe Walk'), ('model', '4451'), ('vendor', 'Cisco')])"
      ]
     },
     "execution_count": 39,
     "metadata": {},
     "output_type": "execute_result"
    }
   ],
   "source": [
    "r1.items()"
   ]
  },
  {
   "cell_type": "code",
   "execution_count": 40,
   "id": "51d509b5",
   "metadata": {},
   "outputs": [
    {
     "name": "stdout",
     "output_type": "stream",
     "text": [
      "IOS 15.4\n",
      "IP 10.255.0.1\n",
      "hostname london_r1\n",
      "location 21 New Globe Walk\n",
      "model 4451\n",
      "vendor Cisco\n"
     ]
    }
   ],
   "source": [
    "for key,value in r1.items():\n",
    "    print(key + \" \" + value)\n"
   ]
  },
  {
   "cell_type": "code",
   "execution_count": 42,
   "id": "bc024914",
   "metadata": {},
   "outputs": [],
   "source": [
    "commands = ['switchport mode access', 'spanning-tree portfast', 'spanning-tree bpduguard enable']\n",
    "fast_int = ['0/1','0/3','0/4','0/7','0/9','0/10','0/11']"
   ]
  },
  {
   "cell_type": "code",
   "execution_count": 43,
   "id": "6883bd48",
   "metadata": {},
   "outputs": [
    {
     "name": "stdout",
     "output_type": "stream",
     "text": [
      "interface FastEth 0/1\n",
      "switchport mode access\n",
      "spanning-tree portfast\n",
      "spanning-tree bpduguard enable\n",
      "\n",
      "\n",
      "interface FastEth 0/3\n",
      "switchport mode access\n",
      "spanning-tree portfast\n",
      "spanning-tree bpduguard enable\n",
      "\n",
      "\n",
      "interface FastEth 0/4\n",
      "switchport mode access\n",
      "spanning-tree portfast\n",
      "spanning-tree bpduguard enable\n",
      "\n",
      "\n",
      "interface FastEth 0/7\n",
      "switchport mode access\n",
      "spanning-tree portfast\n",
      "spanning-tree bpduguard enable\n",
      "\n",
      "\n",
      "interface FastEth 0/9\n",
      "switchport mode access\n",
      "spanning-tree portfast\n",
      "spanning-tree bpduguard enable\n",
      "\n",
      "\n",
      "interface FastEth 0/10\n",
      "switchport mode access\n",
      "spanning-tree portfast\n",
      "spanning-tree bpduguard enable\n",
      "\n",
      "\n",
      "interface FastEth 0/11\n",
      "switchport mode access\n",
      "spanning-tree portfast\n",
      "spanning-tree bpduguard enable\n",
      "\n",
      "\n"
     ]
    }
   ],
   "source": [
    "for interface in fast_int:\n",
    "    print(f\"interface FastEth {interface}\")\n",
    "    for command in commands:\n",
    "        print(command)\n",
    "    print(\"\\n\") \n",
    "    "
   ]
  },
  {
   "cell_type": "code",
   "execution_count": null,
   "id": "9d4346c3",
   "metadata": {},
   "outputs": [],
   "source": [
    "#FOR, IF (generate_access_port_config)"
   ]
  },
  {
   "cell_type": "code",
   "execution_count": 46,
   "id": "06f23ab0",
   "metadata": {},
   "outputs": [
    {
     "name": "stdout",
     "output_type": "stream",
     "text": [
      "interface FastEth 0/12\n",
      "switchport mode access\n",
      "switchport access vlan 10\n",
      "spanning-tree portfast\n",
      "spanning-tree bpduguard enable\n",
      "\n",
      "\n",
      "interface FastEth 0/14\n",
      "switchport mode access\n",
      "switchport access vlan 11\n",
      "spanning-tree portfast\n",
      "spanning-tree bpduguard enable\n",
      "\n",
      "\n",
      "interface FastEth 0/16\n",
      "switchport mode access\n",
      "switchport access vlan 17\n",
      "spanning-tree portfast\n",
      "spanning-tree bpduguard enable\n",
      "\n",
      "\n",
      "interface FastEth 0/17\n",
      "switchport mode access\n",
      "switchport access vlan 150\n",
      "spanning-tree portfast\n",
      "spanning-tree bpduguard enable\n",
      "\n",
      "\n"
     ]
    }
   ],
   "source": [
    "access_template = ['switchport mode access',\n",
    "                    'switchport access vlan',\n",
    "                    'spanning-tree portfast',\n",
    "                    'spanning-tree bpduguard enable']\n",
    "access = {'0/12': 10, '0/14': 11, '0/16': 17, '0/17': 150}\n",
    "\n",
    "for intf, vlan in access.items():\n",
    "    print(f\"interface FastEth {intf}\")\n",
    "    for data in access_template:\n",
    "        if data.endswith(\" access vlan\"):\n",
    "            print(f\"{data} {vlan}\")\n",
    "        else:\n",
    "            print(data)\n",
    "    print(\"\\n\")"
   ]
  },
  {
   "cell_type": "code",
   "execution_count": null,
   "id": "bff386ab",
   "metadata": {},
   "outputs": [],
   "source": [
    "#WHILE/ пока условие истоинно - выполняю "
   ]
  },
  {
   "cell_type": "code",
   "execution_count": 47,
   "id": "4952fd86",
   "metadata": {},
   "outputs": [
    {
     "name": "stdout",
     "output_type": "stream",
     "text": [
      "5\n",
      "4\n",
      "3\n",
      "2\n",
      "1\n"
     ]
    }
   ],
   "source": [
    "a = 5\n",
    "\n",
    "while a > 0:\n",
    "        print(a)\n",
    "        a -= 1"
   ]
  },
  {
   "cell_type": "code",
   "execution_count": null,
   "id": "d8a96a9b",
   "metadata": {},
   "outputs": [],
   "source": [
    "#check_password_with_while"
   ]
  },
  {
   "cell_type": "code",
   "execution_count": 48,
   "id": "9050b61c",
   "metadata": {},
   "outputs": [
    {
     "name": "stdout",
     "output_type": "stream",
     "text": [
      "Введите имя пользователя: Evgen\n",
      "Введите пароль: Evgen1234\n",
      "Введенный пароль содержит имя пользователя!\n",
      "Введите пароль ещё раз: evgen1234\n",
      "Пароль для пользователя Evgen установлен!\n"
     ]
    }
   ],
   "source": [
    "username = input('Введите имя пользователя: ')\n",
    "password = input('Введите пароль: ')\n",
    "\n",
    "password_correct = False\n",
    "\n",
    "while not password_correct:\n",
    "    if len(password) < 8:\n",
    "        print(\"Пароль слишком короткий:\\n\")\n",
    "        password = input('Введите пароль ещё раз: ')\n",
    "    elif username in password:\n",
    "        print(\"Введенный пароль содержит имя пользователя!\")\n",
    "        password = input('Введите пароль ещё раз: ')\n",
    "    else:\n",
    "        print(f\"Пароль для пользователя {username} установлен!\")\n",
    "        password_correct = True"
   ]
  },
  {
   "cell_type": "code",
   "execution_count": null,
   "id": "a06ea0d4",
   "metadata": {},
   "outputs": [],
   "source": [
    "username = input('Введите имя пользователя: ')\n",
    "password = input('Введите пароль: ')\n",
    "\n",
    "password_correct = True\n",
    "\n",
    "while password_correct:\n",
    "    if len(password) < 8:\n",
    "        print(\"Пароль слишком короткий:\\n\")\n",
    "        password = input('Введите пароль ещё раз: ')\n",
    "    elif username in password:\n",
    "        print(\"Введенный пароль содержит имя пользователя!\")\n",
    "        password = input('Введите пароль ещё раз: ')\n",
    "    else:\n",
    "        print(f\"Пароль для пользователя {username} установлен!\")\n",
    "        password_correct = False"
   ]
  },
  {
   "cell_type": "code",
   "execution_count": 49,
   "id": "6341fc13",
   "metadata": {},
   "outputs": [],
   "source": [
    "#BREAK, CONTINUE, PASS"
   ]
  },
  {
   "cell_type": "code",
   "execution_count": 50,
   "id": "d0c72b3c",
   "metadata": {},
   "outputs": [
    {
     "name": "stdout",
     "output_type": "stream",
     "text": [
      "0\n",
      "1\n",
      "2\n",
      "3\n",
      "4\n",
      "5\n",
      "6\n"
     ]
    }
   ],
   "source": [
    "for num in range(10):\n",
    "    if num < 7:\n",
    "        print(num)\n",
    "    else:\n",
    "        break"
   ]
  },
  {
   "cell_type": "code",
   "execution_count": 51,
   "id": "fec85daa",
   "metadata": {},
   "outputs": [
    {
     "name": "stdout",
     "output_type": "stream",
     "text": [
      "0\n",
      "1\n",
      "2\n",
      "3\n",
      "4\n"
     ]
    }
   ],
   "source": [
    "i = 0\n",
    "\n",
    "while i < 10:\n",
    "    print(i)\n",
    "    i += 1\n",
    "    if i == 5:\n",
    "        break\n",
    "        "
   ]
  },
  {
   "cell_type": "code",
   "execution_count": null,
   "id": "ec359d0f",
   "metadata": {},
   "outputs": [],
   "source": [
    "i = 0\n",
    "\n",
    "while i < 10:\n",
    "    if i == 5:\n",
    "        break\n",
    "    else:\n",
    "        print(i)\n",
    "        i += 1"
   ]
  },
  {
   "cell_type": "code",
   "execution_count": 114,
   "id": "62ddc149",
   "metadata": {},
   "outputs": [
    {
     "name": "stdout",
     "output_type": "stream",
     "text": [
      "Введите имя пользователя: admin\n",
      "Введите пароль: admin\n",
      "Пароль слишком короткий:\n",
      "\n",
      "Введите пароль ещё раз!admin1234\n",
      "Введенный пароль содержит имя пользователя!\n",
      "Введите пароль ещё раз!admiN1234\n",
      "Пароль для пользователя admin установлен!\n"
     ]
    }
   ],
   "source": [
    "username = input('Введите имя пользователя: ')\n",
    "password = input('Введите пароль: ')\n",
    "\n",
    "password_correct = True\n",
    "\n",
    "while password_correct:\n",
    "    if len(password) < 8:\n",
    "        print(\"Пароль слишком короткий:\\n\")\n",
    "        #password = input('Введите пароль ещё раз: ')\n",
    "    elif username in password:\n",
    "        print(\"Введенный пароль содержит имя пользователя!\")\n",
    "        #password = input('Введите пароль ещё раз: ')\n",
    "    else:\n",
    "        print(f\"Пароль для пользователя {username} установлен!\")\n",
    "        #password_correct = False\n",
    "        break\n",
    "    password = input(\"Введите пароль ещё раз!\")"
   ]
  },
  {
   "cell_type": "code",
   "execution_count": 116,
   "id": "ccf48f61",
   "metadata": {},
   "outputs": [
    {
     "name": "stdout",
     "output_type": "stream",
     "text": [
      "Введите имя пользователя: admin\n",
      "Введите пароль: administrartor\n",
      "Введенный пароль содержит имя пользователя!\n",
      "Введите пароль ещё раз!admiN1234\n",
      "Пароль для пользователя admin установлен!\n"
     ]
    }
   ],
   "source": [
    "username = input('Введите имя пользователя: ')\n",
    "password = input('Введите пароль: ')\n",
    "\n",
    "#password_correct = True\n",
    "\n",
    "while True:#password_correct:\n",
    "    if len(password) < 8:\n",
    "        print(\"Пароль слишком короткий:\\n\")\n",
    "        #password = input('Введите пароль ещё раз: ')\n",
    "    elif username in password:\n",
    "        print(\"Введенный пароль содержит имя пользователя!\")\n",
    "        #password = input('Введите пароль ещё раз: ')\n",
    "    else:\n",
    "        print(f\"Пароль для пользователя {username} установлен!\")\n",
    "        #password_correct = False\n",
    "        break\n",
    "    password = input(\"Введите пароль ещё раз!\")"
   ]
  },
  {
   "cell_type": "code",
   "execution_count": 117,
   "id": "e7983373",
   "metadata": {},
   "outputs": [],
   "source": [
    "#Continue"
   ]
  },
  {
   "cell_type": "code",
   "execution_count": 118,
   "id": "76c0d0a0",
   "metadata": {},
   "outputs": [
    {
     "name": "stdout",
     "output_type": "stream",
     "text": [
      "0\n",
      "1\n",
      "2\n",
      "3\n",
      "4\n"
     ]
    }
   ],
   "source": [
    "for num in range(5):\n",
    "    print(num)"
   ]
  },
  {
   "cell_type": "code",
   "execution_count": 53,
   "id": "fa802fe8",
   "metadata": {},
   "outputs": [
    {
     "name": "stdout",
     "output_type": "stream",
     "text": [
      "0\n",
      "1\n",
      "2\n",
      "3\n",
      "4\n"
     ]
    }
   ],
   "source": [
    "for num in range(5):\n",
    "    print(num)\n",
    "    if num == 3:\n",
    "        continue"
   ]
  },
  {
   "cell_type": "code",
   "execution_count": 54,
   "id": "afe5853f",
   "metadata": {},
   "outputs": [
    {
     "name": "stdout",
     "output_type": "stream",
     "text": [
      "0\n",
      "1\n",
      "2\n",
      "4\n"
     ]
    }
   ],
   "source": [
    "for num in range(5):\n",
    "    if num == 3:\n",
    "        continue\n",
    "    else:\n",
    "        print(num)"
   ]
  },
  {
   "cell_type": "code",
   "execution_count": 124,
   "id": "0c36d345",
   "metadata": {},
   "outputs": [
    {
     "name": "stdout",
     "output_type": "stream",
     "text": [
      "Текущее значение 1\n",
      "Текущее значение 2\n",
      "пропускаем тройку\n",
      "Текущее значение 4\n",
      "Текущее значение 5\n",
      "Текущее значение 6\n"
     ]
    }
   ],
   "source": [
    "#example with while:\n",
    "i = 0\n",
    "while i < 6:\n",
    "    i += 1\n",
    "    if i == 3:\n",
    "        print(\"пропускаем тройку\")\n",
    "        continue\n",
    "    else:\n",
    "        print(\"Текущее значение\", i)"
   ]
  },
  {
   "cell_type": "code",
   "execution_count": 56,
   "id": "698dc573",
   "metadata": {},
   "outputs": [
    {
     "name": "stdout",
     "output_type": "stream",
     "text": [
      "Введите имя пользователя: evgen\n",
      "Введите пароль: fasdvdsvsdvsbdv\n",
      "Пароль для пользователя evgen установлен!\n"
     ]
    }
   ],
   "source": [
    "#example with request password:\n",
    "username = input('Введите имя пользователя: ')\n",
    "password = input('Введите пароль: ')\n",
    "\n",
    "password_correct = False\n",
    "while not password_correct:\n",
    "    if len(password) < 8:\n",
    "        print(\"Пароль слишком короткий:\\n\")\n",
    "    elif username in password:\n",
    "        print(\"Введенный пароль содержит имя пользователя!\")\n",
    "        \n",
    "    else:\n",
    "        print(f\"Пароль для пользователя {username} установлен!\")\n",
    "        password_correct = True\n",
    "        continue #опять возвращается на while\n",
    "    password = input(\"Введите пароль ещё раз!\")"
   ]
  },
  {
   "cell_type": "code",
   "execution_count": 127,
   "id": "03fb8b4b",
   "metadata": {},
   "outputs": [],
   "source": [
    "#PASS - заглушка для объектов в циклах, классах, функциях."
   ]
  },
  {
   "cell_type": "code",
   "execution_count": 134,
   "id": "56c5beff",
   "metadata": {},
   "outputs": [
    {
     "name": "stdout",
     "output_type": "stream",
     "text": [
      "0\n",
      "1\n",
      "2\n"
     ]
    }
   ],
   "source": [
    "for num in range(5):\n",
    "    if num < 3:\n",
    "        print(num)\n",
    "        "
   ]
  },
  {
   "cell_type": "code",
   "execution_count": 133,
   "id": "c820360b",
   "metadata": {},
   "outputs": [
    {
     "name": "stdout",
     "output_type": "stream",
     "text": [
      "3\n",
      "4\n"
     ]
    }
   ],
   "source": [
    "for num in range(5):\n",
    "    if num < 3:\n",
    "        pass\n",
    "    else:\n",
    "        print(num)\n",
    "        "
   ]
  },
  {
   "cell_type": "code",
   "execution_count": 135,
   "id": "4e7050b1",
   "metadata": {},
   "outputs": [
    {
     "name": "stdout",
     "output_type": "stream",
     "text": [
      "3\n",
      "4\n"
     ]
    }
   ],
   "source": [
    "for num in range(5):\n",
    "    if num < 3:\n",
    "        continue\n",
    "    else:\n",
    "        print(num)\n",
    "        "
   ]
  },
  {
   "cell_type": "code",
   "execution_count": null,
   "id": "c7922262",
   "metadata": {},
   "outputs": [],
   "source": [
    "#ELSE выполняется после завершения итерации"
   ]
  },
  {
   "cell_type": "code",
   "execution_count": 136,
   "id": "f3c5e0f5",
   "metadata": {},
   "outputs": [],
   "source": [
    "#FOR/ELSE "
   ]
  },
  {
   "cell_type": "code",
   "execution_count": 58,
   "id": "d1a4f48a",
   "metadata": {},
   "outputs": [
    {
     "name": "stdout",
     "output_type": "stream",
     "text": [
      "0\n",
      "1\n",
      "2\n",
      "3\n",
      "4\n",
      "Num is ended!\n"
     ]
    }
   ],
   "source": [
    "for num in range(5):\n",
    "    print(num)\n",
    "else:\n",
    "    print(\"Num is ended!\")"
   ]
  },
  {
   "cell_type": "code",
   "execution_count": null,
   "id": "c0b77f18",
   "metadata": {},
   "outputs": [],
   "source": [
    "#FOR/IF/ELSE + BREAK"
   ]
  },
  {
   "cell_type": "code",
   "execution_count": 57,
   "id": "98896a7c",
   "metadata": {},
   "outputs": [
    {
     "name": "stdout",
     "output_type": "stream",
     "text": [
      "Num is ended!\n",
      "Num is ended!\n",
      "Num is ended!\n"
     ]
    }
   ],
   "source": [
    "for num in range(5):\n",
    "    if num == 3:\n",
    "        break\n",
    "    else:\n",
    "        print(\"Num is ended!\")"
   ]
  },
  {
   "cell_type": "code",
   "execution_count": 59,
   "id": "c52c4a18",
   "metadata": {},
   "outputs": [
    {
     "name": "stdout",
     "output_type": "stream",
     "text": [
      "0\n",
      "1\n",
      "2\n"
     ]
    }
   ],
   "source": [
    "for num in range(5):\n",
    "    if num == 3:\n",
    "        break\n",
    "    else:\n",
    "        print(num)\n",
    "else:\n",
    "    print(\"Num is ended!\")\n"
   ]
  },
  {
   "cell_type": "code",
   "execution_count": 143,
   "id": "0320f98a",
   "metadata": {},
   "outputs": [
    {
     "name": "stdout",
     "output_type": "stream",
     "text": [
      "0\n",
      "1\n",
      "2\n",
      "4\n",
      "Num is ended!\n"
     ]
    }
   ],
   "source": [
    "#with continue\n",
    "for num in range(5):\n",
    "    if num == 3:\n",
    "        continue\n",
    "    else:\n",
    "        print(num)\n",
    "else:\n",
    "    print(\"Num is ended!\")\n"
   ]
  },
  {
   "cell_type": "code",
   "execution_count": 142,
   "id": "f819bd56",
   "metadata": {},
   "outputs": [],
   "source": [
    "#WHILE/ELSE:"
   ]
  },
  {
   "cell_type": "code",
   "execution_count": 60,
   "id": "1448adef",
   "metadata": {},
   "outputs": [
    {
     "name": "stdout",
     "output_type": "stream",
     "text": [
      "0\n",
      "1\n",
      "2\n",
      "3\n",
      "4\n",
      "End\n"
     ]
    }
   ],
   "source": [
    "i = 0\n",
    "while i < 5:\n",
    "    print(i)\n",
    "    i += 1\n",
    "else:\n",
    "    print(\"End\")"
   ]
  },
  {
   "cell_type": "code",
   "execution_count": 61,
   "id": "f553b94f",
   "metadata": {},
   "outputs": [
    {
     "name": "stdout",
     "output_type": "stream",
     "text": [
      "0\n",
      "1\n",
      "2\n"
     ]
    }
   ],
   "source": [
    "i = 0\n",
    "while i < 5:\n",
    "    print(i)\n",
    "    i += 1\n",
    "    if i == 3:\n",
    "        break"
   ]
  },
  {
   "cell_type": "code",
   "execution_count": 67,
   "id": "fc8581a1",
   "metadata": {},
   "outputs": [
    {
     "name": "stdout",
     "output_type": "stream",
     "text": [
      "0\n",
      "1\n"
     ]
    }
   ],
   "source": [
    "i = 0\n",
    "while i < 5:\n",
    "    if i == 2:\n",
    "        break\n",
    "    else:\n",
    "        print(i)\n",
    "        i += 1\n",
    "else:\n",
    "    print(\"End\")"
   ]
  },
  {
   "cell_type": "code",
   "execution_count": null,
   "id": "bc7a1a03",
   "metadata": {},
   "outputs": [],
   "source": [
    "#TRY/EXCEPT/ELSE/FINALLY"
   ]
  },
  {
   "cell_type": "code",
   "execution_count": 68,
   "id": "1b55c404",
   "metadata": {},
   "outputs": [
    {
     "ename": "ZeroDivisionError",
     "evalue": "division by zero",
     "output_type": "error",
     "traceback": [
      "\u001b[1;31m---------------------------------------------------------------------------\u001b[0m",
      "\u001b[1;31mZeroDivisionError\u001b[0m                         Traceback (most recent call last)",
      "Cell \u001b[1;32mIn[68], line 1\u001b[0m\n\u001b[1;32m----> 1\u001b[0m \u001b[38;5;241;43m2\u001b[39;49m\u001b[38;5;241;43m/\u001b[39;49m\u001b[38;5;241;43m0\u001b[39;49m\n",
      "\u001b[1;31mZeroDivisionError\u001b[0m: division by zero"
     ]
    }
   ],
   "source": [
    "2/0"
   ]
  },
  {
   "cell_type": "code",
   "execution_count": 69,
   "id": "53942d60",
   "metadata": {},
   "outputs": [
    {
     "ename": "TypeError",
     "evalue": "can only concatenate str (not \"int\") to str",
     "output_type": "error",
     "traceback": [
      "\u001b[1;31m---------------------------------------------------------------------------\u001b[0m",
      "\u001b[1;31mTypeError\u001b[0m                                 Traceback (most recent call last)",
      "Cell \u001b[1;32mIn[69], line 1\u001b[0m\n\u001b[1;32m----> 1\u001b[0m \u001b[38;5;124;43m\"\u001b[39;49m\u001b[38;5;124;43mTEST\u001b[39;49m\u001b[38;5;124;43m\"\u001b[39;49m\u001b[43m \u001b[49m\u001b[38;5;241;43m+\u001b[39;49m\u001b[43m \u001b[49m\u001b[38;5;241;43m2\u001b[39;49m\n",
      "\u001b[1;31mTypeError\u001b[0m: can only concatenate str (not \"int\") to str"
     ]
    }
   ],
   "source": [
    "\"TEST\" + 2"
   ]
  },
  {
   "cell_type": "code",
   "execution_count": 70,
   "id": "ac37dd04",
   "metadata": {},
   "outputs": [],
   "source": [
    "#TRY/EXCEPT для работы с исключениями"
   ]
  },
  {
   "cell_type": "code",
   "execution_count": 75,
   "id": "bddcbc5f",
   "metadata": {},
   "outputs": [
    {
     "ename": "ZeroDivisionError",
     "evalue": "division by zero",
     "output_type": "error",
     "traceback": [
      "\u001b[1;31m---------------------------------------------------------------------------\u001b[0m",
      "\u001b[1;31mZeroDivisionError\u001b[0m                         Traceback (most recent call last)",
      "Cell \u001b[1;32mIn[75], line 1\u001b[0m\n\u001b[1;32m----> 1\u001b[0m \u001b[38;5;241;43m2\u001b[39;49m\u001b[38;5;241;43m/\u001b[39;49m\u001b[38;5;241;43m0\u001b[39;49m\n",
      "\u001b[1;31mZeroDivisionError\u001b[0m: division by zero"
     ]
    }
   ],
   "source": [
    "2/0"
   ]
  },
  {
   "cell_type": "code",
   "execution_count": 73,
   "id": "fbf5a124",
   "metadata": {},
   "outputs": [
    {
     "name": "stdout",
     "output_type": "stream",
     "text": [
      "You can't divide by zero!\n"
     ]
    }
   ],
   "source": [
    "try:\n",
    "    2/0\n",
    "except ZeroDivisionError:\n",
    "    print(\"You can't divide by zero!\")"
   ]
  },
  {
   "cell_type": "code",
   "execution_count": 78,
   "id": "8a54dc4d",
   "metadata": {},
   "outputs": [
    {
     "name": "stdout",
     "output_type": "stream",
     "text": [
      "1) Let's divide some numbers\n",
      "3) You can't divide by zero\n"
     ]
    }
   ],
   "source": [
    "try:\n",
    "    print(\"1) Let's divide some numbers\")\n",
    "    2/0\n",
    "    print(\"2) Cool!\")\n",
    "except ZeroDivisionError:\n",
    "    print(\"3) You can't divide by zero\")"
   ]
  },
  {
   "cell_type": "code",
   "execution_count": 82,
   "id": "0e67039d",
   "metadata": {},
   "outputs": [
    {
     "name": "stdout",
     "output_type": "stream",
     "text": [
      "Введите первое число: 10\n",
      "Введите второе число: 0\n",
      "На ноль делить нельзя!\n"
     ]
    }
   ],
   "source": [
    "try:\n",
    "    num1 = input(\"Введите первое число: \")\n",
    "    num2 = input(\"Введите второе число: \")\n",
    "    print(\"Резульат: \", int(num1)/int(num2))\n",
    "except ValueError:\n",
    "    print(\"Пожалуйста, вводите только числа!\")\n",
    "except ZeroDivisionError:\n",
    "    print(\"На ноль делить нельзя!\")"
   ]
  },
  {
   "cell_type": "code",
   "execution_count": 83,
   "id": "fb1eb90d",
   "metadata": {},
   "outputs": [],
   "source": [
    "#TRY/EXCEPT/ELSE"
   ]
  },
  {
   "cell_type": "code",
   "execution_count": null,
   "id": "7aca8b89",
   "metadata": {},
   "outputs": [],
   "source": [
    "try:\n",
    "    num1 = input(\"Введите первое число: \")\n",
    "    num2 = input(\"Введите второе число: \")\n",
    "    result = int(num1)/int(num2)\n",
    "except (ValueError, ZeroDivisionError):\n",
    "    print(\"Пожалуйста, вводите только числа!\")\n",
    "else:\n",
    "    print(\"Результат в квадрате: \", result**2)"
   ]
  },
  {
   "cell_type": "code",
   "execution_count": null,
   "id": "bd9924a9",
   "metadata": {},
   "outputs": [],
   "source": []
  },
  {
   "cell_type": "code",
   "execution_count": null,
   "id": "2676faef",
   "metadata": {},
   "outputs": [],
   "source": []
  }
 ],
 "metadata": {
  "kernelspec": {
   "display_name": "Python 3 (ipykernel)",
   "language": "python",
   "name": "python3"
  },
  "language_info": {
   "codemirror_mode": {
    "name": "ipython",
    "version": 3
   },
   "file_extension": ".py",
   "mimetype": "text/x-python",
   "name": "python",
   "nbconvert_exporter": "python",
   "pygments_lexer": "ipython3",
   "version": "3.10.9"
  }
 },
 "nbformat": 4,
 "nbformat_minor": 5
}
