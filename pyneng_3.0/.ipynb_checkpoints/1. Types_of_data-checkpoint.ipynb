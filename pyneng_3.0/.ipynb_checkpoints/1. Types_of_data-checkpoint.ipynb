{
 "cells": [
  {
   "cell_type": "code",
   "execution_count": 1,
   "id": "2b2ec30c",
   "metadata": {},
   "outputs": [],
   "source": [
    "#NUMBERS"
   ]
  },
  {
   "cell_type": "code",
   "execution_count": 2,
   "id": "3540541a",
   "metadata": {},
   "outputs": [
    {
     "data": {
      "text/plain": [
       "3"
      ]
     },
     "execution_count": 2,
     "metadata": {},
     "output_type": "execute_result"
    }
   ],
   "source": [
    "1 + 2\n"
   ]
  },
  {
   "cell_type": "code",
   "execution_count": 2,
   "id": "6ca2ebf1",
   "metadata": {},
   "outputs": [
    {
     "data": {
      "text/plain": [
       "32"
      ]
     },
     "execution_count": 2,
     "metadata": {},
     "output_type": "execute_result"
    }
   ],
   "source": [
    "2 ** 5"
   ]
  },
  {
   "cell_type": "code",
   "execution_count": 4,
   "id": "f090b30f",
   "metadata": {},
   "outputs": [
    {
     "data": {
      "text/plain": [
       "3.3333333333333335"
      ]
     },
     "execution_count": 4,
     "metadata": {},
     "output_type": "execute_result"
    }
   ],
   "source": [
    "10 / 3"
   ]
  },
  {
   "cell_type": "code",
   "execution_count": 5,
   "id": "5767787d",
   "metadata": {},
   "outputs": [
    {
     "data": {
      "text/plain": [
       "3.3333333333333335"
      ]
     },
     "execution_count": 5,
     "metadata": {},
     "output_type": "execute_result"
    }
   ],
   "source": [
    "10 / 3.0"
   ]
  },
  {
   "cell_type": "code",
   "execution_count": 6,
   "id": "5033e9d5",
   "metadata": {},
   "outputs": [
    {
     "data": {
      "text/plain": [
       "3.33"
      ]
     },
     "execution_count": 6,
     "metadata": {},
     "output_type": "execute_result"
    }
   ],
   "source": [
    "round(10/3.0, 2)"
   ]
  },
  {
   "cell_type": "code",
   "execution_count": 7,
   "id": "3a1a0ba8",
   "metadata": {},
   "outputs": [
    {
     "data": {
      "text/plain": [
       "0"
      ]
     },
     "execution_count": 7,
     "metadata": {},
     "output_type": "execute_result"
    }
   ],
   "source": [
    "10%2"
   ]
  },
  {
   "cell_type": "code",
   "execution_count": 8,
   "id": "fd946a79",
   "metadata": {},
   "outputs": [
    {
     "data": {
      "text/plain": [
       "1"
      ]
     },
     "execution_count": 8,
     "metadata": {},
     "output_type": "execute_result"
    }
   ],
   "source": [
    "10%3"
   ]
  },
  {
   "cell_type": "code",
   "execution_count": 9,
   "id": "a1dae333",
   "metadata": {},
   "outputs": [
    {
     "data": {
      "text/plain": [
       "2"
      ]
     },
     "execution_count": 9,
     "metadata": {},
     "output_type": "execute_result"
    }
   ],
   "source": [
    "10%4"
   ]
  },
  {
   "cell_type": "code",
   "execution_count": 10,
   "id": "d0af4e8a",
   "metadata": {},
   "outputs": [
    {
     "data": {
      "text/plain": [
       "True"
      ]
     },
     "execution_count": 10,
     "metadata": {},
     "output_type": "execute_result"
    }
   ],
   "source": [
    "10 > 3"
   ]
  },
  {
   "cell_type": "code",
   "execution_count": 11,
   "id": "164baabd",
   "metadata": {},
   "outputs": [
    {
     "data": {
      "text/plain": [
       "False"
      ]
     },
     "execution_count": 11,
     "metadata": {},
     "output_type": "execute_result"
    }
   ],
   "source": [
    "10 < 3"
   ]
  },
  {
   "cell_type": "code",
   "execution_count": 13,
   "id": "78ac32c6",
   "metadata": {},
   "outputs": [
    {
     "data": {
      "text/plain": [
       "'11'"
      ]
     },
     "execution_count": 13,
     "metadata": {},
     "output_type": "execute_result"
    }
   ],
   "source": [
    "a = '11'\n",
    "a"
   ]
  },
  {
   "cell_type": "code",
   "execution_count": 18,
   "id": "299aebf8",
   "metadata": {},
   "outputs": [
    {
     "data": {
      "text/plain": [
       "11"
      ]
     },
     "execution_count": 18,
     "metadata": {},
     "output_type": "execute_result"
    }
   ],
   "source": [
    "a = '11'\n",
    "int(a)"
   ]
  },
  {
   "cell_type": "code",
   "execution_count": 19,
   "id": "f1fa1d38",
   "metadata": {},
   "outputs": [
    {
     "data": {
      "text/plain": [
       "3"
      ]
     },
     "execution_count": 19,
     "metadata": {},
     "output_type": "execute_result"
    }
   ],
   "source": [
    "int(a, 2)"
   ]
  },
  {
   "cell_type": "code",
   "execution_count": 20,
   "id": "1b05b765",
   "metadata": {},
   "outputs": [
    {
     "data": {
      "text/plain": [
       "3"
      ]
     },
     "execution_count": 20,
     "metadata": {},
     "output_type": "execute_result"
    }
   ],
   "source": [
    "int(3.33)"
   ]
  },
  {
   "cell_type": "code",
   "execution_count": 21,
   "id": "8a1e9abf",
   "metadata": {},
   "outputs": [
    {
     "data": {
      "text/plain": [
       "'0b1000'"
      ]
     },
     "execution_count": 21,
     "metadata": {},
     "output_type": "execute_result"
    }
   ],
   "source": [
    "bin(8)"
   ]
  },
  {
   "cell_type": "code",
   "execution_count": 22,
   "id": "dd2fb753",
   "metadata": {},
   "outputs": [
    {
     "data": {
      "text/plain": [
       "'0xa'"
      ]
     },
     "execution_count": 22,
     "metadata": {},
     "output_type": "execute_result"
    }
   ],
   "source": [
    "hex(10)"
   ]
  },
  {
   "cell_type": "code",
   "execution_count": 24,
   "id": "47ca6c9f",
   "metadata": {},
   "outputs": [
    {
     "data": {
      "text/plain": [
       "255"
      ]
     },
     "execution_count": 24,
     "metadata": {},
     "output_type": "execute_result"
    }
   ],
   "source": [
    "int('ff', 16)"
   ]
  },
  {
   "cell_type": "code",
   "execution_count": 25,
   "id": "d92a86c2",
   "metadata": {},
   "outputs": [
    {
     "data": {
      "text/plain": [
       "'0b11111111'"
      ]
     },
     "execution_count": 25,
     "metadata": {},
     "output_type": "execute_result"
    }
   ],
   "source": [
    "bin(int('ff', 16))"
   ]
  },
  {
   "cell_type": "code",
   "execution_count": 26,
   "id": "4acf7a20",
   "metadata": {},
   "outputs": [
    {
     "data": {
      "text/plain": [
       "3.0"
      ]
     },
     "execution_count": 26,
     "metadata": {},
     "output_type": "execute_result"
    }
   ],
   "source": [
    "import math\n",
    "math.sqrt(9)"
   ]
  },
  {
   "cell_type": "code",
   "execution_count": 27,
   "id": "b8d6e102",
   "metadata": {},
   "outputs": [
    {
     "data": {
      "text/plain": [
       "3.1622776601683795"
      ]
     },
     "execution_count": 27,
     "metadata": {},
     "output_type": "execute_result"
    }
   ],
   "source": [
    "math.sqrt(10)"
   ]
  },
  {
   "cell_type": "code",
   "execution_count": 29,
   "id": "8a39e490",
   "metadata": {},
   "outputs": [
    {
     "data": {
      "text/plain": [
       "3.141592653589793"
      ]
     },
     "execution_count": 29,
     "metadata": {},
     "output_type": "execute_result"
    }
   ],
   "source": [
    "math.pi"
   ]
  },
  {
   "cell_type": "code",
   "execution_count": 30,
   "id": "26771d0e",
   "metadata": {},
   "outputs": [],
   "source": [
    "#STRING (неизмен/упоряд)"
   ]
  },
  {
   "cell_type": "code",
   "execution_count": 31,
   "id": "d0b2a68b",
   "metadata": {},
   "outputs": [],
   "source": [
    "intf = \"interface\"\n",
    "tun = \"Tunnel0\""
   ]
  },
  {
   "cell_type": "code",
   "execution_count": 32,
   "id": "b62f1c74",
   "metadata": {},
   "outputs": [
    {
     "data": {
      "text/plain": [
       "'interfaceTunnel0'"
      ]
     },
     "execution_count": 32,
     "metadata": {},
     "output_type": "execute_result"
    }
   ],
   "source": [
    "intf + tun"
   ]
  },
  {
   "cell_type": "code",
   "execution_count": 33,
   "id": "3e52ecde",
   "metadata": {},
   "outputs": [
    {
     "data": {
      "text/plain": [
       "'interface Tunnel0'"
      ]
     },
     "execution_count": 33,
     "metadata": {},
     "output_type": "execute_result"
    }
   ],
   "source": [
    "intf + ' ' + tun"
   ]
  },
  {
   "cell_type": "code",
   "execution_count": 34,
   "id": "16782dd1",
   "metadata": {},
   "outputs": [],
   "source": [
    "tunnel = '''\n",
    "interface Tu0\n",
    "ip address 192.168.1.1 255.255.255.0\n",
    "no sh\n",
    "'''"
   ]
  },
  {
   "cell_type": "code",
   "execution_count": 35,
   "id": "dcacf8db",
   "metadata": {},
   "outputs": [
    {
     "data": {
      "text/plain": [
       "'\\ninterface Tu0\\nip address 192.168.1.1 255.255.255.0\\nno sh\\n'"
      ]
     },
     "execution_count": 35,
     "metadata": {},
     "output_type": "execute_result"
    }
   ],
   "source": [
    "tunnel"
   ]
  },
  {
   "cell_type": "code",
   "execution_count": 36,
   "id": "0be4131e",
   "metadata": {},
   "outputs": [
    {
     "data": {
      "text/plain": [
       "'interfaceinterface'"
      ]
     },
     "execution_count": 36,
     "metadata": {},
     "output_type": "execute_result"
    }
   ],
   "source": [
    "intf * 2"
   ]
  },
  {
   "cell_type": "code",
   "execution_count": 37,
   "id": "100f4e71",
   "metadata": {},
   "outputs": [
    {
     "data": {
      "text/plain": [
       "'interface'"
      ]
     },
     "execution_count": 37,
     "metadata": {},
     "output_type": "execute_result"
    }
   ],
   "source": [
    "intf[0:]"
   ]
  },
  {
   "cell_type": "code",
   "execution_count": 38,
   "id": "f1bc40b7",
   "metadata": {},
   "outputs": [
    {
     "data": {
      "text/plain": [
       "'n'"
      ]
     },
     "execution_count": 38,
     "metadata": {},
     "output_type": "execute_result"
    }
   ],
   "source": [
    "intf[1]"
   ]
  },
  {
   "cell_type": "code",
   "execution_count": 39,
   "id": "a7c893b3",
   "metadata": {},
   "outputs": [
    {
     "data": {
      "text/plain": [
       "'nt'"
      ]
     },
     "execution_count": 39,
     "metadata": {},
     "output_type": "execute_result"
    }
   ],
   "source": [
    "intf[1:3]"
   ]
  },
  {
   "cell_type": "code",
   "execution_count": 40,
   "id": "bc50f4b6",
   "metadata": {},
   "outputs": [
    {
     "data": {
      "text/plain": [
       "'interface'"
      ]
     },
     "execution_count": 40,
     "metadata": {},
     "output_type": "execute_result"
    }
   ],
   "source": [
    "intf[:]"
   ]
  },
  {
   "cell_type": "code",
   "execution_count": 41,
   "id": "330cc854",
   "metadata": {},
   "outputs": [
    {
     "data": {
      "text/plain": [
       "'interface'"
      ]
     },
     "execution_count": 41,
     "metadata": {},
     "output_type": "execute_result"
    }
   ],
   "source": [
    "intf[::]"
   ]
  },
  {
   "cell_type": "code",
   "execution_count": 47,
   "id": "4d053d9e",
   "metadata": {},
   "outputs": [
    {
     "data": {
      "text/plain": [
       "'in'"
      ]
     },
     "execution_count": 47,
     "metadata": {},
     "output_type": "execute_result"
    }
   ],
   "source": [
    "intf[:2]"
   ]
  },
  {
   "cell_type": "code",
   "execution_count": 49,
   "id": "bf1a67cd",
   "metadata": {},
   "outputs": [
    {
     "name": "stdout",
     "output_type": "stream",
     "text": [
      "interface\n",
      "interface Tu0\n",
      "ip address 192.168.1.1 255.255.255.0\n",
      "no sh\n",
      "\n"
     ]
    }
   ],
   "source": [
    "print(intf + tunnel)\n"
   ]
  },
  {
   "cell_type": "code",
   "execution_count": 50,
   "id": "47b85b80",
   "metadata": {},
   "outputs": [
    {
     "data": {
      "text/plain": [
       "'interfaceinterfaceinterfaceinterfaceinterface'"
      ]
     },
     "execution_count": 50,
     "metadata": {},
     "output_type": "execute_result"
    }
   ],
   "source": [
    "intf * 5"
   ]
  },
  {
   "cell_type": "code",
   "execution_count": 51,
   "id": "9bd16494",
   "metadata": {},
   "outputs": [
    {
     "data": {
      "text/plain": [
       "'########################################'"
      ]
     },
     "execution_count": 51,
     "metadata": {},
     "output_type": "execute_result"
    }
   ],
   "source": [
    "\"#\" * 40"
   ]
  },
  {
   "cell_type": "code",
   "execution_count": 56,
   "id": "231f016c",
   "metadata": {},
   "outputs": [],
   "source": [
    "string1 = \"interface Fa0/2\""
   ]
  },
  {
   "cell_type": "code",
   "execution_count": 57,
   "id": "a4247945",
   "metadata": {},
   "outputs": [
    {
     "data": {
      "text/plain": [
       "'i'"
      ]
     },
     "execution_count": 57,
     "metadata": {},
     "output_type": "execute_result"
    }
   ],
   "source": [
    "string1[0]"
   ]
  },
  {
   "cell_type": "code",
   "execution_count": 58,
   "id": "afcf1b0c",
   "metadata": {},
   "outputs": [
    {
     "data": {
      "text/plain": [
       "'n'"
      ]
     },
     "execution_count": 58,
     "metadata": {},
     "output_type": "execute_result"
    }
   ],
   "source": [
    "string1[1]"
   ]
  },
  {
   "cell_type": "code",
   "execution_count": 60,
   "id": "fba7d3f4",
   "metadata": {},
   "outputs": [
    {
     "data": {
      "text/plain": [
       "'2'"
      ]
     },
     "execution_count": 60,
     "metadata": {},
     "output_type": "execute_result"
    }
   ],
   "source": [
    "string1[-1]"
   ]
  },
  {
   "cell_type": "code",
   "execution_count": 61,
   "id": "6714bc44",
   "metadata": {},
   "outputs": [
    {
     "data": {
      "text/plain": [
       "'interface'"
      ]
     },
     "execution_count": 61,
     "metadata": {},
     "output_type": "execute_result"
    }
   ],
   "source": [
    "string1[0:9]"
   ]
  },
  {
   "cell_type": "code",
   "execution_count": 62,
   "id": "b64dea90",
   "metadata": {},
   "outputs": [
    {
     "data": {
      "text/plain": [
       "'Fa0/2'"
      ]
     },
     "execution_count": 62,
     "metadata": {},
     "output_type": "execute_result"
    }
   ],
   "source": [
    "string1[10:]"
   ]
  },
  {
   "cell_type": "code",
   "execution_count": 64,
   "id": "625f8877",
   "metadata": {},
   "outputs": [
    {
     "data": {
      "text/plain": [
       "'0/2'"
      ]
     },
     "execution_count": 64,
     "metadata": {},
     "output_type": "execute_result"
    }
   ],
   "source": [
    "string1[-3:]"
   ]
  },
  {
   "cell_type": "code",
   "execution_count": 65,
   "id": "0b0badf6",
   "metadata": {},
   "outputs": [],
   "source": [
    "a = \"0123456789\""
   ]
  },
  {
   "cell_type": "code",
   "execution_count": 67,
   "id": "4f0212e7",
   "metadata": {},
   "outputs": [
    {
     "data": {
      "text/plain": [
       "'13579'"
      ]
     },
     "execution_count": 67,
     "metadata": {},
     "output_type": "execute_result"
    }
   ],
   "source": [
    "a[1::2] #вывести строку, убрав каждый второй символ"
   ]
  },
  {
   "cell_type": "code",
   "execution_count": 69,
   "id": "bd69094b",
   "metadata": {},
   "outputs": [
    {
     "data": {
      "text/plain": [
       "'02468'"
      ]
     },
     "execution_count": 69,
     "metadata": {},
     "output_type": "execute_result"
    }
   ],
   "source": [
    "a[::2] #ничего не выводить, только каждый второй символ"
   ]
  },
  {
   "cell_type": "code",
   "execution_count": 70,
   "id": "b0e0fbe8",
   "metadata": {},
   "outputs": [
    {
     "data": {
      "text/plain": [
       "'0123456789'"
      ]
     },
     "execution_count": 70,
     "metadata": {},
     "output_type": "execute_result"
    }
   ],
   "source": [
    "a[::]"
   ]
  },
  {
   "cell_type": "code",
   "execution_count": 71,
   "id": "cbb8b4e1",
   "metadata": {},
   "outputs": [
    {
     "data": {
      "text/plain": [
       "'9876543210'"
      ]
     },
     "execution_count": 71,
     "metadata": {},
     "output_type": "execute_result"
    }
   ],
   "source": [
    "a[::-1]"
   ]
  },
  {
   "cell_type": "code",
   "execution_count": 72,
   "id": "b249393a",
   "metadata": {},
   "outputs": [
    {
     "data": {
      "text/plain": [
       "'\\ninterface Tu0\\nip address 192.168.1.1 255.255.255.0\\nno sh\\n'"
      ]
     },
     "execution_count": 72,
     "metadata": {},
     "output_type": "execute_result"
    }
   ],
   "source": [
    "tunnel"
   ]
  },
  {
   "cell_type": "code",
   "execution_count": 74,
   "id": "a800f13e",
   "metadata": {},
   "outputs": [],
   "source": [
    "line = \"interface Gi0/33\""
   ]
  },
  {
   "cell_type": "code",
   "execution_count": 75,
   "id": "54a4fe64",
   "metadata": {},
   "outputs": [
    {
     "data": {
      "text/plain": [
       "16"
      ]
     },
     "execution_count": 75,
     "metadata": {},
     "output_type": "execute_result"
    }
   ],
   "source": [
    "len(line)"
   ]
  },
  {
   "cell_type": "code",
   "execution_count": 83,
   "id": "8cfca21e",
   "metadata": {},
   "outputs": [],
   "source": [
    "#UPPER, LOWER, SWAPCASE, CAPITALIZE"
   ]
  },
  {
   "cell_type": "code",
   "execution_count": 84,
   "id": "b0e3c96a",
   "metadata": {},
   "outputs": [
    {
     "data": {
      "text/plain": [
       "'interface Fa0/2'"
      ]
     },
     "execution_count": 84,
     "metadata": {},
     "output_type": "execute_result"
    }
   ],
   "source": [
    "string1"
   ]
  },
  {
   "cell_type": "code",
   "execution_count": 85,
   "id": "b8f38cea",
   "metadata": {},
   "outputs": [
    {
     "data": {
      "text/plain": [
       "'INTERFACE FA0/2'"
      ]
     },
     "execution_count": 85,
     "metadata": {},
     "output_type": "execute_result"
    }
   ],
   "source": [
    "string1.upper()"
   ]
  },
  {
   "cell_type": "code",
   "execution_count": 86,
   "id": "77edbf9c",
   "metadata": {},
   "outputs": [
    {
     "data": {
      "text/plain": [
       "'INTERFACE FA0/2'"
      ]
     },
     "execution_count": 86,
     "metadata": {},
     "output_type": "execute_result"
    }
   ],
   "source": [
    "string1 = string1.upper()\n",
    "string1"
   ]
  },
  {
   "cell_type": "code",
   "execution_count": 87,
   "id": "6ad51544",
   "metadata": {},
   "outputs": [
    {
     "data": {
      "text/plain": [
       "'interface fa0/2'"
      ]
     },
     "execution_count": 87,
     "metadata": {},
     "output_type": "execute_result"
    }
   ],
   "source": [
    "string1.lower()\n"
   ]
  },
  {
   "cell_type": "code",
   "execution_count": 89,
   "id": "615b688f",
   "metadata": {},
   "outputs": [
    {
     "data": {
      "text/plain": [
       "'INTERFACE FA0/2'"
      ]
     },
     "execution_count": 89,
     "metadata": {},
     "output_type": "execute_result"
    }
   ],
   "source": [
    "string1"
   ]
  },
  {
   "cell_type": "code",
   "execution_count": 96,
   "id": "aa367d71",
   "metadata": {},
   "outputs": [],
   "source": [
    "string1 = \"Interface Fa0/2\""
   ]
  },
  {
   "cell_type": "code",
   "execution_count": 97,
   "id": "0689bb47",
   "metadata": {},
   "outputs": [
    {
     "data": {
      "text/plain": [
       "'iNTERFACE fA0/2'"
      ]
     },
     "execution_count": 97,
     "metadata": {},
     "output_type": "execute_result"
    }
   ],
   "source": [
    "string1.swapcase()"
   ]
  },
  {
   "cell_type": "code",
   "execution_count": 98,
   "id": "2948b546",
   "metadata": {},
   "outputs": [],
   "source": [
    "string2 = \"tunnel 0\""
   ]
  },
  {
   "cell_type": "code",
   "execution_count": 99,
   "id": "659e622c",
   "metadata": {},
   "outputs": [
    {
     "data": {
      "text/plain": [
       "'Tunnel 0'"
      ]
     },
     "execution_count": 99,
     "metadata": {},
     "output_type": "execute_result"
    }
   ],
   "source": [
    "string2.capitalize()"
   ]
  },
  {
   "cell_type": "code",
   "execution_count": 100,
   "id": "27264363",
   "metadata": {},
   "outputs": [],
   "source": [
    "#COUNT"
   ]
  },
  {
   "cell_type": "code",
   "execution_count": 101,
   "id": "00fd9291",
   "metadata": {},
   "outputs": [],
   "source": [
    "str1 = \"Hello, hello, hello\""
   ]
  },
  {
   "cell_type": "code",
   "execution_count": 102,
   "id": "19769b3f",
   "metadata": {},
   "outputs": [
    {
     "data": {
      "text/plain": [
       "2"
      ]
     },
     "execution_count": 102,
     "metadata": {},
     "output_type": "execute_result"
    }
   ],
   "source": [
    "str1.count(\"hello\")"
   ]
  },
  {
   "cell_type": "code",
   "execution_count": 103,
   "id": "17f801d4",
   "metadata": {},
   "outputs": [
    {
     "data": {
      "text/plain": [
       "1"
      ]
     },
     "execution_count": 103,
     "metadata": {},
     "output_type": "execute_result"
    }
   ],
   "source": [
    "str1.count(\"Hello\")"
   ]
  },
  {
   "cell_type": "code",
   "execution_count": 104,
   "id": "c588abee",
   "metadata": {},
   "outputs": [
    {
     "data": {
      "text/plain": [
       "3"
      ]
     },
     "execution_count": 104,
     "metadata": {},
     "output_type": "execute_result"
    }
   ],
   "source": [
    "str1.count(\"ello\")"
   ]
  },
  {
   "cell_type": "code",
   "execution_count": null,
   "id": "0a780392",
   "metadata": {},
   "outputs": [],
   "source": []
  },
  {
   "cell_type": "code",
   "execution_count": 110,
   "id": "a73877f7",
   "metadata": {},
   "outputs": [],
   "source": [
    "#FIND"
   ]
  },
  {
   "cell_type": "code",
   "execution_count": 120,
   "id": "860d461f",
   "metadata": {},
   "outputs": [],
   "source": [
    "string1 = 'interface Fa0/2'"
   ]
  },
  {
   "cell_type": "code",
   "execution_count": 121,
   "id": "e72d24f3",
   "metadata": {},
   "outputs": [
    {
     "data": {
      "text/plain": [
       "'interface Fa0/2'"
      ]
     },
     "execution_count": 121,
     "metadata": {},
     "output_type": "execute_result"
    }
   ],
   "source": [
    "string1"
   ]
  },
  {
   "cell_type": "code",
   "execution_count": 122,
   "id": "cdf85911",
   "metadata": {},
   "outputs": [
    {
     "data": {
      "text/plain": [
       "10"
      ]
     },
     "execution_count": 122,
     "metadata": {},
     "output_type": "execute_result"
    }
   ],
   "source": [
    "string1.find(\"Fa\")"
   ]
  },
  {
   "cell_type": "code",
   "execution_count": 124,
   "id": "c22c330f",
   "metadata": {},
   "outputs": [
    {
     "data": {
      "text/plain": [
       "-1"
      ]
     },
     "execution_count": 124,
     "metadata": {},
     "output_type": "execute_result"
    }
   ],
   "source": [
    "string1.find(\"Gi\") #совпадений может и не быть, тогда возврат -1"
   ]
  },
  {
   "cell_type": "code",
   "execution_count": 127,
   "id": "23c677d9",
   "metadata": {},
   "outputs": [
    {
     "data": {
      "text/plain": [
       "'Fa0/2'"
      ]
     },
     "execution_count": 127,
     "metadata": {},
     "output_type": "execute_result"
    }
   ],
   "source": [
    "string1[string1.find(\"Fa\")::]"
   ]
  },
  {
   "cell_type": "code",
   "execution_count": 128,
   "id": "d4f7dcae",
   "metadata": {},
   "outputs": [],
   "source": [
    "#STARTSWITH, ENDWITH"
   ]
  },
  {
   "cell_type": "code",
   "execution_count": 129,
   "id": "6a007dcb",
   "metadata": {},
   "outputs": [
    {
     "data": {
      "text/plain": [
       "'interface Fa0/2'"
      ]
     },
     "execution_count": 129,
     "metadata": {},
     "output_type": "execute_result"
    }
   ],
   "source": [
    "string1"
   ]
  },
  {
   "cell_type": "code",
   "execution_count": 130,
   "id": "c5e885d4",
   "metadata": {},
   "outputs": [
    {
     "data": {
      "text/plain": [
       "True"
      ]
     },
     "execution_count": 130,
     "metadata": {},
     "output_type": "execute_result"
    }
   ],
   "source": [
    "string1.startswith(\"interface\")"
   ]
  },
  {
   "cell_type": "code",
   "execution_count": 131,
   "id": "eb1dc804",
   "metadata": {},
   "outputs": [
    {
     "data": {
      "text/plain": [
       "False"
      ]
     },
     "execution_count": 131,
     "metadata": {},
     "output_type": "execute_result"
    }
   ],
   "source": [
    "string1.endswith(\"0/1\")"
   ]
  },
  {
   "cell_type": "code",
   "execution_count": 132,
   "id": "8dde6ab2",
   "metadata": {},
   "outputs": [
    {
     "data": {
      "text/plain": [
       "True"
      ]
     },
     "execution_count": 132,
     "metadata": {},
     "output_type": "execute_result"
    }
   ],
   "source": [
    "string1.endswith(\"0/2\")"
   ]
  },
  {
   "cell_type": "code",
   "execution_count": 133,
   "id": "1de003d2",
   "metadata": {},
   "outputs": [],
   "source": [
    "#REPLACE"
   ]
  },
  {
   "cell_type": "code",
   "execution_count": 134,
   "id": "f75760a3",
   "metadata": {},
   "outputs": [
    {
     "data": {
      "text/plain": [
       "'interface Fa0/2'"
      ]
     },
     "execution_count": 134,
     "metadata": {},
     "output_type": "execute_result"
    }
   ],
   "source": [
    "string1"
   ]
  },
  {
   "cell_type": "code",
   "execution_count": 135,
   "id": "dcefb825",
   "metadata": {},
   "outputs": [
    {
     "data": {
      "text/plain": [
       "'interface Gi0/2'"
      ]
     },
     "execution_count": 135,
     "metadata": {},
     "output_type": "execute_result"
    }
   ],
   "source": [
    "string1.replace(\"Fa\", \"Gi\")"
   ]
  },
  {
   "cell_type": "code",
   "execution_count": 150,
   "id": "12559f71",
   "metadata": {},
   "outputs": [],
   "source": [
    "#STRIP - подчистка ненужных символов"
   ]
  },
  {
   "cell_type": "code",
   "execution_count": 139,
   "id": "639fbdc4",
   "metadata": {},
   "outputs": [
    {
     "data": {
      "text/plain": [
       "'\\ninterface Tu0\\nip address 192.168.1.1 255.255.255.0\\nno sh\\n'"
      ]
     },
     "execution_count": 139,
     "metadata": {},
     "output_type": "execute_result"
    }
   ],
   "source": [
    "tunnel"
   ]
  },
  {
   "cell_type": "code",
   "execution_count": 144,
   "id": "cee8758b",
   "metadata": {},
   "outputs": [
    {
     "data": {
      "text/plain": [
       "'interface Tu0\\nip address 192.168.1.1 255.255.255.0\\nno sh'"
      ]
     },
     "execution_count": 144,
     "metadata": {},
     "output_type": "execute_result"
    }
   ],
   "source": [
    "tunnel.strip() #подтерли любые символы \"\\n\\t\\r\\f\\v, они стоят в аргументе у стрипа\""
   ]
  },
  {
   "cell_type": "code",
   "execution_count": 145,
   "id": "32301baa",
   "metadata": {},
   "outputs": [],
   "source": [
    "ad_metric = \"[110/2045]\""
   ]
  },
  {
   "cell_type": "code",
   "execution_count": 146,
   "id": "735cffd9",
   "metadata": {},
   "outputs": [
    {
     "data": {
      "text/plain": [
       "'110/2045'"
      ]
     },
     "execution_count": 146,
     "metadata": {},
     "output_type": "execute_result"
    }
   ],
   "source": [
    "ad_metric.strip(\"[]\")"
   ]
  },
  {
   "cell_type": "code",
   "execution_count": 147,
   "id": "3e762fc5",
   "metadata": {},
   "outputs": [
    {
     "data": {
      "text/plain": [
       "'110/2045]'"
      ]
     },
     "execution_count": 147,
     "metadata": {},
     "output_type": "execute_result"
    }
   ],
   "source": [
    "ad_metric.lstrip(\"[]\")"
   ]
  },
  {
   "cell_type": "code",
   "execution_count": 148,
   "id": "206aab89",
   "metadata": {},
   "outputs": [
    {
     "data": {
      "text/plain": [
       "'[110/2045'"
      ]
     },
     "execution_count": 148,
     "metadata": {},
     "output_type": "execute_result"
    }
   ],
   "source": [
    "ad_metric.rstrip(\"[]\")"
   ]
  },
  {
   "cell_type": "code",
   "execution_count": 1,
   "id": "0cad9786",
   "metadata": {},
   "outputs": [],
   "source": [
    "#SPLIT - разбитие строки на части (строки), используя какой-нить разделитель"
   ]
  },
  {
   "cell_type": "code",
   "execution_count": 151,
   "id": "56f01bbf",
   "metadata": {},
   "outputs": [],
   "source": [
    "trunk = 'switchport trunk allowed vlan 10,20,30,100-200'"
   ]
  },
  {
   "cell_type": "code",
   "execution_count": 154,
   "id": "8d23217a",
   "metadata": {},
   "outputs": [
    {
     "data": {
      "text/plain": [
       "['switchport', 'trunk', 'allowed', 'vlan', '10,20,30,100-200']"
      ]
     },
     "execution_count": 154,
     "metadata": {},
     "output_type": "execute_result"
    }
   ],
   "source": [
    "commands = trunk.split()\n",
    "commands"
   ]
  },
  {
   "cell_type": "code",
   "execution_count": 159,
   "id": "30f616a8",
   "metadata": {},
   "outputs": [
    {
     "data": {
      "text/plain": [
       "'10,20,30,100-200'"
      ]
     },
     "execution_count": 159,
     "metadata": {},
     "output_type": "execute_result"
    }
   ],
   "source": [
    "vlans = commands[-1]\n",
    "vlans"
   ]
  },
  {
   "cell_type": "code",
   "execution_count": 160,
   "id": "c4ca0d38",
   "metadata": {},
   "outputs": [
    {
     "data": {
      "text/plain": [
       "['10', '20', '30', '100-200']"
      ]
     },
     "execution_count": 160,
     "metadata": {},
     "output_type": "execute_result"
    }
   ],
   "source": [
    "vlans = vlans.split(\",\")\n",
    "vlans"
   ]
  },
  {
   "cell_type": "code",
   "execution_count": 164,
   "id": "1c4a5233",
   "metadata": {},
   "outputs": [
    {
     "data": {
      "text/plain": [
       "['switchport', 'trunk', 'allowed', 'vlan', '10,20,30,100-200']"
      ]
     },
     "execution_count": 164,
     "metadata": {},
     "output_type": "execute_result"
    }
   ],
   "source": [
    "trunk = '     switchport trunk allowed vlan 10,20,30,100-200'\n",
    "trunk = trunk.split()  #ПОДЧИСТИЛИ ЗАОДНО И ПРОБЕЛЬНЫЕ СИМВОЛЫ\n",
    "trunk"
   ]
  },
  {
   "cell_type": "code",
   "execution_count": 165,
   "id": "3258adfa",
   "metadata": {},
   "outputs": [],
   "source": [
    "#Форматирование строк"
   ]
  },
  {
   "cell_type": "code",
   "execution_count": 166,
   "id": "707cc609",
   "metadata": {},
   "outputs": [
    {
     "data": {
      "text/plain": [
       "'interface Fa0/1'"
      ]
     },
     "execution_count": 166,
     "metadata": {},
     "output_type": "execute_result"
    }
   ],
   "source": [
    "\"interface Fa0/{}\".format(\"1\")"
   ]
  },
  {
   "cell_type": "code",
   "execution_count": 167,
   "id": "032eae49",
   "metadata": {},
   "outputs": [],
   "source": [
    "vlan, mac, intf = [\"100\", \"aaaa.bbbb.cccc\", \"Gi0/1\"]"
   ]
  },
  {
   "cell_type": "code",
   "execution_count": 172,
   "id": "a2e7b6b0",
   "metadata": {},
   "outputs": [
    {
     "data": {
      "text/plain": [
       "'            100  aaaa.bbbb.cccc           Gi0/1'"
      ]
     },
     "execution_count": 172,
     "metadata": {},
     "output_type": "execute_result"
    }
   ],
   "source": [
    "result = \"{:>15} {:>15} {:>15}\".format(vlan, mac, intf) #здесь выравнивание по правой стороне\n",
    "result"
   ]
  },
  {
   "cell_type": "code",
   "execution_count": 174,
   "id": "82b8098d",
   "metadata": {},
   "outputs": [
    {
     "data": {
      "text/plain": [
       "'100             aaaa.bbbb.cccc  Gi0/1          '"
      ]
     },
     "execution_count": 174,
     "metadata": {},
     "output_type": "execute_result"
    }
   ],
   "source": [
    "result = \"{:15} {:15} {:15}\".format(vlan, mac, intf)\n",
    "result"
   ]
  },
  {
   "cell_type": "code",
   "execution_count": 177,
   "id": "d76ab69e",
   "metadata": {},
   "outputs": [
    {
     "data": {
      "text/plain": [
       "'100             aaaa.bbbb.cccc  Gi0/1          '"
      ]
     },
     "execution_count": 177,
     "metadata": {},
     "output_type": "execute_result"
    }
   ],
   "source": [
    "result = \"{:<15} {:<15} {:<15}\".format(vlan, mac, intf)\n",
    "result"
   ]
  },
  {
   "cell_type": "code",
   "execution_count": 181,
   "id": "1adba062",
   "metadata": {},
   "outputs": [],
   "source": [
    "ip_template = \"\"\"\n",
    "IP address: {}\n",
    "\"\"\"\n",
    "ip_template = ip_template.format(\"10.1.1.1\")"
   ]
  },
  {
   "cell_type": "code",
   "execution_count": 182,
   "id": "f71eb97b",
   "metadata": {},
   "outputs": [
    {
     "name": "stdout",
     "output_type": "stream",
     "text": [
      "\n",
      "IP address: 10.1.1.1\n",
      "\n"
     ]
    }
   ],
   "source": [
    "print(ip_template)"
   ]
  },
  {
   "cell_type": "code",
   "execution_count": 185,
   "id": "f7fff697",
   "metadata": {},
   "outputs": [
    {
     "ename": "ValueError",
     "evalue": "Unknown format code 'f' for object of type 'str'",
     "output_type": "error",
     "traceback": [
      "\u001b[0;31m---------------------------------------------------------------------------\u001b[0m",
      "\u001b[0;31mValueError\u001b[0m                                Traceback (most recent call last)",
      "\u001b[0;32m<ipython-input-185-3f92edb1b98b>\u001b[0m in \u001b[0;36m<module>\u001b[0;34m\u001b[0m\n\u001b[0;32m----> 1\u001b[0;31m \u001b[0mprint\u001b[0m\u001b[0;34m(\u001b[0m\u001b[0;34m\"{:.3f}\"\u001b[0m\u001b[0;34m.\u001b[0m\u001b[0mformat\u001b[0m\u001b[0;34m(\u001b[0m\u001b[0;34m\"10.0/3\"\u001b[0m\u001b[0;34m)\u001b[0m\u001b[0;34m)\u001b[0m\u001b[0;34m\u001b[0m\u001b[0;34m\u001b[0m\u001b[0m\n\u001b[0m",
      "\u001b[0;31mValueError\u001b[0m: Unknown format code 'f' for object of type 'str'"
     ]
    }
   ],
   "source": [
    "print(\"{:.3f}\".format(\"10.0/3\"))"
   ]
  },
  {
   "cell_type": "code",
   "execution_count": 186,
   "id": "b113e14d",
   "metadata": {},
   "outputs": [],
   "source": [
    "x = \"0123456789\""
   ]
  },
  {
   "cell_type": "code",
   "execution_count": 187,
   "id": "12701eb2",
   "metadata": {},
   "outputs": [
    {
     "data": {
      "text/plain": [
       "'02468'"
      ]
     },
     "execution_count": 187,
     "metadata": {},
     "output_type": "execute_result"
    }
   ],
   "source": [
    "x[::2]"
   ]
  },
  {
   "cell_type": "code",
   "execution_count": 188,
   "id": "638e288c",
   "metadata": {},
   "outputs": [
    {
     "data": {
      "text/plain": [
       "'97531'"
      ]
     },
     "execution_count": 188,
     "metadata": {},
     "output_type": "execute_result"
    }
   ],
   "source": [
    "x[::-2]"
   ]
  },
  {
   "cell_type": "code",
   "execution_count": 190,
   "id": "abeb62c6",
   "metadata": {},
   "outputs": [
    {
     "data": {
      "text/plain": [
       "'192 168 1 1'"
      ]
     },
     "execution_count": 190,
     "metadata": {},
     "output_type": "execute_result"
    }
   ],
   "source": [
    "ip_address = \"{} {} {} {}\".format(192, 168, 1, 1)\n",
    "ip_address"
   ]
  },
  {
   "cell_type": "code",
   "execution_count": 192,
   "id": "d536ca62",
   "metadata": {},
   "outputs": [
    {
     "data": {
      "text/plain": [
       "'11000000 10101000 1 1'"
      ]
     },
     "execution_count": 192,
     "metadata": {},
     "output_type": "execute_result"
    }
   ],
   "source": [
    "ip_address = \"{:b} {:b} {:b} {:b}\".format(192, 168, 1, 1)\n",
    "ip_address"
   ]
  },
  {
   "cell_type": "code",
   "execution_count": 193,
   "id": "3bb36ede",
   "metadata": {},
   "outputs": [
    {
     "data": {
      "text/plain": [
       "'11000000 10101000 00000001 00000001'"
      ]
     },
     "execution_count": 193,
     "metadata": {},
     "output_type": "execute_result"
    }
   ],
   "source": [
    "ip_address = \"{:08b} {:08b} {:08b} {:08b}\".format(192, 168, 1, 1)\n",
    "ip_address"
   ]
  },
  {
   "cell_type": "code",
   "execution_count": 194,
   "id": "2471ac9a",
   "metadata": {},
   "outputs": [
    {
     "data": {
      "text/plain": [
       "'10.1.1.1/24'"
      ]
     },
     "execution_count": 194,
     "metadata": {},
     "output_type": "execute_result"
    }
   ],
   "source": [
    "\"{ip}/{mask}\".format(mask=24, ip=\"10.1.1.1\")"
   ]
  },
  {
   "cell_type": "code",
   "execution_count": 199,
   "id": "5984dfbe",
   "metadata": {},
   "outputs": [
    {
     "data": {
      "text/plain": [
       "'10.1.1.1/24'"
      ]
     },
     "execution_count": 199,
     "metadata": {},
     "output_type": "execute_result"
    }
   ],
   "source": [
    "\"{1}/{0}\".format(24, \"10.1.1.1\")"
   ]
  },
  {
   "cell_type": "code",
   "execution_count": 200,
   "id": "e8660055",
   "metadata": {},
   "outputs": [],
   "source": [
    "ip_template = '''\n",
    "{:} {:} {:} {:}\n",
    "{:} {:} {:} {:} \n",
    "'''"
   ]
  },
  {
   "cell_type": "code",
   "execution_count": 203,
   "id": "a7c5e451",
   "metadata": {},
   "outputs": [
    {
     "name": "stdout",
     "output_type": "stream",
     "text": [
      "\n",
      "192 168 100 1\n",
      "192 168 100 1 \n",
      "\n"
     ]
    }
   ],
   "source": [
    "print(ip_template.format(192, 168, 100, 1, 192, 168, 100, 1))"
   ]
  },
  {
   "cell_type": "code",
   "execution_count": 206,
   "id": "2d0a41c2",
   "metadata": {},
   "outputs": [
    {
     "name": "stdout",
     "output_type": "stream",
     "text": [
      "\n",
      "     192 168 100 1\n",
      "192 168 100 1 \n",
      "\n"
     ]
    }
   ],
   "source": [
    "ip_template = '''\n",
    "{:8} {:0} {:0} {:0}\n",
    "{:} {:} {:} {:} \n",
    "'''\n",
    "print(ip_template.format(192, 168, 100, 1, 192, 168, 100, 1))"
   ]
  },
  {
   "cell_type": "code",
   "execution_count": 210,
   "id": "f78c2f74",
   "metadata": {},
   "outputs": [
    {
     "name": "stdout",
     "output_type": "stream",
     "text": [
      "\n",
      "11000000 168 100 1\n",
      "192 168 100 1 \n",
      "\n"
     ]
    }
   ],
   "source": [
    "ip_template = '''\n",
    "{:b} {:0} {:0} {:0}\n",
    "{:} {:} {:} {:} \n",
    "'''\n",
    "print(ip_template.format(192, 168, 100, 1, 192, 168, 100, 1))"
   ]
  },
  {
   "cell_type": "code",
   "execution_count": 211,
   "id": "12ea3d47",
   "metadata": {},
   "outputs": [
    {
     "name": "stdout",
     "output_type": "stream",
     "text": [
      "\n",
      "11000000 10101000  1100100        1\n",
      "192 168 100 1 \n",
      "\n"
     ]
    }
   ],
   "source": [
    "ip_template = '''\n",
    "{:8b} {:8b} {:8b} {:8b}\n",
    "{:} {:} {:} {:} \n",
    "'''\n",
    "print(ip_template.format(192, 168, 100, 1, 192, 168, 100, 1))"
   ]
  },
  {
   "cell_type": "code",
   "execution_count": 217,
   "id": "8759fcd5",
   "metadata": {},
   "outputs": [
    {
     "name": "stdout",
     "output_type": "stream",
     "text": [
      "\n",
      "192      168      100      1        \n",
      "11000000 10101000 01100100 00000001\n",
      "\n"
     ]
    }
   ],
   "source": [
    "ip_template = '''\n",
    "{:<8} {:<8} {:<8} {:<8} \n",
    "{:08b} {:08b} {:08b} {:08b}\n",
    "'''\n",
    "print(ip_template.format(192, 168, 100, 1, 192, 168, 100, 1))"
   ]
  },
  {
   "cell_type": "code",
   "execution_count": 221,
   "id": "fa9dd7ed",
   "metadata": {},
   "outputs": [
    {
     "name": "stdout",
     "output_type": "stream",
     "text": [
      "\n",
      "192      168      100      1        \n",
      "11000000 10101000 01100100 00000001\n",
      "\n"
     ]
    }
   ],
   "source": [
    "ip_template = '''\n",
    "{0:<8} {1:<8} {2:<8} {3:<8} \n",
    "{0:08b} {1:08b} {2:08b} {3:08b}\n",
    "'''\n",
    "print(ip_template.format(192, 168, 100, 1))"
   ]
  },
  {
   "cell_type": "code",
   "execution_count": 222,
   "id": "393c0bf8",
   "metadata": {},
   "outputs": [],
   "source": [
    "#F-string, не только вставка, но и в-в ф-ий, методов и т.д. "
   ]
  },
  {
   "cell_type": "code",
   "execution_count": 227,
   "id": "5a512a61",
   "metadata": {},
   "outputs": [
    {
     "data": {
      "text/plain": [
       "''"
      ]
     },
     "execution_count": 227,
     "metadata": {},
     "output_type": "execute_result"
    }
   ],
   "source": [
    "ip = \"10.1.1.1\"\n",
    "mask = 24\n",
    "f\"\""
   ]
  },
  {
   "cell_type": "code",
   "execution_count": 230,
   "id": "ff118078",
   "metadata": {},
   "outputs": [
    {
     "data": {
      "text/plain": [
       "'IP: 10.1.1.1, Mask: 24'"
      ]
     },
     "execution_count": 230,
     "metadata": {},
     "output_type": "execute_result"
    }
   ],
   "source": [
    "ip = \"10.1.1.1\"\n",
    "mask = 24\n",
    "f\"IP: {ip}, Mask: {mask}\""
   ]
  },
  {
   "cell_type": "code",
   "execution_count": 232,
   "id": "c3268727",
   "metadata": {},
   "outputs": [
    {
     "data": {
      "text/plain": [
       "'WILLIAM SNAKESPEARE'"
      ]
     },
     "execution_count": 232,
     "metadata": {},
     "output_type": "execute_result"
    }
   ],
   "source": [
    "first_name = \"William\"\n",
    "second_name = \"Snakespeare\"\n",
    "f\"{first_name.upper()} {second_name.upper()}\""
   ]
  },
  {
   "cell_type": "code",
   "execution_count": 233,
   "id": "964fc27b",
   "metadata": {},
   "outputs": [],
   "source": [
    "oct1, oct2, oct3, oct4 = [10, 1, 1, 1]\n"
   ]
  },
  {
   "cell_type": "code",
   "execution_count": 236,
   "id": "924c60d6",
   "metadata": {},
   "outputs": [
    {
     "name": "stdout",
     "output_type": "stream",
     "text": [
      "\n",
      "10       1        1        1        \n",
      "00001010 00000001 00000001 00000001\n",
      "\n"
     ]
    }
   ],
   "source": [
    "ip_template = f'''\n",
    "{oct1:<8} {oct2:<8} {oct3:<8} {oct4:<8} \n",
    "{oct1:08b} {oct2:08b} {oct3:08b} {oct4:08b}\n",
    "'''\n",
    "print(ip_template)"
   ]
  },
  {
   "cell_type": "code",
   "execution_count": null,
   "id": "515352fe",
   "metadata": {},
   "outputs": [],
   "source": [
    "#Объединение литералов строк"
   ]
  },
  {
   "cell_type": "code",
   "execution_count": 239,
   "id": "2913ce59",
   "metadata": {},
   "outputs": [
    {
     "data": {
      "text/plain": [
       "'TestString'"
      ]
     },
     "execution_count": 239,
     "metadata": {},
     "output_type": "execute_result"
    }
   ],
   "source": [
    "s = (\"Test\"   \"String\")\n",
    "s"
   ]
  },
  {
   "cell_type": "code",
   "execution_count": 241,
   "id": "abadd7f5",
   "metadata": {},
   "outputs": [
    {
     "data": {
      "text/plain": [
       "'TestString'"
      ]
     },
     "execution_count": 241,
     "metadata": {},
     "output_type": "execute_result"
    }
   ],
   "source": [
    "s = (\"Test\"\n",
    "     \n",
    "     \n",
    "     \n",
    "     \"String\")\n",
    "s"
   ]
  },
  {
   "cell_type": "code",
   "execution_count": 3,
   "id": "06e38746",
   "metadata": {},
   "outputs": [
    {
     "name": "stdout",
     "output_type": "stream",
     "text": [
      "(\\S+) +(\\S+) +\\w+ +\\w+ +(up|down|administratively down) +(\\w+)\n"
     ]
    }
   ],
   "source": [
    "regex = ('(\\S+) +(\\S+) +'\n",
    "        '\\w+ +\\w+ +'\n",
    "        '(up|down|administratively down) +'\n",
    "        '(\\w+)')\n",
    "print(regex)"
   ]
  },
  {
   "cell_type": "code",
   "execution_count": 245,
   "id": "a1f9dcfe",
   "metadata": {},
   "outputs": [],
   "source": [
    "#Можно добавлять поясн. комментарии, они не будут видны на потоке вывода"
   ]
  },
  {
   "cell_type": "code",
   "execution_count": 248,
   "id": "185ebf99",
   "metadata": {},
   "outputs": [
    {
     "ename": "SyntaxError",
     "evalue": "unexpected character after line continuation character (<ipython-input-248-897d40a9524b>, line 4)",
     "output_type": "error",
     "traceback": [
      "\u001b[0;36m  File \u001b[0;32m\"<ipython-input-248-897d40a9524b>\"\u001b[0;36m, line \u001b[0;32m4\u001b[0m\n\u001b[0;31m    '(\\wregex = ('(\\S+) +(\\S+) +'\u001b[0m\n\u001b[0m                                 ^\u001b[0m\n\u001b[0;31mSyntaxError\u001b[0m\u001b[0;31m:\u001b[0m unexpected character after line continuation character\n"
     ]
    }
   ],
   "source": [
    "regex = ('(\\S+) +(\\S+) +' #interface and IP\n",
    "        '\\w+ +\\w+ +'\n",
    "        '(up|down|administratively down) +' \n",
    "        '(\\wregex = ('(\\S+) +(\\S+) +'\n",
    "        '\\w+ +\\w+ +'\n",
    "        '(up|down|administratively down) +' # Status\n",
    "        '(\\w+)') # Protocol\n",
    "regex+)') \n",
    "regex"
   ]
  },
  {
   "cell_type": "code",
   "execution_count": 2,
   "id": "23ff3765",
   "metadata": {},
   "outputs": [
    {
     "name": "stdout",
     "output_type": "stream",
     "text": [
      "При выполнении команды \"{}\" возникла такая ошибка \"{}\".\n",
      "Исключить эту команду из списка ? [y/n]\n"
     ]
    }
   ],
   "source": [
    "message = ('При выполнении команды \"{}\" '\n",
    "'возникла такая ошибка \"{}\".\\n'\n",
    "'Исключить эту команду из списка ? [y/n]')\n",
    "print(message)"
   ]
  },
  {
   "cell_type": "code",
   "execution_count": 258,
   "id": "15d81d27",
   "metadata": {},
   "outputs": [],
   "source": [
    "#LISTS"
   ]
  },
  {
   "cell_type": "code",
   "execution_count": 5,
   "id": "0264c4e3",
   "metadata": {},
   "outputs": [],
   "source": [
    "list1 = [10,20,30,77]\n",
    "list2 = [\"one\", \"dog\", \"seven\"]\n",
    "list3 = [1, 20, 4.0, \"word\"]"
   ]
  },
  {
   "cell_type": "code",
   "execution_count": 8,
   "id": "546edd01",
   "metadata": {},
   "outputs": [
    {
     "data": {
      "text/plain": [
       "[10, 20, 30, 77]"
      ]
     },
     "execution_count": 8,
     "metadata": {},
     "output_type": "execute_result"
    }
   ],
   "source": [
    "list1"
   ]
  },
  {
   "cell_type": "code",
   "execution_count": 9,
   "id": "7d95b243",
   "metadata": {},
   "outputs": [
    {
     "data": {
      "text/plain": [
       "['one', 'dog', 'seven']"
      ]
     },
     "execution_count": 9,
     "metadata": {},
     "output_type": "execute_result"
    }
   ],
   "source": [
    "list2"
   ]
  },
  {
   "cell_type": "code",
   "execution_count": 10,
   "id": "0d56acbd",
   "metadata": {},
   "outputs": [
    {
     "data": {
      "text/plain": [
       "[1, 20, 4.0, 'word']"
      ]
     },
     "execution_count": 10,
     "metadata": {},
     "output_type": "execute_result"
    }
   ],
   "source": [
    "list3"
   ]
  },
  {
   "cell_type": "code",
   "execution_count": 12,
   "id": "ddcd6b30",
   "metadata": {},
   "outputs": [
    {
     "data": {
      "text/plain": [
       "[10, 20, 30, 50]"
      ]
     },
     "execution_count": 12,
     "metadata": {},
     "output_type": "execute_result"
    }
   ],
   "source": [
    "vlans = [10, 20, 30, 50]\n",
    "vlans"
   ]
  },
  {
   "cell_type": "code",
   "execution_count": 16,
   "id": "b948d4a5",
   "metadata": {},
   "outputs": [
    {
     "data": {
      "text/plain": [
       "['router']"
      ]
     },
     "execution_count": 16,
     "metadata": {},
     "output_type": "execute_result"
    }
   ],
   "source": [
    "list4 = [\"router\"]\n",
    "list4"
   ]
  },
  {
   "cell_type": "code",
   "execution_count": 18,
   "id": "91f76ecc",
   "metadata": {},
   "outputs": [
    {
     "data": {
      "text/plain": [
       "['r', 'o', 'u', 't', 'e', 'r']"
      ]
     },
     "execution_count": 18,
     "metadata": {},
     "output_type": "execute_result"
    }
   ],
   "source": [
    "list4 = list(\"router\")\n",
    "list4"
   ]
  },
  {
   "cell_type": "code",
   "execution_count": 19,
   "id": "5c9f0e03",
   "metadata": {},
   "outputs": [
    {
     "data": {
      "text/plain": [
       "'seven'"
      ]
     },
     "execution_count": 19,
     "metadata": {},
     "output_type": "execute_result"
    }
   ],
   "source": [
    "list2[2]"
   ]
  },
  {
   "cell_type": "code",
   "execution_count": 21,
   "id": "6b690acd",
   "metadata": {},
   "outputs": [
    {
     "data": {
      "text/plain": [
       "[4.0, 'word']"
      ]
     },
     "execution_count": 21,
     "metadata": {},
     "output_type": "execute_result"
    }
   ],
   "source": [
    "list3[2::]"
   ]
  },
  {
   "cell_type": "code",
   "execution_count": 22,
   "id": "0a50a8b3",
   "metadata": {},
   "outputs": [
    {
     "data": {
      "text/plain": [
       "'word'"
      ]
     },
     "execution_count": 22,
     "metadata": {},
     "output_type": "execute_result"
    }
   ],
   "source": [
    "list3[-1]"
   ]
  },
  {
   "cell_type": "code",
   "execution_count": 23,
   "id": "56495515",
   "metadata": {},
   "outputs": [
    {
     "data": {
      "text/plain": [
       "[10, 20, 30, 50]"
      ]
     },
     "execution_count": 23,
     "metadata": {},
     "output_type": "execute_result"
    }
   ],
   "source": [
    "vlans"
   ]
  },
  {
   "cell_type": "code",
   "execution_count": 34,
   "id": "09f6dccf",
   "metadata": {},
   "outputs": [],
   "source": [
    "vlans = [10, 20, 30, 100]"
   ]
  },
  {
   "cell_type": "code",
   "execution_count": 35,
   "id": "13936816",
   "metadata": {},
   "outputs": [],
   "source": [
    "vlans.reverse()"
   ]
  },
  {
   "cell_type": "code",
   "execution_count": 36,
   "id": "240da6af",
   "metadata": {},
   "outputs": [
    {
     "data": {
      "text/plain": [
       "[100, 30, 20, 10]"
      ]
     },
     "execution_count": 36,
     "metadata": {},
     "output_type": "execute_result"
    }
   ],
   "source": [
    "vlans"
   ]
  },
  {
   "cell_type": "code",
   "execution_count": 37,
   "id": "f69c3059",
   "metadata": {},
   "outputs": [
    {
     "data": {
      "text/plain": [
       "100"
      ]
     },
     "execution_count": 37,
     "metadata": {},
     "output_type": "execute_result"
    }
   ],
   "source": [
    "vlans[0]"
   ]
  },
  {
   "cell_type": "code",
   "execution_count": 38,
   "id": "fb85093b",
   "metadata": {},
   "outputs": [],
   "source": [
    "vlans[0] = 200"
   ]
  },
  {
   "cell_type": "code",
   "execution_count": 39,
   "id": "d766fa09",
   "metadata": {},
   "outputs": [
    {
     "data": {
      "text/plain": [
       "[200, 30, 20, 10]"
      ]
     },
     "execution_count": 39,
     "metadata": {},
     "output_type": "execute_result"
    }
   ],
   "source": [
    "vlans"
   ]
  },
  {
   "cell_type": "code",
   "execution_count": 48,
   "id": "61763d61",
   "metadata": {},
   "outputs": [],
   "source": [
    "#List[list]"
   ]
  },
  {
   "cell_type": "code",
   "execution_count": 49,
   "id": "499c2fe3",
   "metadata": {},
   "outputs": [
    {
     "data": {
      "text/plain": [
       "[['int Fa0/1', '10.1.1.1'],\n",
       " ['int Fa0/2', '10.2.2.2'],\n",
       " ['int Fa0/3', '10.3.3.3']]"
      ]
     },
     "execution_count": 49,
     "metadata": {},
     "output_type": "execute_result"
    }
   ],
   "source": [
    "interfaces = [[\"int Fa0/1\", \"10.1.1.1\" ], [\"int Fa0/2\", \"10.2.2.2\"], [\"int Fa0/3\", \"10.3.3.3\"]]\n",
    "interfaces"
   ]
  },
  {
   "cell_type": "code",
   "execution_count": 50,
   "id": "0d062595",
   "metadata": {},
   "outputs": [
    {
     "data": {
      "text/plain": [
       "['int Fa0/1', '10.1.1.1']"
      ]
     },
     "execution_count": 50,
     "metadata": {},
     "output_type": "execute_result"
    }
   ],
   "source": [
    "interfaces[0]"
   ]
  },
  {
   "cell_type": "code",
   "execution_count": 42,
   "id": "fad9398b",
   "metadata": {},
   "outputs": [
    {
     "data": {
      "text/plain": [
       "'int Fa0/1'"
      ]
     },
     "execution_count": 42,
     "metadata": {},
     "output_type": "execute_result"
    }
   ],
   "source": [
    "interfaces[0][0]"
   ]
  },
  {
   "cell_type": "code",
   "execution_count": 46,
   "id": "ceae3fa2",
   "metadata": {},
   "outputs": [],
   "source": [
    "#LENGHT"
   ]
  },
  {
   "cell_type": "code",
   "execution_count": 47,
   "id": "38aa787a",
   "metadata": {},
   "outputs": [
    {
     "data": {
      "text/plain": [
       "3"
      ]
     },
     "execution_count": 47,
     "metadata": {},
     "output_type": "execute_result"
    }
   ],
   "source": [
    "len(interfaces)"
   ]
  },
  {
   "cell_type": "code",
   "execution_count": 51,
   "id": "b4b94a6e",
   "metadata": {},
   "outputs": [],
   "source": [
    "#Sorted"
   ]
  },
  {
   "cell_type": "code",
   "execution_count": 54,
   "id": "2e955987",
   "metadata": {},
   "outputs": [
    {
     "data": {
      "text/plain": [
       "['1', 'Antony', 'John', 'Michael']"
      ]
     },
     "execution_count": 54,
     "metadata": {},
     "output_type": "execute_result"
    }
   ],
   "source": [
    "names = [\"John\", \"Michael\", \"Antony\", \"1\"]\n",
    "sorted(names)"
   ]
  },
  {
   "cell_type": "code",
   "execution_count": 55,
   "id": "3a4389d6",
   "metadata": {},
   "outputs": [
    {
     "ename": "TypeError",
     "evalue": "'<' not supported between instances of 'int' and 'str'",
     "output_type": "error",
     "traceback": [
      "\u001b[1;31m---------------------------------------------------------------------------\u001b[0m",
      "\u001b[1;31mTypeError\u001b[0m                                 Traceback (most recent call last)",
      "\u001b[1;32m<ipython-input-55-9850baaad33c>\u001b[0m in \u001b[0;36m<module>\u001b[1;34m\u001b[0m\n\u001b[0;32m      1\u001b[0m \u001b[0mnames\u001b[0m \u001b[1;33m=\u001b[0m \u001b[1;33m[\u001b[0m\u001b[1;34m\"John\"\u001b[0m\u001b[1;33m,\u001b[0m \u001b[1;34m\"Michael\"\u001b[0m\u001b[1;33m,\u001b[0m \u001b[1;34m\"Antony\"\u001b[0m\u001b[1;33m,\u001b[0m \u001b[1;36m1\u001b[0m\u001b[1;33m]\u001b[0m\u001b[1;33m\u001b[0m\u001b[1;33m\u001b[0m\u001b[0m\n\u001b[1;32m----> 2\u001b[1;33m \u001b[0msorted\u001b[0m\u001b[1;33m(\u001b[0m\u001b[0mnames\u001b[0m\u001b[1;33m)\u001b[0m\u001b[1;33m\u001b[0m\u001b[1;33m\u001b[0m\u001b[0m\n\u001b[0m",
      "\u001b[1;31mTypeError\u001b[0m: '<' not supported between instances of 'int' and 'str'"
     ]
    }
   ],
   "source": [
    "names = [\"John\", \"Michael\", \"Antony\", 1]\n",
    "sorted(names)"
   ]
  },
  {
   "cell_type": "code",
   "execution_count": 57,
   "id": "11f1af30",
   "metadata": {},
   "outputs": [],
   "source": [
    "#Append"
   ]
  },
  {
   "cell_type": "code",
   "execution_count": 61,
   "id": "42a1fab4",
   "metadata": {},
   "outputs": [
    {
     "data": {
      "text/plain": [
       "[200, 30, 20, 10, '300', '300']"
      ]
     },
     "execution_count": 61,
     "metadata": {},
     "output_type": "execute_result"
    }
   ],
   "source": [
    "vlans"
   ]
  },
  {
   "cell_type": "code",
   "execution_count": 63,
   "id": "f370ba55",
   "metadata": {},
   "outputs": [
    {
     "data": {
      "text/plain": [
       "[200, 30, 20, 10, '300', '300', '300', '400']"
      ]
     },
     "execution_count": 63,
     "metadata": {},
     "output_type": "execute_result"
    }
   ],
   "source": [
    "vlans.append(\"400\")\n",
    "vlans"
   ]
  },
  {
   "cell_type": "code",
   "execution_count": 64,
   "id": "6d68d1bc",
   "metadata": {},
   "outputs": [],
   "source": [
    "#Extend"
   ]
  },
  {
   "cell_type": "code",
   "execution_count": 65,
   "id": "da52cde2",
   "metadata": {},
   "outputs": [],
   "source": [
    "vlans2 = [1000, 2000]"
   ]
  },
  {
   "cell_type": "code",
   "execution_count": 66,
   "id": "f178db41",
   "metadata": {},
   "outputs": [
    {
     "data": {
      "text/plain": [
       "[200, 30, 20, 10, '300', '300', '300', '400', 1000, 2000]"
      ]
     },
     "execution_count": 66,
     "metadata": {},
     "output_type": "execute_result"
    }
   ],
   "source": [
    "vlans.extend(vlans2)\n",
    "vlans"
   ]
  },
  {
   "cell_type": "code",
   "execution_count": 68,
   "id": "dc22ea83",
   "metadata": {},
   "outputs": [],
   "source": [
    "#Sum of lists"
   ]
  },
  {
   "cell_type": "code",
   "execution_count": 69,
   "id": "eb978a2e",
   "metadata": {},
   "outputs": [
    {
     "data": {
      "text/plain": [
       "[200, 30, 20, 10, '300', '300', '300', '400', 1000, 2000]"
      ]
     },
     "execution_count": 69,
     "metadata": {},
     "output_type": "execute_result"
    }
   ],
   "source": [
    "vlans"
   ]
  },
  {
   "cell_type": "code",
   "execution_count": 70,
   "id": "af5a5798",
   "metadata": {},
   "outputs": [],
   "source": [
    "vlans3 = [3000, 4000]"
   ]
  },
  {
   "cell_type": "code",
   "execution_count": 71,
   "id": "a8caf68b",
   "metadata": {},
   "outputs": [
    {
     "data": {
      "text/plain": [
       "[200, 30, 20, 10, '300', '300', '300', '400', 1000, 2000, 3000, 4000]"
      ]
     },
     "execution_count": 71,
     "metadata": {},
     "output_type": "execute_result"
    }
   ],
   "source": [
    "vlans + vlans3"
   ]
  },
  {
   "cell_type": "code",
   "execution_count": 72,
   "id": "8385995f",
   "metadata": {},
   "outputs": [
    {
     "data": {
      "text/plain": [
       "[200, 30, 20, 10, '300', '300', '300', '400', 1000, 2000]"
      ]
     },
     "execution_count": 72,
     "metadata": {},
     "output_type": "execute_result"
    }
   ],
   "source": [
    "vlans"
   ]
  },
  {
   "cell_type": "code",
   "execution_count": 74,
   "id": "949d93e5",
   "metadata": {},
   "outputs": [],
   "source": [
    "#pop - удаление конкр. номера элемента"
   ]
  },
  {
   "cell_type": "code",
   "execution_count": 75,
   "id": "ff29919f",
   "metadata": {},
   "outputs": [
    {
     "data": {
      "text/plain": [
       "[1, 20, 4.0, 'word']"
      ]
     },
     "execution_count": 75,
     "metadata": {},
     "output_type": "execute_result"
    }
   ],
   "source": [
    "list3"
   ]
  },
  {
   "cell_type": "code",
   "execution_count": 77,
   "id": "5faa58fa",
   "metadata": {},
   "outputs": [
    {
     "data": {
      "text/plain": [
       "'word'"
      ]
     },
     "execution_count": 77,
     "metadata": {},
     "output_type": "execute_result"
    }
   ],
   "source": [
    "list3.pop(-1)"
   ]
  },
  {
   "cell_type": "code",
   "execution_count": 78,
   "id": "a139fd01",
   "metadata": {},
   "outputs": [
    {
     "data": {
      "text/plain": [
       "[1, 20, 4.0]"
      ]
     },
     "execution_count": 78,
     "metadata": {},
     "output_type": "execute_result"
    }
   ],
   "source": [
    "list3"
   ]
  },
  {
   "cell_type": "code",
   "execution_count": 79,
   "id": "efefb71a",
   "metadata": {},
   "outputs": [],
   "source": [
    "#remove"
   ]
  },
  {
   "cell_type": "code",
   "execution_count": 82,
   "id": "6fc95c13",
   "metadata": {},
   "outputs": [],
   "source": [
    "list3.remove(1)"
   ]
  },
  {
   "cell_type": "code",
   "execution_count": 83,
   "id": "0753ddbf",
   "metadata": {},
   "outputs": [
    {
     "data": {
      "text/plain": [
       "[20, 4.0]"
      ]
     },
     "execution_count": 83,
     "metadata": {},
     "output_type": "execute_result"
    }
   ],
   "source": [
    "list3"
   ]
  },
  {
   "cell_type": "code",
   "execution_count": 84,
   "id": "50b19bf3",
   "metadata": {},
   "outputs": [],
   "source": [
    "#index"
   ]
  },
  {
   "cell_type": "code",
   "execution_count": 85,
   "id": "a08a92b6",
   "metadata": {},
   "outputs": [
    {
     "data": {
      "text/plain": [
       "[3000, 4000]"
      ]
     },
     "execution_count": 85,
     "metadata": {},
     "output_type": "execute_result"
    }
   ],
   "source": [
    "vlans3"
   ]
  },
  {
   "cell_type": "code",
   "execution_count": 86,
   "id": "f5d1c8bb",
   "metadata": {},
   "outputs": [
    {
     "data": {
      "text/plain": [
       "1"
      ]
     },
     "execution_count": 86,
     "metadata": {},
     "output_type": "execute_result"
    }
   ],
   "source": [
    "vlans3.index(4000)"
   ]
  },
  {
   "cell_type": "code",
   "execution_count": 88,
   "id": "a291d6fb",
   "metadata": {},
   "outputs": [
    {
     "data": {
      "text/plain": [
       "0"
      ]
     },
     "execution_count": 88,
     "metadata": {},
     "output_type": "execute_result"
    }
   ],
   "source": [
    "vlans3.index(3000)"
   ]
  },
  {
   "cell_type": "code",
   "execution_count": 89,
   "id": "5e373276",
   "metadata": {},
   "outputs": [],
   "source": [
    "#insert"
   ]
  },
  {
   "cell_type": "code",
   "execution_count": 91,
   "id": "e38cdcfa",
   "metadata": {},
   "outputs": [],
   "source": [
    "vlans3.insert(2, 5000)"
   ]
  },
  {
   "cell_type": "code",
   "execution_count": 92,
   "id": "ee3b9054",
   "metadata": {},
   "outputs": [
    {
     "data": {
      "text/plain": [
       "[3000, 4000, 5000]"
      ]
     },
     "execution_count": 92,
     "metadata": {},
     "output_type": "execute_result"
    }
   ],
   "source": [
    "vlans3"
   ]
  },
  {
   "cell_type": "code",
   "execution_count": 93,
   "id": "9bb70993",
   "metadata": {},
   "outputs": [],
   "source": [
    "vlans3.insert(4, 6000)"
   ]
  },
  {
   "cell_type": "code",
   "execution_count": 94,
   "id": "9c202d64",
   "metadata": {},
   "outputs": [
    {
     "data": {
      "text/plain": [
       "[3000, 4000, 5000, 6000]"
      ]
     },
     "execution_count": 94,
     "metadata": {},
     "output_type": "execute_result"
    }
   ],
   "source": [
    "vlans3"
   ]
  },
  {
   "cell_type": "code",
   "execution_count": 95,
   "id": "ade86dad",
   "metadata": {},
   "outputs": [
    {
     "ename": "TypeError",
     "evalue": "insert expected 2 arguments, got 1",
     "output_type": "error",
     "traceback": [
      "\u001b[1;31m---------------------------------------------------------------------------\u001b[0m",
      "\u001b[1;31mTypeError\u001b[0m                                 Traceback (most recent call last)",
      "\u001b[1;32m<ipython-input-95-18b493a027a3>\u001b[0m in \u001b[0;36m<module>\u001b[1;34m\u001b[0m\n\u001b[1;32m----> 1\u001b[1;33m \u001b[0mvlans3\u001b[0m\u001b[1;33m.\u001b[0m\u001b[0minsert\u001b[0m\u001b[1;33m(\u001b[0m\u001b[1;36m7000\u001b[0m\u001b[1;33m)\u001b[0m\u001b[1;33m\u001b[0m\u001b[1;33m\u001b[0m\u001b[0m\n\u001b[0m",
      "\u001b[1;31mTypeError\u001b[0m: insert expected 2 arguments, got 1"
     ]
    }
   ],
   "source": [
    "vlans3.insert(7000)"
   ]
  },
  {
   "cell_type": "code",
   "execution_count": 101,
   "id": "a0db4733",
   "metadata": {},
   "outputs": [
    {
     "data": {
      "text/plain": [
       "[1000, 2000]"
      ]
     },
     "execution_count": 101,
     "metadata": {},
     "output_type": "execute_result"
    }
   ],
   "source": [
    "vlans2.reverse()\n",
    "vlans2"
   ]
  },
  {
   "cell_type": "code",
   "execution_count": 105,
   "id": "f99b4c47",
   "metadata": {},
   "outputs": [
    {
     "data": {
      "text/plain": [
       "[200, 30, 20, 10, '300', '300', '300', '400', 1000, 2000]"
      ]
     },
     "execution_count": 105,
     "metadata": {},
     "output_type": "execute_result"
    }
   ],
   "source": [
    "vlans\n",
    "\n"
   ]
  },
  {
   "cell_type": "code",
   "execution_count": 109,
   "id": "f7345c42",
   "metadata": {},
   "outputs": [
    {
     "data": {
      "text/plain": [
       "[3000, 4000, 5000, 6000]"
      ]
     },
     "execution_count": 109,
     "metadata": {},
     "output_type": "execute_result"
    }
   ],
   "source": [
    "vlans = sorted(vlans3)\n",
    "vlans"
   ]
  },
  {
   "cell_type": "code",
   "execution_count": 110,
   "id": "4bfcd629",
   "metadata": {},
   "outputs": [],
   "source": [
    "vlans = [200, 30, 20, 10, '300']"
   ]
  },
  {
   "cell_type": "code",
   "execution_count": 111,
   "id": "249b3f53",
   "metadata": {},
   "outputs": [
    {
     "ename": "TypeError",
     "evalue": "'<' not supported between instances of 'str' and 'int'",
     "output_type": "error",
     "traceback": [
      "\u001b[1;31m---------------------------------------------------------------------------\u001b[0m",
      "\u001b[1;31mTypeError\u001b[0m                                 Traceback (most recent call last)",
      "\u001b[1;32m<ipython-input-111-ac56a92183df>\u001b[0m in \u001b[0;36m<module>\u001b[1;34m\u001b[0m\n\u001b[1;32m----> 1\u001b[1;33m \u001b[0mvlans\u001b[0m\u001b[1;33m.\u001b[0m\u001b[0msort\u001b[0m\u001b[1;33m(\u001b[0m\u001b[1;33m)\u001b[0m\u001b[1;33m\u001b[0m\u001b[1;33m\u001b[0m\u001b[0m\n\u001b[0m",
      "\u001b[1;31mTypeError\u001b[0m: '<' not supported between instances of 'str' and 'int'"
     ]
    }
   ],
   "source": [
    "vlans.sort()"
   ]
  },
  {
   "cell_type": "code",
   "execution_count": 114,
   "id": "31d9c993",
   "metadata": {},
   "outputs": [
    {
     "data": {
      "text/plain": [
       "[10, 20, 30, 200, 300]"
      ]
     },
     "execution_count": 114,
     "metadata": {},
     "output_type": "execute_result"
    }
   ],
   "source": [
    "vlans = [200, 30, 20, 10, 300]\n",
    "vlans.sort()\n",
    "vlans"
   ]
  },
  {
   "cell_type": "code",
   "execution_count": 115,
   "id": "308259c8",
   "metadata": {},
   "outputs": [],
   "source": [
    "#DICTIONARY"
   ]
  },
  {
   "cell_type": "code",
   "execution_count": 117,
   "id": "861a9c4b",
   "metadata": {},
   "outputs": [],
   "source": [
    "london = {\"id\": 1, \n",
    "          \"name\": \"London\",\n",
    "          \"port\": \"Gi1/0/11\"}"
   ]
  },
  {
   "cell_type": "code",
   "execution_count": 120,
   "id": "fd49db42",
   "metadata": {},
   "outputs": [
    {
     "data": {
      "text/plain": [
       "'London'"
      ]
     },
     "execution_count": 120,
     "metadata": {},
     "output_type": "execute_result"
    }
   ],
   "source": [
    "london[\"name\"]"
   ]
  },
  {
   "cell_type": "code",
   "execution_count": 121,
   "id": "6bfbb893",
   "metadata": {},
   "outputs": [
    {
     "data": {
      "text/plain": [
       "'Gi1/0/11'"
      ]
     },
     "execution_count": 121,
     "metadata": {},
     "output_type": "execute_result"
    }
   ],
   "source": [
    "london[\"port\"]"
   ]
  },
  {
   "cell_type": "code",
   "execution_count": 133,
   "id": "dee4c075",
   "metadata": {},
   "outputs": [
    {
     "data": {
      "text/plain": [
       "{'r2': {'hostname': 'london_r1',\n",
       "  'location': 'Site A',\n",
       "  'vendor': 'Cisco',\n",
       "  'model': '3751',\n",
       "  'ip': '10.1.1.1'},\n",
       " 'r1': {'hostname': 'london_r2',\n",
       "  'location': 'Site B',\n",
       "  'vendor': 'Cisco',\n",
       "  'model': 'N7710',\n",
       "  'ip': '10.2.2.2'},\n",
       " 'sw1': {'hostname': 'london_sw1',\n",
       "  'location': 'Site C',\n",
       "  'vendor': 'Cisco',\n",
       "  'model': '3560G',\n",
       "  'ip': '192.168.3.1'}}"
      ]
     },
     "execution_count": 133,
     "metadata": {},
     "output_type": "execute_result"
    }
   ],
   "source": [
    "london_co = {\n",
    "    \"r2\": {\"hostname\" : \"london_r1\",\n",
    "          \"location\" : \"Site A\",\n",
    "          \"vendor\" : \"Cisco\",\n",
    "          \"model\" : \"3751\",\n",
    "          \"ip\" : \"10.1.1.1\"},\n",
    "    \"r1\": {\"hostname\" : \"london_r2\",\n",
    "          \"location\" : \"Site B\",\n",
    "          \"vendor\" : \"Cisco\",\n",
    "          \"model\" : \"N7710\",\n",
    "          \"ip\" : \"10.2.2.2\"},\n",
    "    \"sw1\": {\"hostname\" : \"london_sw1\",\n",
    "          \"location\" : \"Site C\",\n",
    "          \"vendor\" : \"Cisco\",\n",
    "          \"model\" : \"3560G\",\n",
    "           \"ip\" : \"192.168.3.1\"}\n",
    "}\n",
    "london_co"
   ]
  },
  {
   "cell_type": "code",
   "execution_count": 134,
   "id": "0fbb709a",
   "metadata": {},
   "outputs": [
    {
     "data": {
      "text/plain": [
       "'3751'"
      ]
     },
     "execution_count": 134,
     "metadata": {},
     "output_type": "execute_result"
    }
   ],
   "source": [
    "london_co[\"r2\"][\"model\"]"
   ]
  },
  {
   "cell_type": "code",
   "execution_count": 135,
   "id": "4dfbcbf5",
   "metadata": {},
   "outputs": [
    {
     "data": {
      "text/plain": [
       "'192.168.3.1'"
      ]
     },
     "execution_count": 135,
     "metadata": {},
     "output_type": "execute_result"
    }
   ],
   "source": [
    "london_co[\"sw1\"][\"ip\"]"
   ]
  },
  {
   "cell_type": "code",
   "execution_count": 136,
   "id": "61199b11",
   "metadata": {},
   "outputs": [],
   "source": [
    "#sorted"
   ]
  },
  {
   "cell_type": "code",
   "execution_count": 137,
   "id": "d0972910",
   "metadata": {},
   "outputs": [
    {
     "data": {
      "text/plain": [
       "['r1', 'r2', 'sw1']"
      ]
     },
     "execution_count": 137,
     "metadata": {},
     "output_type": "execute_result"
    }
   ],
   "source": [
    "sorted(london_co)     #сортирует ключи словаря по возрастанию."
   ]
  },
  {
   "cell_type": "code",
   "execution_count": 138,
   "id": "38ee8903",
   "metadata": {},
   "outputs": [
    {
     "data": {
      "text/plain": [
       "{'r2': {'hostname': 'london_r1',\n",
       "  'location': 'Site A',\n",
       "  'vendor': 'Cisco',\n",
       "  'model': '3751',\n",
       "  'ip': '10.1.1.1'},\n",
       " 'r1': {'hostname': 'london_r2',\n",
       "  'location': 'Site B',\n",
       "  'vendor': 'Cisco',\n",
       "  'model': 'N7710',\n",
       "  'ip': '10.2.2.2'},\n",
       " 'sw1': {'hostname': 'london_sw1',\n",
       "  'location': 'Site C',\n",
       "  'vendor': 'Cisco',\n",
       "  'model': '3560G',\n",
       "  'ip': '192.168.3.1'}}"
      ]
     },
     "execution_count": 138,
     "metadata": {},
     "output_type": "execute_result"
    }
   ],
   "source": [
    "london_co"
   ]
  },
  {
   "cell_type": "code",
   "execution_count": 144,
   "id": "9dffdb01",
   "metadata": {},
   "outputs": [],
   "source": [
    "#CLEAR"
   ]
  },
  {
   "cell_type": "code",
   "execution_count": 139,
   "id": "a1ac7437",
   "metadata": {},
   "outputs": [],
   "source": [
    "london = {\"name\": \"London1\", \"location\" : \"London Str\"}"
   ]
  },
  {
   "cell_type": "code",
   "execution_count": 140,
   "id": "d3acae24",
   "metadata": {},
   "outputs": [],
   "source": [
    "london.clear()"
   ]
  },
  {
   "cell_type": "code",
   "execution_count": 141,
   "id": "ce8a12bb",
   "metadata": {},
   "outputs": [
    {
     "data": {
      "text/plain": [
       "{}"
      ]
     },
     "execution_count": 141,
     "metadata": {},
     "output_type": "execute_result"
    }
   ],
   "source": [
    "london"
   ]
  },
  {
   "cell_type": "code",
   "execution_count": 145,
   "id": "17daf76d",
   "metadata": {},
   "outputs": [],
   "source": [
    "#РАВЕНСТВО"
   ]
  },
  {
   "cell_type": "code",
   "execution_count": 148,
   "id": "b727cec4",
   "metadata": {},
   "outputs": [],
   "source": [
    "london = {\"name\": \"London1\", \"location\" : \"London Str\", \"vendor\" : \"Cisco\"}"
   ]
  },
  {
   "cell_type": "code",
   "execution_count": 149,
   "id": "12538a93",
   "metadata": {},
   "outputs": [],
   "source": [
    "london2 = london"
   ]
  },
  {
   "cell_type": "code",
   "execution_count": 150,
   "id": "ad663d3c",
   "metadata": {},
   "outputs": [
    {
     "data": {
      "text/plain": [
       "2436512538688"
      ]
     },
     "execution_count": 150,
     "metadata": {},
     "output_type": "execute_result"
    }
   ],
   "source": [
    "id(london)"
   ]
  },
  {
   "cell_type": "code",
   "execution_count": 151,
   "id": "a12eed49",
   "metadata": {},
   "outputs": [
    {
     "data": {
      "text/plain": [
       "2436512538688"
      ]
     },
     "execution_count": 151,
     "metadata": {},
     "output_type": "execute_result"
    }
   ],
   "source": [
    "id(london2)"
   ]
  },
  {
   "cell_type": "code",
   "execution_count": 154,
   "id": "a859eeef",
   "metadata": {},
   "outputs": [
    {
     "data": {
      "text/plain": [
       "{'name': 'London1', 'location': 'London Str', 'vendor': 'Extreme'}"
      ]
     },
     "execution_count": 154,
     "metadata": {},
     "output_type": "execute_result"
    }
   ],
   "source": [
    "london[\"vendor\"] = \"Extreme\"\n",
    "london"
   ]
  },
  {
   "cell_type": "code",
   "execution_count": 155,
   "id": "1ddfce67",
   "metadata": {},
   "outputs": [
    {
     "data": {
      "text/plain": [
       "{'name': 'London1', 'location': 'London Str', 'vendor': 'Extreme'}"
      ]
     },
     "execution_count": 155,
     "metadata": {},
     "output_type": "execute_result"
    }
   ],
   "source": [
    "london2"
   ]
  },
  {
   "cell_type": "code",
   "execution_count": 156,
   "id": "d8d700c8",
   "metadata": {},
   "outputs": [],
   "source": [
    "#То есть словарь london и london2 ссылаются на один и тот же объект в ячейке памяти."
   ]
  },
  {
   "cell_type": "code",
   "execution_count": 157,
   "id": "652dba05",
   "metadata": {},
   "outputs": [],
   "source": [
    "#COPY"
   ]
  },
  {
   "cell_type": "code",
   "execution_count": 159,
   "id": "ef4e8d60",
   "metadata": {},
   "outputs": [
    {
     "data": {
      "text/plain": [
       "{'name': 'London1', 'location': 'London Str', 'vendor': 'Extreme'}"
      ]
     },
     "execution_count": 159,
     "metadata": {},
     "output_type": "execute_result"
    }
   ],
   "source": [
    "london3 = london.copy()\n",
    "london3"
   ]
  },
  {
   "cell_type": "code",
   "execution_count": 160,
   "id": "13268e53",
   "metadata": {},
   "outputs": [
    {
     "data": {
      "text/plain": [
       "2436512538688"
      ]
     },
     "execution_count": 160,
     "metadata": {},
     "output_type": "execute_result"
    }
   ],
   "source": [
    "id(london)"
   ]
  },
  {
   "cell_type": "code",
   "execution_count": 161,
   "id": "ecef91c7",
   "metadata": {},
   "outputs": [
    {
     "data": {
      "text/plain": [
       "2436512513856"
      ]
     },
     "execution_count": 161,
     "metadata": {},
     "output_type": "execute_result"
    }
   ],
   "source": [
    "id(london3)"
   ]
  },
  {
   "cell_type": "code",
   "execution_count": 164,
   "id": "100f1145",
   "metadata": {},
   "outputs": [
    {
     "data": {
      "text/plain": [
       "{'name': 'London1', 'location': 'London Str', 'vendor': 'Extreme'}"
      ]
     },
     "execution_count": 164,
     "metadata": {},
     "output_type": "execute_result"
    }
   ],
   "source": [
    "london3[\"vendor\"] = \"HP\"\n",
    "london    #london не изменился"
   ]
  },
  {
   "cell_type": "code",
   "execution_count": 165,
   "id": "caf63052",
   "metadata": {},
   "outputs": [],
   "source": [
    "#GET"
   ]
  },
  {
   "cell_type": "code",
   "execution_count": 166,
   "id": "adce75a6",
   "metadata": {},
   "outputs": [
    {
     "data": {
      "text/plain": [
       "{'name': 'London1', 'location': 'London Str', 'vendor': 'Extreme'}"
      ]
     },
     "execution_count": 166,
     "metadata": {},
     "output_type": "execute_result"
    }
   ],
   "source": [
    "london"
   ]
  },
  {
   "cell_type": "code",
   "execution_count": 167,
   "id": "f1936381",
   "metadata": {},
   "outputs": [
    {
     "data": {
      "text/plain": [
       "'Extreme'"
      ]
     },
     "execution_count": 167,
     "metadata": {},
     "output_type": "execute_result"
    }
   ],
   "source": [
    "london.get(\"vendor\")"
   ]
  },
  {
   "cell_type": "code",
   "execution_count": 171,
   "id": "e834f7e1",
   "metadata": {},
   "outputs": [
    {
     "ename": "KeyError",
     "evalue": "'ios'",
     "output_type": "error",
     "traceback": [
      "\u001b[1;31m---------------------------------------------------------------------------\u001b[0m",
      "\u001b[1;31mKeyError\u001b[0m                                  Traceback (most recent call last)",
      "\u001b[1;32m<ipython-input-171-9c8910618bf6>\u001b[0m in \u001b[0;36m<module>\u001b[1;34m\u001b[0m\n\u001b[1;32m----> 1\u001b[1;33m \u001b[0mlondon\u001b[0m\u001b[1;33m[\u001b[0m\u001b[1;34m\"ios\"\u001b[0m\u001b[1;33m]\u001b[0m\u001b[1;33m\u001b[0m\u001b[1;33m\u001b[0m\u001b[0m\n\u001b[0m",
      "\u001b[1;31mKeyError\u001b[0m: 'ios'"
     ]
    }
   ],
   "source": [
    "london[\"ios\"]"
   ]
  },
  {
   "cell_type": "code",
   "execution_count": 173,
   "id": "5227ab33",
   "metadata": {},
   "outputs": [
    {
     "name": "stdout",
     "output_type": "stream",
     "text": [
      "None\n"
     ]
    }
   ],
   "source": [
    "print(london.get(\"ios\"))#по умолч. пишет none."
   ]
  },
  {
   "cell_type": "code",
   "execution_count": 178,
   "id": "18976c3f",
   "metadata": {},
   "outputs": [
    {
     "name": "stdout",
     "output_type": "stream",
     "text": [
      "Oops\n"
     ]
    }
   ],
   "source": [
    "print(london.get(\"ios\", \"Oops\")) #может писать и то что ты укажешь, если нету значения этого ключа."
   ]
  },
  {
   "cell_type": "code",
   "execution_count": 180,
   "id": "368098d7",
   "metadata": {},
   "outputs": [
    {
     "name": "stdout",
     "output_type": "stream",
     "text": [
      "London Str\n"
     ]
    }
   ],
   "source": [
    "print(london.get(\"location\", \"Oops\"))  #если есть, то все норм, ничего не напишет."
   ]
  },
  {
   "cell_type": "code",
   "execution_count": 183,
   "id": "6dce117f",
   "metadata": {},
   "outputs": [],
   "source": [
    "#SETDEFAULT - если ключа нет, то созд. этот ключ в словаре со значением none."
   ]
  },
  {
   "cell_type": "code",
   "execution_count": 184,
   "id": "c1de85db",
   "metadata": {},
   "outputs": [
    {
     "data": {
      "text/plain": [
       "{'name': 'London1', 'location': 'London Str', 'vendor': 'Extreme'}"
      ]
     },
     "execution_count": 184,
     "metadata": {},
     "output_type": "execute_result"
    }
   ],
   "source": [
    "london\n"
   ]
  },
  {
   "cell_type": "code",
   "execution_count": 186,
   "id": "2cbf8f29",
   "metadata": {},
   "outputs": [
    {
     "data": {
      "text/plain": [
       "{'name': 'London1',\n",
       " 'location': 'London Str',\n",
       " 'vendor': 'Extreme',\n",
       " 'model': None}"
      ]
     },
     "execution_count": 186,
     "metadata": {},
     "output_type": "execute_result"
    }
   ],
   "source": [
    "london.setdefault(\"model\")\n",
    "london"
   ]
  },
  {
   "cell_type": "code",
   "execution_count": 189,
   "id": "7eea0102",
   "metadata": {},
   "outputs": [
    {
     "ename": "NameError",
     "evalue": "name 'key' is not defined",
     "output_type": "error",
     "traceback": [
      "\u001b[1;31m---------------------------------------------------------------------------\u001b[0m",
      "\u001b[1;31mNameError\u001b[0m                                 Traceback (most recent call last)",
      "\u001b[1;32m<ipython-input-189-94eb6506f8dd>\u001b[0m in \u001b[0;36m<module>\u001b[1;34m\u001b[0m\n\u001b[1;32m----> 1\u001b[1;33m \u001b[1;32mif\u001b[0m \u001b[0mkey\u001b[0m \u001b[1;32min\u001b[0m \u001b[0mlondon\u001b[0m\u001b[1;33m:\u001b[0m\u001b[1;33m\u001b[0m\u001b[1;33m\u001b[0m\u001b[0m\n\u001b[0m\u001b[0;32m      2\u001b[0m     \u001b[0mvalue\u001b[0m \u001b[1;33m=\u001b[0m \u001b[0mlondon\u001b[0m\u001b[1;33m[\u001b[0m\u001b[0mkey\u001b[0m\u001b[1;33m]\u001b[0m\u001b[1;33m\u001b[0m\u001b[1;33m\u001b[0m\u001b[0m\n\u001b[0;32m      3\u001b[0m \u001b[1;32melse\u001b[0m\u001b[1;33m:\u001b[0m\u001b[1;33m\u001b[0m\u001b[1;33m\u001b[0m\u001b[0m\n\u001b[0;32m      4\u001b[0m     \u001b[0mlondon\u001b[0m\u001b[1;33m[\u001b[0m\u001b[0mkey\u001b[0m\u001b[1;33m]\u001b[0m \u001b[1;33m=\u001b[0m \u001b[1;34m\"somevalue\"\u001b[0m\u001b[1;33m\u001b[0m\u001b[1;33m\u001b[0m\u001b[0m\n\u001b[0;32m      5\u001b[0m     \u001b[0mvalue\u001b[0m \u001b[1;33m=\u001b[0m \u001b[0mlondon\u001b[0m\u001b[1;33m[\u001b[0m\u001b[0mkey\u001b[0m\u001b[1;33m]\u001b[0m\u001b[1;33m\u001b[0m\u001b[1;33m\u001b[0m\u001b[0m\n",
      "\u001b[1;31mNameError\u001b[0m: name 'key' is not defined"
     ]
    }
   ],
   "source": [
    "if key in london:\n",
    "    value = london[key]\n",
    "else:\n",
    "    london[key] = \"somevalue\"\n",
    "    value = london[key]\n"
   ]
  },
  {
   "cell_type": "code",
   "execution_count": 190,
   "id": "24f85c6f",
   "metadata": {},
   "outputs": [],
   "source": [
    "#keys, values, items"
   ]
  },
  {
   "cell_type": "code",
   "execution_count": 198,
   "id": "d74e77ec",
   "metadata": {},
   "outputs": [
    {
     "data": {
      "text/plain": [
       "{'name': 'London1', 'location': 'London Str', 'vendor': 'HP', 'street': None}"
      ]
     },
     "execution_count": 198,
     "metadata": {},
     "output_type": "execute_result"
    }
   ],
   "source": [
    "london3"
   ]
  },
  {
   "cell_type": "code",
   "execution_count": 199,
   "id": "3bd8a4f6",
   "metadata": {},
   "outputs": [
    {
     "data": {
      "text/plain": [
       "dict_keys(['name', 'location', 'vendor', 'street'])"
      ]
     },
     "execution_count": 199,
     "metadata": {},
     "output_type": "execute_result"
    }
   ],
   "source": [
    "london3.keys()"
   ]
  },
  {
   "cell_type": "code",
   "execution_count": 200,
   "id": "98649c0a",
   "metadata": {},
   "outputs": [
    {
     "data": {
      "text/plain": [
       "dict_values(['London1', 'London Str', 'HP', None])"
      ]
     },
     "execution_count": 200,
     "metadata": {},
     "output_type": "execute_result"
    }
   ],
   "source": [
    "london3.values()"
   ]
  },
  {
   "cell_type": "code",
   "execution_count": 201,
   "id": "897b5f2a",
   "metadata": {},
   "outputs": [
    {
     "data": {
      "text/plain": [
       "dict_items([('name', 'London1'), ('location', 'London Str'), ('vendor', 'HP'), ('street', None)])"
      ]
     },
     "execution_count": 201,
     "metadata": {},
     "output_type": "execute_result"
    }
   ],
   "source": [
    "london3.items()"
   ]
  },
  {
   "cell_type": "code",
   "execution_count": 202,
   "id": "0e33e189",
   "metadata": {},
   "outputs": [
    {
     "data": {
      "text/plain": [
       "{'name': 'London1',\n",
       " 'location': 'London Str',\n",
       " 'vendor': 'Extreme',\n",
       " 'model': None}"
      ]
     },
     "execution_count": 202,
     "metadata": {},
     "output_type": "execute_result"
    }
   ],
   "source": [
    "london"
   ]
  },
  {
   "cell_type": "code",
   "execution_count": 206,
   "id": "11143dfa",
   "metadata": {},
   "outputs": [
    {
     "data": {
      "text/plain": [
       "dict_keys(['name', 'location', 'vendor', 'model'])"
      ]
     },
     "execution_count": 206,
     "metadata": {},
     "output_type": "execute_result"
    }
   ],
   "source": [
    "keys = london.keys()\n",
    "keys"
   ]
  },
  {
   "cell_type": "code",
   "execution_count": 208,
   "id": "e6598b57",
   "metadata": {},
   "outputs": [
    {
     "data": {
      "text/plain": [
       "['name', 'location', 'vendor', 'model']"
      ]
     },
     "execution_count": 208,
     "metadata": {},
     "output_type": "execute_result"
    }
   ],
   "source": [
    "keys = list(keys)   #превращаем наше view в обычный list \n",
    "keys"
   ]
  },
  {
   "cell_type": "code",
   "execution_count": 209,
   "id": "9eea8220",
   "metadata": {},
   "outputs": [],
   "source": [
    "#DEL"
   ]
  },
  {
   "cell_type": "code",
   "execution_count": 213,
   "id": "44898fac",
   "metadata": {},
   "outputs": [
    {
     "data": {
      "text/plain": [
       "{'name': 'London1', 'location': 'London Str', 'vendor': 'Extreme'}"
      ]
     },
     "execution_count": 213,
     "metadata": {},
     "output_type": "execute_result"
    }
   ],
   "source": [
    "london"
   ]
  },
  {
   "cell_type": "code",
   "execution_count": 214,
   "id": "81e1f401",
   "metadata": {},
   "outputs": [
    {
     "data": {
      "text/plain": [
       "{'name': 'London1', 'location': 'London Str'}"
      ]
     },
     "execution_count": 214,
     "metadata": {},
     "output_type": "execute_result"
    }
   ],
   "source": [
    "del london[\"vendor\"]\n",
    "london\n"
   ]
  },
  {
   "cell_type": "code",
   "execution_count": 215,
   "id": "5ffad5a2",
   "metadata": {},
   "outputs": [],
   "source": [
    "#UPDATE"
   ]
  },
  {
   "cell_type": "code",
   "execution_count": 216,
   "id": "b5370c44",
   "metadata": {},
   "outputs": [],
   "source": [
    "r1 = {\"version\" : 12.1, \"location\" : \"Minsk\"}"
   ]
  },
  {
   "cell_type": "code",
   "execution_count": 218,
   "id": "3d9206a2",
   "metadata": {},
   "outputs": [
    {
     "data": {
      "text/plain": [
       "{'version': 12.1, 'location': 'Minsk', 'ip': '192.168.1.1'}"
      ]
     },
     "execution_count": 218,
     "metadata": {},
     "output_type": "execute_result"
    }
   ],
   "source": [
    "r1.update({\"ip\" : \"192.168.1.1\"})\n",
    "r1"
   ]
  },
  {
   "cell_type": "code",
   "execution_count": 219,
   "id": "48e59dff",
   "metadata": {},
   "outputs": [],
   "source": [
    "#Варианты созд словаря"
   ]
  },
  {
   "cell_type": "code",
   "execution_count": 228,
   "id": "55d3a337",
   "metadata": {},
   "outputs": [],
   "source": [
    "#Явно"
   ]
  },
  {
   "cell_type": "code",
   "execution_count": 222,
   "id": "09ea195f",
   "metadata": {},
   "outputs": [
    {
     "data": {
      "text/plain": [
       "{'model': 'c2950', 'ios': '15.4'}"
      ]
     },
     "execution_count": 222,
     "metadata": {},
     "output_type": "execute_result"
    }
   ],
   "source": [
    "sw3 = {\"model\" : \"c2950\", \"ios\" : \"15.4\"}\n",
    "sw3"
   ]
  },
  {
   "cell_type": "code",
   "execution_count": 232,
   "id": "218275c9",
   "metadata": {},
   "outputs": [],
   "source": [
    "#Из множества методом dict"
   ]
  },
  {
   "cell_type": "code",
   "execution_count": 230,
   "id": "a157545d",
   "metadata": {},
   "outputs": [
    {
     "data": {
      "text/plain": [
       "{'model': 'c3850', 'ios': '15.3'}"
      ]
     },
     "execution_count": 230,
     "metadata": {},
     "output_type": "execute_result"
    }
   ],
   "source": [
    "sw1 = dict(model=\"c3850\",ios=\"15.3\")  \n",
    "sw1"
   ]
  },
  {
   "cell_type": "code",
   "execution_count": 235,
   "id": "3059fa11",
   "metadata": {},
   "outputs": [],
   "source": [
    "#Из списка методом dict"
   ]
  },
  {
   "cell_type": "code",
   "execution_count": 236,
   "id": "18dc7051",
   "metadata": {},
   "outputs": [
    {
     "data": {
      "text/plain": [
       "{'model': 'c2960x', 'ios': '14.4'}"
      ]
     },
     "execution_count": 236,
     "metadata": {},
     "output_type": "execute_result"
    }
   ],
   "source": [
    "sw4 = dict([(\"model\", \"c2960x\"), (\"ios\", \"14.4\")])  \n",
    "sw4"
   ]
  },
  {
   "cell_type": "code",
   "execution_count": 237,
   "id": "5f2b9422",
   "metadata": {},
   "outputs": [],
   "source": [
    "#Создать словарь с пустыми values()"
   ]
  },
  {
   "cell_type": "code",
   "execution_count": 238,
   "id": "ab96964a",
   "metadata": {},
   "outputs": [],
   "source": [
    "new_device = [\"hostname\", \"ios\", \"location\", \"ip\"]"
   ]
  },
  {
   "cell_type": "code",
   "execution_count": 240,
   "id": "ef5fdef7",
   "metadata": {},
   "outputs": [
    {
     "data": {
      "text/plain": [
       "{'hostname': None, 'ios': None, 'location': None, 'ip': None}"
      ]
     },
     "execution_count": 240,
     "metadata": {},
     "output_type": "execute_result"
    }
   ],
   "source": [
    "new_device = dict.fromkeys(new_device)\n",
    "new_device"
   ]
  },
  {
   "cell_type": "code",
   "execution_count": 276,
   "id": "cba75a5b",
   "metadata": {},
   "outputs": [
    {
     "data": {
      "text/plain": [
       "{'hostname': [], 'ios': [], 'location': [], 'ip': []}"
      ]
     },
     "execution_count": 276,
     "metadata": {},
     "output_type": "execute_result"
    }
   ],
   "source": [
    "new_device = dict.fromkeys(new_device, [])\n",
    "new_device"
   ]
  },
  {
   "cell_type": "code",
   "execution_count": 280,
   "id": "e6b2dd41",
   "metadata": {},
   "outputs": [
    {
     "data": {
      "text/plain": [
       "{'hostname': ['minsk_r1', 'minsk_r1', 'minsk_r1', 'minsk_r1'],\n",
       " 'ios': ['minsk_r1', 'minsk_r1', 'minsk_r1', 'minsk_r1'],\n",
       " 'location': ['minsk_r1', 'minsk_r1', 'minsk_r1', 'minsk_r1'],\n",
       " 'ip': ['minsk_r1', 'minsk_r1', 'minsk_r1', 'minsk_r1']}"
      ]
     },
     "execution_count": 280,
     "metadata": {},
     "output_type": "execute_result"
    }
   ],
   "source": [
    "new_device[\"hostname\"].append(\"minsk_r1\")    #добавляем значение для одного ключа, но появляется одно и тоже для всех ключей.\n",
    "new_device"
   ]
  },
  {
   "cell_type": "code",
   "execution_count": 291,
   "id": "4194a91d",
   "metadata": {},
   "outputs": [],
   "source": [
    "#Tuple(кортеж) - неизм / упорядочен."
   ]
  },
  {
   "cell_type": "code",
   "execution_count": 292,
   "id": "a222f4b3",
   "metadata": {},
   "outputs": [
    {
     "name": "stdout",
     "output_type": "stream",
     "text": [
      "()\n"
     ]
    }
   ],
   "source": [
    "tuple1 = tuple()\n",
    "print(tuple1)"
   ]
  },
  {
   "cell_type": "code",
   "execution_count": 290,
   "id": "3953622e",
   "metadata": {},
   "outputs": [
    {
     "data": {
      "text/plain": [
       "('password',)"
      ]
     },
     "execution_count": 290,
     "metadata": {},
     "output_type": "execute_result"
    }
   ],
   "source": [
    "tuple2 = (\"password\", )\n",
    "tuple2"
   ]
  },
  {
   "cell_type": "code",
   "execution_count": 293,
   "id": "8ff38bb4",
   "metadata": {},
   "outputs": [],
   "source": [
    "#from list:"
   ]
  },
  {
   "cell_type": "code",
   "execution_count": 294,
   "id": "4465079e",
   "metadata": {},
   "outputs": [
    {
     "data": {
      "text/plain": [
       "{'model': 'c3850', 'ios': '15.3'}"
      ]
     },
     "execution_count": 294,
     "metadata": {},
     "output_type": "execute_result"
    }
   ],
   "source": [
    "sw1"
   ]
  },
  {
   "cell_type": "code",
   "execution_count": 295,
   "id": "c8ab11a5",
   "metadata": {},
   "outputs": [],
   "source": [
    "new_device = [\"hostname\", \"ios\", \"location\", \"ip\"]"
   ]
  },
  {
   "cell_type": "code",
   "execution_count": 296,
   "id": "9102a434",
   "metadata": {},
   "outputs": [
    {
     "data": {
      "text/plain": [
       "('hostname', 'ios', 'location', 'ip')"
      ]
     },
     "execution_count": 296,
     "metadata": {},
     "output_type": "execute_result"
    }
   ],
   "source": [
    "new_device = tuple(new_device)\n",
    "new_device"
   ]
  },
  {
   "cell_type": "code",
   "execution_count": 297,
   "id": "f9d73180",
   "metadata": {},
   "outputs": [
    {
     "data": {
      "text/plain": [
       "'hostname'"
      ]
     },
     "execution_count": 297,
     "metadata": {},
     "output_type": "execute_result"
    }
   ],
   "source": [
    "new_device[0]"
   ]
  },
  {
   "cell_type": "code",
   "execution_count": 298,
   "id": "3d18dbed",
   "metadata": {},
   "outputs": [
    {
     "data": {
      "text/plain": [
       "'ios'"
      ]
     },
     "execution_count": 298,
     "metadata": {},
     "output_type": "execute_result"
    }
   ],
   "source": [
    "new_device[1]"
   ]
  },
  {
   "cell_type": "code",
   "execution_count": 301,
   "id": "8374a970",
   "metadata": {},
   "outputs": [],
   "source": [
    "#кортеж неизменяем:"
   ]
  },
  {
   "cell_type": "code",
   "execution_count": 302,
   "id": "44a24545",
   "metadata": {},
   "outputs": [
    {
     "ename": "TypeError",
     "evalue": "'tuple' object does not support item assignment",
     "output_type": "error",
     "traceback": [
      "\u001b[1;31m---------------------------------------------------------------------------\u001b[0m",
      "\u001b[1;31mTypeError\u001b[0m                                 Traceback (most recent call last)",
      "\u001b[1;32m<ipython-input-302-2f6334dad49e>\u001b[0m in \u001b[0;36m<module>\u001b[1;34m\u001b[0m\n\u001b[1;32m----> 1\u001b[1;33m \u001b[0mnew_device\u001b[0m\u001b[1;33m[\u001b[0m\u001b[1;36m3\u001b[0m\u001b[1;33m]\u001b[0m \u001b[1;33m=\u001b[0m \u001b[1;34m\"192.168.1.1\"\u001b[0m\u001b[1;33m\u001b[0m\u001b[1;33m\u001b[0m\u001b[0m\n\u001b[0m",
      "\u001b[1;31mTypeError\u001b[0m: 'tuple' object does not support item assignment"
     ]
    }
   ],
   "source": [
    "new_device[3] = \"192.168.1.1\""
   ]
  },
  {
   "cell_type": "code",
   "execution_count": 303,
   "id": "e8a544be",
   "metadata": {},
   "outputs": [],
   "source": [
    "#Sorted"
   ]
  },
  {
   "cell_type": "code",
   "execution_count": 304,
   "id": "87851b75",
   "metadata": {},
   "outputs": [
    {
     "data": {
      "text/plain": [
       "('hostname', 'ios', 'location', 'ip')"
      ]
     },
     "execution_count": 304,
     "metadata": {},
     "output_type": "execute_result"
    }
   ],
   "source": [
    "new_device"
   ]
  },
  {
   "cell_type": "code",
   "execution_count": 305,
   "id": "f4c123d7",
   "metadata": {},
   "outputs": [
    {
     "data": {
      "text/plain": [
       "['hostname', 'ios', 'ip', 'location']"
      ]
     },
     "execution_count": 305,
     "metadata": {},
     "output_type": "execute_result"
    }
   ],
   "source": [
    "sorted(new_device)"
   ]
  },
  {
   "cell_type": "code",
   "execution_count": 306,
   "id": "e75a8779",
   "metadata": {},
   "outputs": [],
   "source": [
    "#Set - измен/неупорядочен."
   ]
  },
  {
   "cell_type": "code",
   "execution_count": 312,
   "id": "a1fae67c",
   "metadata": {},
   "outputs": [],
   "source": [
    "vlans = [10, 20, 30, 40, 100, 200, 10]"
   ]
  },
  {
   "cell_type": "code",
   "execution_count": 313,
   "id": "9ed1aef2",
   "metadata": {},
   "outputs": [
    {
     "data": {
      "text/plain": [
       "{10, 20, 30, 40, 100, 200}"
      ]
     },
     "execution_count": 313,
     "metadata": {},
     "output_type": "execute_result"
    }
   ],
   "source": [
    "vlans = set(vlans)\n",
    "vlans"
   ]
  },
  {
   "cell_type": "code",
   "execution_count": 314,
   "id": "8aaaf23d",
   "metadata": {},
   "outputs": [],
   "source": [
    "#Add"
   ]
  },
  {
   "cell_type": "code",
   "execution_count": 315,
   "id": "413d5e5b",
   "metadata": {},
   "outputs": [
    {
     "data": {
      "text/plain": [
       "{10, 20, 30, 40, 100, 200}"
      ]
     },
     "execution_count": 315,
     "metadata": {},
     "output_type": "execute_result"
    }
   ],
   "source": [
    "vlans"
   ]
  },
  {
   "cell_type": "code",
   "execution_count": 317,
   "id": "265ffc88",
   "metadata": {},
   "outputs": [
    {
     "data": {
      "text/plain": [
       "{10, 20, 30, 40, 100, 200, 300}"
      ]
     },
     "execution_count": 317,
     "metadata": {},
     "output_type": "execute_result"
    }
   ],
   "source": [
    "vlans.add(300)\n",
    "vlans"
   ]
  },
  {
   "cell_type": "code",
   "execution_count": 318,
   "id": "c9626892",
   "metadata": {},
   "outputs": [],
   "source": [
    "#Didcard - удал. несущ элемента без ошибки "
   ]
  },
  {
   "cell_type": "code",
   "execution_count": 320,
   "id": "a307d6d2",
   "metadata": {},
   "outputs": [
    {
     "data": {
      "text/plain": [
       "{10, 20, 30, 40, 100, 200, 300}"
      ]
     },
     "execution_count": 320,
     "metadata": {},
     "output_type": "execute_result"
    }
   ],
   "source": [
    "vlans.discard(400)\n",
    "vlans"
   ]
  },
  {
   "cell_type": "code",
   "execution_count": 322,
   "id": "ea89037a",
   "metadata": {},
   "outputs": [
    {
     "data": {
      "text/plain": [
       "{10, 20, 30, 40, 100, 200, 300}"
      ]
     },
     "execution_count": 322,
     "metadata": {},
     "output_type": "execute_result"
    }
   ],
   "source": [
    "vlans.discard(500)\n",
    "vlans"
   ]
  },
  {
   "cell_type": "code",
   "execution_count": 324,
   "id": "baf68ed0",
   "metadata": {},
   "outputs": [
    {
     "data": {
      "text/plain": [
       "{10, 20, 30, 40, 100, 200}"
      ]
     },
     "execution_count": 324,
     "metadata": {},
     "output_type": "execute_result"
    }
   ],
   "source": [
    "vlans.discard(300)\n",
    "vlans"
   ]
  },
  {
   "cell_type": "code",
   "execution_count": 325,
   "id": "9c75e6a5",
   "metadata": {},
   "outputs": [],
   "source": [
    "#Clear - очищение всего множества."
   ]
  },
  {
   "cell_type": "code",
   "execution_count": 327,
   "id": "9178999e",
   "metadata": {},
   "outputs": [
    {
     "data": {
      "text/plain": [
       "{10, 20, 30, 40, 100, 200}"
      ]
     },
     "execution_count": 327,
     "metadata": {},
     "output_type": "execute_result"
    }
   ],
   "source": [
    "vlans"
   ]
  },
  {
   "cell_type": "code",
   "execution_count": 328,
   "id": "1359b9cc",
   "metadata": {},
   "outputs": [
    {
     "data": {
      "text/plain": [
       "[1000, 2000]"
      ]
     },
     "execution_count": 328,
     "metadata": {},
     "output_type": "execute_result"
    }
   ],
   "source": [
    "vlans2"
   ]
  },
  {
   "cell_type": "code",
   "execution_count": 329,
   "id": "0037f846",
   "metadata": {},
   "outputs": [
    {
     "data": {
      "text/plain": [
       "[3000, 4000, 5000, 6000]"
      ]
     },
     "execution_count": 329,
     "metadata": {},
     "output_type": "execute_result"
    }
   ],
   "source": [
    "vlans3"
   ]
  },
  {
   "cell_type": "code",
   "execution_count": 332,
   "id": "46607843",
   "metadata": {},
   "outputs": [
    {
     "data": {
      "text/plain": [
       "set()"
      ]
     },
     "execution_count": 332,
     "metadata": {},
     "output_type": "execute_result"
    }
   ],
   "source": [
    "vlans.clear()\n",
    "vlans"
   ]
  },
  {
   "cell_type": "code",
   "execution_count": 339,
   "id": "180d0231",
   "metadata": {},
   "outputs": [],
   "source": [
    "#Union"
   ]
  },
  {
   "cell_type": "code",
   "execution_count": 348,
   "id": "c030c137",
   "metadata": {},
   "outputs": [
    {
     "data": {
      "text/plain": [
       "{10, 20, 30, 40, 100, 200, 300}"
      ]
     },
     "execution_count": 348,
     "metadata": {},
     "output_type": "execute_result"
    }
   ],
   "source": [
    "vlans1 = {10, 20, 30, 40, 100}\n",
    "vlans2 = {200, 300}\n",
    "vlans_all = vlans1.union(vlans2)\n",
    "vlans_all"
   ]
  },
  {
   "cell_type": "code",
   "execution_count": 340,
   "id": "ec9cd4d3",
   "metadata": {},
   "outputs": [],
   "source": [
    "#Intersection"
   ]
  },
  {
   "cell_type": "code",
   "execution_count": 349,
   "id": "385ce43c",
   "metadata": {},
   "outputs": [
    {
     "data": {
      "text/plain": [
       "{10, 20}"
      ]
     },
     "execution_count": 349,
     "metadata": {},
     "output_type": "execute_result"
    }
   ],
   "source": [
    "vlans1 = {10, 20, 30, 40, 100}\n",
    "vlans2 = {10, 20, 200, 300}\n",
    "vlans_all = vlans1.intersection(vlans2)\n",
    "vlans_all"
   ]
  },
  {
   "cell_type": "code",
   "execution_count": 351,
   "id": "b2e1f80d",
   "metadata": {},
   "outputs": [],
   "source": [
    "#Созд. множества из литерала невозможно - создается словарь:"
   ]
  },
  {
   "cell_type": "code",
   "execution_count": 352,
   "id": "2e932a6f",
   "metadata": {},
   "outputs": [
    {
     "data": {
      "text/plain": [
       "dict"
      ]
     },
     "execution_count": 352,
     "metadata": {},
     "output_type": "execute_result"
    }
   ],
   "source": [
    "set1 = {}\n",
    "type(set1)"
   ]
  },
  {
   "cell_type": "code",
   "execution_count": 353,
   "id": "691154ca",
   "metadata": {},
   "outputs": [],
   "source": [
    "#создаём с пом. set():"
   ]
  },
  {
   "cell_type": "code",
   "execution_count": 354,
   "id": "ea729187",
   "metadata": {},
   "outputs": [
    {
     "data": {
      "text/plain": [
       "set"
      ]
     },
     "execution_count": 354,
     "metadata": {},
     "output_type": "execute_result"
    }
   ],
   "source": [
    "set1 = set()\n",
    "type(set1)"
   ]
  },
  {
   "cell_type": "code",
   "execution_count": 355,
   "id": "96444b25",
   "metadata": {},
   "outputs": [],
   "source": [
    "#from str:"
   ]
  },
  {
   "cell_type": "code",
   "execution_count": 360,
   "id": "9da0997d",
   "metadata": {},
   "outputs": [
    {
     "data": {
      "text/plain": [
       "{'g', 'i', 'l', 'n', 'o', 'r', 's', 't'}"
      ]
     },
     "execution_count": 360,
     "metadata": {},
     "output_type": "execute_result"
    }
   ],
   "source": [
    "set_fromstring = set(\"longstring\")\n",
    "set_fromstring"
   ]
  },
  {
   "cell_type": "code",
   "execution_count": 358,
   "id": "dacc451a",
   "metadata": {},
   "outputs": [],
   "source": [
    "#from list:"
   ]
  },
  {
   "cell_type": "code",
   "execution_count": 361,
   "id": "9b4548bb",
   "metadata": {},
   "outputs": [
    {
     "data": {
      "text/plain": [
       "{10, 20, 30, 40}"
      ]
     },
     "execution_count": 361,
     "metadata": {},
     "output_type": "execute_result"
    }
   ],
   "source": [
    "set_fromlist = set([10, 20, 30, 40])\n",
    "set_fromlist"
   ]
  },
  {
   "cell_type": "code",
   "execution_count": 362,
   "id": "93a6176d",
   "metadata": {},
   "outputs": [
    {
     "data": {
      "text/plain": [
       "10"
      ]
     },
     "execution_count": 362,
     "metadata": {},
     "output_type": "execute_result"
    }
   ],
   "source": [
    "int(\"10\")"
   ]
  },
  {
   "cell_type": "code",
   "execution_count": 363,
   "id": "f145c334",
   "metadata": {},
   "outputs": [],
   "source": [
    "#Change of types"
   ]
  },
  {
   "cell_type": "code",
   "execution_count": 364,
   "id": "585779af",
   "metadata": {},
   "outputs": [
    {
     "data": {
      "text/plain": [
       "10"
      ]
     },
     "execution_count": 364,
     "metadata": {},
     "output_type": "execute_result"
    }
   ],
   "source": [
    "int(\"10\")"
   ]
  },
  {
   "cell_type": "code",
   "execution_count": null,
   "id": "4d483b59",
   "metadata": {},
   "outputs": [],
   "source": [
    "# 2--->10"
   ]
  },
  {
   "cell_type": "code",
   "execution_count": 366,
   "id": "ebd0b48e",
   "metadata": {},
   "outputs": [
    {
     "data": {
      "text/plain": [
       "255"
      ]
     },
     "execution_count": 366,
     "metadata": {},
     "output_type": "execute_result"
    }
   ],
   "source": [
    "int(\"11111111\", 2)"
   ]
  },
  {
   "cell_type": "code",
   "execution_count": null,
   "id": "46ad6f23",
   "metadata": {},
   "outputs": [],
   "source": [
    "# 10--->2"
   ]
  },
  {
   "cell_type": "code",
   "execution_count": 367,
   "id": "e3792b14",
   "metadata": {},
   "outputs": [
    {
     "data": {
      "text/plain": [
       "'0b1010'"
      ]
     },
     "execution_count": 367,
     "metadata": {},
     "output_type": "execute_result"
    }
   ],
   "source": [
    "bin(10)"
   ]
  },
  {
   "cell_type": "code",
   "execution_count": 370,
   "id": "8cd37915",
   "metadata": {},
   "outputs": [],
   "source": [
    "# 10-->16"
   ]
  },
  {
   "cell_type": "code",
   "execution_count": 368,
   "id": "ee5cd0fc",
   "metadata": {},
   "outputs": [
    {
     "data": {
      "text/plain": [
       "'0xa'"
      ]
     },
     "execution_count": 368,
     "metadata": {},
     "output_type": "execute_result"
    }
   ],
   "source": [
    "hex(10)"
   ]
  },
  {
   "cell_type": "code",
   "execution_count": 369,
   "id": "81836226",
   "metadata": {},
   "outputs": [
    {
     "data": {
      "text/plain": [
       "'0xff'"
      ]
     },
     "execution_count": 369,
     "metadata": {},
     "output_type": "execute_result"
    }
   ],
   "source": [
    "hex(255)"
   ]
  },
  {
   "cell_type": "code",
   "execution_count": 372,
   "id": "f646efed",
   "metadata": {},
   "outputs": [
    {
     "data": {
      "text/plain": [
       "[1, 2, 3]"
      ]
     },
     "execution_count": 372,
     "metadata": {},
     "output_type": "execute_result"
    }
   ],
   "source": [
    "list({1, 2 ,3})"
   ]
  },
  {
   "cell_type": "code",
   "execution_count": 373,
   "id": "a87bd697",
   "metadata": {},
   "outputs": [
    {
     "data": {
      "text/plain": [
       "[1, 2, 3]"
      ]
     },
     "execution_count": 373,
     "metadata": {},
     "output_type": "execute_result"
    }
   ],
   "source": [
    "list((1, 2, 3))"
   ]
  },
  {
   "cell_type": "code",
   "execution_count": 374,
   "id": "eac73d2f",
   "metadata": {},
   "outputs": [
    {
     "data": {
      "text/plain": [
       "['s', 't', 'r', 'i', 'n', 'g']"
      ]
     },
     "execution_count": 374,
     "metadata": {},
     "output_type": "execute_result"
    }
   ],
   "source": [
    "list(\"string\")"
   ]
  },
  {
   "cell_type": "code",
   "execution_count": 375,
   "id": "a88a64d4",
   "metadata": {},
   "outputs": [
    {
     "data": {
      "text/plain": [
       "{1, 2, 3, 4, 5}"
      ]
     },
     "execution_count": 375,
     "metadata": {},
     "output_type": "execute_result"
    }
   ],
   "source": [
    "set([1, 2, 3, 4, 5])"
   ]
  },
  {
   "cell_type": "code",
   "execution_count": 377,
   "id": "7747a46a",
   "metadata": {},
   "outputs": [
    {
     "data": {
      "text/plain": [
       "{' ', ',', '1', '2', '3'}"
      ]
     },
     "execution_count": 377,
     "metadata": {},
     "output_type": "execute_result"
    }
   ],
   "source": [
    "set(\"1, 2, 3\")"
   ]
  },
  {
   "cell_type": "code",
   "execution_count": 378,
   "id": "e4b374c8",
   "metadata": {},
   "outputs": [
    {
     "data": {
      "text/plain": [
       "{'g', 'i', 'n', 'r', 's', 't'}"
      ]
     },
     "execution_count": 378,
     "metadata": {},
     "output_type": "execute_result"
    }
   ],
   "source": [
    "set(\"string\")"
   ]
  },
  {
   "cell_type": "code",
   "execution_count": 379,
   "id": "009afcc7",
   "metadata": {},
   "outputs": [
    {
     "data": {
      "text/plain": [
       "(1, 2, 3, 4)"
      ]
     },
     "execution_count": 379,
     "metadata": {},
     "output_type": "execute_result"
    }
   ],
   "source": [
    "tuple([1, 2, 3, 4])"
   ]
  },
  {
   "cell_type": "code",
   "execution_count": 384,
   "id": "4c63b8ba",
   "metadata": {},
   "outputs": [
    {
     "data": {
      "text/plain": [
       "('b', 'a', 'c')"
      ]
     },
     "execution_count": 384,
     "metadata": {},
     "output_type": "execute_result"
    }
   ],
   "source": [
    "tuple({\"a\", \"b\", \"c\"})"
   ]
  },
  {
   "cell_type": "code",
   "execution_count": 388,
   "id": "841d0028",
   "metadata": {},
   "outputs": [
    {
     "data": {
      "text/plain": [
       "('s', 't', 'r', 'i', 'n', 'g')"
      ]
     },
     "execution_count": 388,
     "metadata": {},
     "output_type": "execute_result"
    }
   ],
   "source": [
    "tuple(\"string\")"
   ]
  },
  {
   "cell_type": "code",
   "execution_count": 389,
   "id": "bf8d5d03",
   "metadata": {},
   "outputs": [
    {
     "ename": "ValueError",
     "evalue": "invalid literal for int() with base 10: 'a'",
     "output_type": "error",
     "traceback": [
      "\u001b[1;31m---------------------------------------------------------------------------\u001b[0m",
      "\u001b[1;31mValueError\u001b[0m                                Traceback (most recent call last)",
      "\u001b[1;32m<ipython-input-389-d9136db7b558>\u001b[0m in \u001b[0;36m<module>\u001b[1;34m\u001b[0m\n\u001b[1;32m----> 1\u001b[1;33m \u001b[0mint\u001b[0m\u001b[1;33m(\u001b[0m\u001b[1;34m\"a\"\u001b[0m\u001b[1;33m)\u001b[0m\u001b[1;33m\u001b[0m\u001b[1;33m\u001b[0m\u001b[0m\n\u001b[0m",
      "\u001b[1;31mValueError\u001b[0m: invalid literal for int() with base 10: 'a'"
     ]
    }
   ],
   "source": [
    "int(\"a\")"
   ]
  },
  {
   "cell_type": "code",
   "execution_count": 390,
   "id": "578efcc9",
   "metadata": {},
   "outputs": [
    {
     "data": {
      "text/plain": [
       "False"
      ]
     },
     "execution_count": 390,
     "metadata": {},
     "output_type": "execute_result"
    }
   ],
   "source": [
    "\"a\".isdigit()"
   ]
  },
  {
   "cell_type": "code",
   "execution_count": 392,
   "id": "fc8fecd1",
   "metadata": {},
   "outputs": [
    {
     "data": {
      "text/plain": [
       "True"
      ]
     },
     "execution_count": 392,
     "metadata": {},
     "output_type": "execute_result"
    }
   ],
   "source": [
    "\"0\".isdigit()"
   ]
  },
  {
   "cell_type": "code",
   "execution_count": 393,
   "id": "02fd29b9",
   "metadata": {},
   "outputs": [
    {
     "data": {
      "text/plain": [
       "True"
      ]
     },
     "execution_count": 393,
     "metadata": {},
     "output_type": "execute_result"
    }
   ],
   "source": [
    "\"a\".isalpha()"
   ]
  },
  {
   "cell_type": "code",
   "execution_count": 394,
   "id": "5fa77ab7",
   "metadata": {},
   "outputs": [
    {
     "data": {
      "text/plain": [
       "False"
      ]
     },
     "execution_count": 394,
     "metadata": {},
     "output_type": "execute_result"
    }
   ],
   "source": [
    "\"a199\".isalpha()"
   ]
  },
  {
   "cell_type": "code",
   "execution_count": 395,
   "id": "9e969ede",
   "metadata": {},
   "outputs": [
    {
     "data": {
      "text/plain": [
       "True"
      ]
     },
     "execution_count": 395,
     "metadata": {},
     "output_type": "execute_result"
    }
   ],
   "source": [
    "\"a199\".isalnum()"
   ]
  },
  {
   "cell_type": "code",
   "execution_count": 396,
   "id": "29bd37b9",
   "metadata": {},
   "outputs": [
    {
     "data": {
      "text/plain": [
       "True"
      ]
     },
     "execution_count": 396,
     "metadata": {},
     "output_type": "execute_result"
    }
   ],
   "source": [
    "\"a\".isalnum()"
   ]
  },
  {
   "cell_type": "code",
   "execution_count": 397,
   "id": "408bfb4e",
   "metadata": {},
   "outputs": [
    {
     "data": {
      "text/plain": [
       "True"
      ]
     },
     "execution_count": 397,
     "metadata": {},
     "output_type": "execute_result"
    }
   ],
   "source": [
    "\"199\".isalnum()"
   ]
  },
  {
   "cell_type": "code",
   "execution_count": 398,
   "id": "3d6abe7a",
   "metadata": {},
   "outputs": [
    {
     "data": {
      "text/plain": [
       "str"
      ]
     },
     "execution_count": 398,
     "metadata": {},
     "output_type": "execute_result"
    }
   ],
   "source": [
    "type(\"string\")"
   ]
  },
  {
   "cell_type": "code",
   "execution_count": 400,
   "id": "c9833060",
   "metadata": {},
   "outputs": [
    {
     "data": {
      "text/plain": [
       "True"
      ]
     },
     "execution_count": 400,
     "metadata": {},
     "output_type": "execute_result"
    }
   ],
   "source": [
    "type(\"string\") == str"
   ]
  },
  {
   "cell_type": "code",
   "execution_count": 401,
   "id": "e1e14200",
   "metadata": {},
   "outputs": [
    {
     "data": {
      "text/plain": [
       "True"
      ]
     },
     "execution_count": 401,
     "metadata": {},
     "output_type": "execute_result"
    }
   ],
   "source": [
    "type({1, 2, 3}) == set"
   ]
  },
  {
   "cell_type": "code",
   "execution_count": 402,
   "id": "e8160301",
   "metadata": {},
   "outputs": [
    {
     "data": {
      "text/plain": [
       "False"
      ]
     },
     "execution_count": 402,
     "metadata": {},
     "output_type": "execute_result"
    }
   ],
   "source": [
    "type((1, 2, 3)) == set"
   ]
  },
  {
   "cell_type": "code",
   "execution_count": 404,
   "id": "3769a676",
   "metadata": {},
   "outputs": [
    {
     "data": {
      "text/plain": [
       "False"
      ]
     },
     "execution_count": 404,
     "metadata": {},
     "output_type": "execute_result"
    }
   ],
   "source": [
    "type((1, 2, 3)) == str"
   ]
  },
  {
   "cell_type": "code",
   "execution_count": 405,
   "id": "2a79e1f9",
   "metadata": {},
   "outputs": [
    {
     "data": {
      "text/plain": [
       "True"
      ]
     },
     "execution_count": 405,
     "metadata": {},
     "output_type": "execute_result"
    }
   ],
   "source": [
    "type((1, 2, 3)) == tuple"
   ]
  },
  {
   "cell_type": "code",
   "execution_count": 410,
   "id": "b88d7e0c",
   "metadata": {},
   "outputs": [
    {
     "data": {
      "text/plain": [
       "['sw', 'trunk', 'allowed', 'vlan', '10,20,30']"
      ]
     },
     "execution_count": 410,
     "metadata": {},
     "output_type": "execute_result"
    }
   ],
   "source": [
    "line = \"sw trunk allowed vlan 10,20,30\"\n",
    "word = line.split()\n",
    "word"
   ]
  },
  {
   "cell_type": "code",
   "execution_count": 411,
   "id": "041e816c",
   "metadata": {},
   "outputs": [
    {
     "data": {
      "text/plain": [
       "'10,20,30'"
      ]
     },
     "execution_count": 411,
     "metadata": {},
     "output_type": "execute_result"
    }
   ],
   "source": [
    "word[-1]"
   ]
  },
  {
   "cell_type": "code",
   "execution_count": 414,
   "id": "b703feaa",
   "metadata": {},
   "outputs": [
    {
     "data": {
      "text/plain": [
       "['10,20,30']"
      ]
     },
     "execution_count": 414,
     "metadata": {},
     "output_type": "execute_result"
    }
   ],
   "source": [
    "vlans = word[-1].split()\n",
    "vlans"
   ]
  },
  {
   "cell_type": "code",
   "execution_count": 415,
   "id": "650a7f69",
   "metadata": {},
   "outputs": [],
   "source": [
    "#Sorted of data"
   ]
  },
  {
   "cell_type": "code",
   "execution_count": null,
   "id": "ab17f551",
   "metadata": {},
   "outputs": [],
   "source": []
  }
 ],
 "metadata": {
  "kernelspec": {
   "display_name": "Python 3",
   "language": "python",
   "name": "python3"
  },
  "language_info": {
   "codemirror_mode": {
    "name": "ipython",
    "version": 3
   },
   "file_extension": ".py",
   "mimetype": "text/x-python",
   "name": "python",
   "nbconvert_exporter": "python",
   "pygments_lexer": "ipython3",
   "version": "3.6.9"
  }
 },
 "nbformat": 4,
 "nbformat_minor": 5
}
